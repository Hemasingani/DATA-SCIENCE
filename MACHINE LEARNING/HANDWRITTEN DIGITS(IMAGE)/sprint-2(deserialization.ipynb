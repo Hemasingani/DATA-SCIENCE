{
 "cells": [
  {
   "cell_type": "markdown",
   "id": "fc87cbaa",
   "metadata": {},
   "source": [
    "# SPIRINT-2 DE-SERIALAIZATION:"
   ]
  },
  {
   "cell_type": "code",
   "execution_count": 1,
   "id": "3d4e3bbd",
   "metadata": {},
   "outputs": [],
   "source": [
    "import numpy as np\n",
    "import pandas as pd\n",
    "import matplotlib.pyplot as plt\n",
    "import matplotlib.image as img\n",
    "import seaborn as sns\n",
    "import warnings\n",
    "warnings.filterwarnings('ignore')\n",
    "import PIL\n",
    "import os\n",
    "from PIL import Image\n"
   ]
  },
  {
   "cell_type": "code",
   "execution_count": 2,
   "id": "b341e496",
   "metadata": {},
   "outputs": [],
   "source": [
    "#here we are load the images(because we have to store the images to HDD)"
   ]
  },
  {
   "cell_type": "code",
   "execution_count": 3,
   "id": "4dfe599a",
   "metadata": {},
   "outputs": [],
   "source": [
    "#!PIP install PILLOW"
   ]
  },
  {
   "cell_type": "code",
   "execution_count": 4,
   "id": "bc5ffda8",
   "metadata": {},
   "outputs": [],
   "source": [
    "from pickle import load"
   ]
  },
  {
   "cell_type": "code",
   "execution_count": 5,
   "id": "60edc99e",
   "metadata": {},
   "outputs": [],
   "source": [
    "s1=load(open(r'C:\\Users\\dell\\Desktop\\MACHINE LEARNING PROJECTS\\ml-handwritten-sprint1\\Image data\\random forest.pkl','rb'))\n",
    "\n",
    "#for random forest"
   ]
  },
  {
   "cell_type": "code",
   "execution_count": 6,
   "id": "3f804a70",
   "metadata": {},
   "outputs": [],
   "source": [
    "s2 = load(open(r'C:\\Users\\dell\\Desktop\\MACHINE LEARNING PROJECTS\\ml-handwritten-sprint1\\Image data\\knn_classifier.pkl','rb'))\n",
    "\n",
    "#KNN CLASSIFIER"
   ]
  },
  {
   "cell_type": "code",
   "execution_count": 7,
   "id": "a1ef20cf",
   "metadata": {},
   "outputs": [],
   "source": [
    "s3=load(open(r'C:\\Users\\dell\\Desktop\\MACHINE LEARNING PROJECTS\\ml-handwritten-sprint1\\Image data\\logistic_regression.pkl','rb'))\n",
    "\n",
    "#for logistic regression\n"
   ]
  },
  {
   "cell_type": "code",
   "execution_count": 21,
   "id": "e77f9857",
   "metadata": {},
   "outputs": [],
   "source": [
    "s4=load(open(r'C:\\Users\\dell\\Desktop\\MACHINE LEARNING PROJECTS\\ml-handwritten-sprint1\\Image data\\decision tree.pkl','rb'))\n",
    "\n",
    "#for Decision tree"
   ]
  },
  {
   "cell_type": "code",
   "execution_count": 9,
   "id": "58387356",
   "metadata": {},
   "outputs": [],
   "source": [
    "#here we are taking one img:\n",
    "img1=Image.open(r\"C:\\Users\\dell\\Desktop\\MACHINE LEARNING PROJECTS\\ml-handwritten-sprint1\\Image data\\sample_imgs\\imgs\\0.PNG\")\n",
    "img1.thumbnail((28,28))\n",
    "img_resize=img1.resize((28,28))\n",
    "array=np.array(img_resize)\n"
   ]
  },
  {
   "cell_type": "code",
   "execution_count": 10,
   "id": "2f619b4e",
   "metadata": {},
   "outputs": [],
   "source": [
    "two_d=array[:,:,0]\n",
    "\n",
    "one_d=two_d.flatten()"
   ]
  },
  {
   "cell_type": "code",
   "execution_count": 11,
   "id": "d52a37ff",
   "metadata": {},
   "outputs": [
    {
     "data": {
      "text/plain": [
       "(28, 28)"
      ]
     },
     "execution_count": 11,
     "metadata": {},
     "output_type": "execute_result"
    }
   ],
   "source": [
    "two_d.shape"
   ]
  },
  {
   "cell_type": "code",
   "execution_count": 12,
   "id": "71ffbf97",
   "metadata": {},
   "outputs": [],
   "source": [
    "array=np.array(one_d)"
   ]
  },
  {
   "cell_type": "code",
   "execution_count": 13,
   "id": "4e942423",
   "metadata": {},
   "outputs": [
    {
     "data": {
      "text/plain": [
       "array([  0,   0,   0,   0,   0,   0,   0,   0,   0,   0,   0,   0,   0,\n",
       "         0,   0,   0,   0,   0,   0,   0,   0,   0,   0,   0,   0,   0,\n",
       "         0,   0,   0,   0,   0,   0,   0,   0,   0,   0,   0,   0,   0,\n",
       "         0,   0,   0,   0,   0,   0,   0,   0,   0,   0,   0,   0,   0,\n",
       "         0,   0,   0,   0,   0,   0,   0,   0,   0,   0,   0,   0,   0,\n",
       "         0,   0,   0,   0,   0,   0,   0,   0,   0,   0,   0,   0,   0,\n",
       "         0,   0,   0,   0,   0,   0,   0,   0,   0,   0,   0,   0,   0,\n",
       "         0,   0,   0,   0,   0,   0,   0,   0,   0,   0,   0,   0,   0,\n",
       "         0,   0,   0,   0,   0,   0,   0,   0,   0,   0,   0,   0,   0,\n",
       "         0,   0,   0,   0,   0,   0,   0,   0,   0,   0,   0,   0,   0,\n",
       "         0,   0,   0,   0,   0,   0,   0,   0,   0,   0,   0,   0,   0,\n",
       "         0,   0,   0,   0,   0,   0,   0,   0,   0,   5,   0,   0,   0,\n",
       "         0,   0,   0,   0,   0,   0,   0,   0,   0,   0,   0,   0,   0,\n",
       "         0,   0,   0,   0,   0,   0,   0,   0,   0,   5, 126, 205, 184,\n",
       "        20,   0,   0,   0,   0,   0,   0,   0,   0,   0,   0,   0,   0,\n",
       "         0,   0,   0,   0,   0,   0,   0,   0,   0,   0,   6, 162, 236,\n",
       "       220, 255, 189,  94,  14,   0,   0,   0,   0,   0,   0,   0,   0,\n",
       "         0,   0,   0,   0,   0,   0,   0,   0,   0,   0,   0,   0, 137,\n",
       "       242,  97,  48, 111, 188, 227, 200,  93,   1,   0,   0,   0,   0,\n",
       "         0,   0,   0,   0,   0,   0,   0,   0,   0,   0,   0,   0,   0,\n",
       "        65, 245, 120,   5,   0,   9,  43,  90, 183, 229, 151,  10,   0,\n",
       "         0,   0,   0,   0,   0,   0,   0,   0,   0,   0,   0,   0,   0,\n",
       "         0,   5, 189, 203,  15,   0,   0,   0,   0,   0,  40, 118, 244,\n",
       "        88,   0,   0,   0,   0,   0,   0,   0,   0,   0,   0,   0,   0,\n",
       "         0,   0,   0,  67, 252,  81,   0,   0,   0,   0,   0,   0,   0,\n",
       "         6, 198, 186,   0,   0,   0,   0,   0,   0,   0,   0,   0,   0,\n",
       "         0,   0,   0,   0,   0, 155, 216,   8,   0,   0,   0,   0,   0,\n",
       "         0,   0,   0,  96, 250,  86,   0,   0,   0,   0,   0,   0,   0,\n",
       "         0,   0,   0,   0,   0,   0,   5, 215, 147,   0,   0,   0,   0,\n",
       "         0,   0,   0,   0,   0,  18, 173, 216,  63,   0,   0,   0,   0,\n",
       "         0,   0,   0,   0,   0,   0,   0,   0,  14, 236, 104,   0,   0,\n",
       "         0,   0,   0,   0,   0,   0,   0,   0,  37, 232, 148,   0,   0,\n",
       "         0,   0,   0,   0,   0,   0,   0,   0,   0,   0,  17, 237,  95,\n",
       "         0,   0,   0,   0,   0,   0,   0,   0,   0,   0,   0, 213, 148,\n",
       "         0,   0,   0,   0,   0,   0,   0,   0,   0,   0,   0,   0,  16,\n",
       "       238,  94,   0,   0,   0,   0,   0,   0,   0,   0,   0,   0,  21,\n",
       "       242,  99,   0,   0,   0,   0,   0,   0,   0,   0,   0,   0,   0,\n",
       "         0,  11, 229, 128,   0,   0,   0,   0,   0,   0,   0,   0,   0,\n",
       "         0,  68, 255,  50,   0,   0,   0,   0,   0,   0,   0,   0,   0,\n",
       "         0,   0,   0,   0, 160, 217,  24,   0,   0,   0,   0,   0,   0,\n",
       "         0,   0,   3, 161, 220,  11,   0,   0,   0,   0,   0,   0,   0,\n",
       "         0,   0,   0,   0,   0,   0,  44, 238, 148,  25,   0,   0,   0,\n",
       "         0,   0,   0,  10,  87, 244, 111,   0,   0,   0,   0,   0,   0,\n",
       "         0,   0,   0,   0,   0,   0,   0,   0,   0, 115, 244, 156,  61,\n",
       "        36,  28,  27,  28,  42, 113, 234, 171,  10,   0,   0,   0,   0,\n",
       "         0,   0,   0,   0,   0,   0,   0,   0,   0,   0,   0,   0, 113,\n",
       "       223, 226, 188, 163, 162, 164, 205, 240, 155,  12,   0,   0,   0,\n",
       "         0,   0,   0,   0,   0,   0,   0,   0,   0,   0,   0,   0,   0,\n",
       "         0,   0,  28, 124, 172, 193, 193, 193, 157,  76,   0,   0,   0,\n",
       "         0,   0,   0,   0,   0,   0,   0,   0,   0,   0,   0,   0,   0,\n",
       "         0,   0,   0,   0,   0,   0,   0,   0,   0,   0,   0,   0,   0,\n",
       "         0,   0,   0,   0,   0,   0,   0,   0,   0,   0,   0,   0,   0,\n",
       "         0,   0,   0,   0,   0,   0,   0,   0,   0,   0,   0,   0,   0,\n",
       "         0,   0,   0,   0,   0,   0,   0,   0,   0,   0,   0,   0,   0,\n",
       "         0,   0,   0,   0,   0,   0,   0,   0,   0,   0,   0,   0,   0,\n",
       "         0,   0,   0,   0,   0,   0,   0,   0,   0,   0,   0,   0,   0,\n",
       "         0,   0,   0,   0,   0,   0,   0,   0,   0,   0,   0,   0,   0,\n",
       "         0,   0,   0,   0,   0,   0,   0,   0,   0,   0,   0,   0,   0,\n",
       "         0,   0,   0,   0,   0,   0,   0,   0,   0,   0,   0,   0,   0,\n",
       "         0,   0,   0,   0,   0,   0,   0,   0,   0,   0,   0,   0,   0,\n",
       "         0,   0,   0,   0], dtype=uint8)"
      ]
     },
     "execution_count": 13,
     "metadata": {},
     "output_type": "execute_result"
    }
   ],
   "source": [
    "array"
   ]
  },
  {
   "cell_type": "code",
   "execution_count": 14,
   "id": "6a5e06be",
   "metadata": {},
   "outputs": [],
   "source": [
    "a = array.reshape(1,-1) "
   ]
  },
  {
   "cell_type": "code",
   "execution_count": 15,
   "id": "8c0b0a58",
   "metadata": {},
   "outputs": [
    {
     "data": {
      "text/plain": [
       "(1, 784)"
      ]
     },
     "execution_count": 15,
     "metadata": {},
     "output_type": "execute_result"
    }
   ],
   "source": [
    "a.shape"
   ]
  },
  {
   "cell_type": "code",
   "execution_count": 16,
   "id": "3502512c",
   "metadata": {},
   "outputs": [
    {
     "data": {
      "text/plain": [
       "array([0], dtype=int64)"
      ]
     },
     "execution_count": 16,
     "metadata": {},
     "output_type": "execute_result"
    }
   ],
   "source": [
    "s1.predict(a) #for random forest\n"
   ]
  },
  {
   "cell_type": "code",
   "execution_count": 17,
   "id": "ba9834ee",
   "metadata": {},
   "outputs": [
    {
     "data": {
      "text/plain": [
       "array([0], dtype=int64)"
      ]
     },
     "execution_count": 17,
     "metadata": {},
     "output_type": "execute_result"
    }
   ],
   "source": [
    "s2.predict(a) #KNN classifier\n"
   ]
  },
  {
   "cell_type": "code",
   "execution_count": 18,
   "id": "a4acb0ed",
   "metadata": {},
   "outputs": [
    {
     "data": {
      "text/plain": [
       "array([0], dtype=int64)"
      ]
     },
     "execution_count": 18,
     "metadata": {},
     "output_type": "execute_result"
    }
   ],
   "source": [
    "s3.predict(a) #logistic regression\n"
   ]
  },
  {
   "cell_type": "code",
   "execution_count": 22,
   "id": "8517ff3f",
   "metadata": {},
   "outputs": [
    {
     "data": {
      "text/plain": [
       "array([8], dtype=int64)"
      ]
     },
     "execution_count": 22,
     "metadata": {},
     "output_type": "execute_result"
    }
   ],
   "source": [
    "s4.predict(a) #decision tree\n"
   ]
  },
  {
   "cell_type": "code",
   "execution_count": 1,
   "id": "f3e09691",
   "metadata": {},
   "outputs": [],
   "source": [
    "#for image[0] rfc,knn,logistic is giving same predicted output.but decision is not giving the same predicted output."
   ]
  },
  {
   "cell_type": "code",
   "execution_count": null,
   "id": "f14b042f",
   "metadata": {},
   "outputs": [],
   "source": []
  }
 ],
 "metadata": {
  "kernelspec": {
   "display_name": "Python 3 (ipykernel)",
   "language": "python",
   "name": "python3"
  },
  "language_info": {
   "codemirror_mode": {
    "name": "ipython",
    "version": 3
   },
   "file_extension": ".py",
   "mimetype": "text/x-python",
   "name": "python",
   "nbconvert_exporter": "python",
   "pygments_lexer": "ipython3",
   "version": "3.9.7"
  }
 },
 "nbformat": 4,
 "nbformat_minor": 5
}
