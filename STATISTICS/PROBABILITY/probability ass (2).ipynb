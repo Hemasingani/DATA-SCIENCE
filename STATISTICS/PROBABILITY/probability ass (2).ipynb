{
 "cells": [
  {
   "cell_type": "markdown",
   "id": "658961cd",
   "metadata": {},
   "source": [
    "# PROBABILITY ASSIGNMENT"
   ]
  },
  {
   "cell_type": "code",
   "execution_count": 1,
   "id": "14b7905d",
   "metadata": {},
   "outputs": [],
   "source": [
    "import pandas as pd\n",
    "import numpy as np"
   ]
  },
  {
   "cell_type": "code",
   "execution_count": 18,
   "id": "4bb19344",
   "metadata": {},
   "outputs": [
    {
     "data": {
      "text/html": [
       "<div>\n",
       "<style scoped>\n",
       "    .dataframe tbody tr th:only-of-type {\n",
       "        vertical-align: middle;\n",
       "    }\n",
       "\n",
       "    .dataframe tbody tr th {\n",
       "        vertical-align: top;\n",
       "    }\n",
       "\n",
       "    .dataframe thead th {\n",
       "        text-align: right;\n",
       "    }\n",
       "</style>\n",
       "<table border=\"1\" class=\"dataframe\">\n",
       "  <thead>\n",
       "    <tr style=\"text-align: right;\">\n",
       "      <th></th>\n",
       "      <th>BMI</th>\n",
       "      <th>IsDiabetic</th>\n",
       "    </tr>\n",
       "  </thead>\n",
       "  <tbody>\n",
       "    <tr>\n",
       "      <th>0</th>\n",
       "      <td>33.6</td>\n",
       "      <td>1</td>\n",
       "    </tr>\n",
       "    <tr>\n",
       "      <th>1</th>\n",
       "      <td>26.6</td>\n",
       "      <td>0</td>\n",
       "    </tr>\n",
       "    <tr>\n",
       "      <th>2</th>\n",
       "      <td>23.3</td>\n",
       "      <td>1</td>\n",
       "    </tr>\n",
       "    <tr>\n",
       "      <th>3</th>\n",
       "      <td>28.1</td>\n",
       "      <td>0</td>\n",
       "    </tr>\n",
       "    <tr>\n",
       "      <th>4</th>\n",
       "      <td>43.1</td>\n",
       "      <td>1</td>\n",
       "    </tr>\n",
       "    <tr>\n",
       "      <th>5</th>\n",
       "      <td>25.6</td>\n",
       "      <td>0</td>\n",
       "    </tr>\n",
       "  </tbody>\n",
       "</table>\n",
       "</div>"
      ],
      "text/plain": [
       "    BMI  IsDiabetic\n",
       "0  33.6           1\n",
       "1  26.6           0\n",
       "2  23.3           1\n",
       "3  28.1           0\n",
       "4  43.1           1\n",
       "5  25.6           0"
      ]
     },
     "execution_count": 18,
     "metadata": {},
     "output_type": "execute_result"
    }
   ],
   "source": [
    "data = pd.read_excel(r\"C:\\Users\\dell\\Desktop\\probability assignment\\Contignecy table & Probability tree - data.xlsx\"\"\",sheet_name = 'Data')\n",
    "data.head(6)"
   ]
  },
  {
   "cell_type": "code",
   "execution_count": 6,
   "id": "613fef5c",
   "metadata": {},
   "outputs": [],
   "source": [
    "weight_status = []\n",
    "for i in data['BMI']:\n",
    "    if i < 18.5 :\n",
    "        weight_status.append('Underweight')\n",
    "    if 18.5 < i < 24.9 :\n",
    "        weight_status.append('Healthy')\n",
    "    if 25.0 < i < 29.9 :\n",
    "            weight_status.append('Healthy')\n",
    "    if 30.0 < i:\n",
    "            weight_status.append('Obese')\n",
    "    else :\n",
    "        pass\n",
    " "
   ]
  },
  {
   "cell_type": "code",
   "execution_count": 7,
   "id": "0ee321d5",
   "metadata": {},
   "outputs": [],
   "source": [
    "weight_status = pd.Series(weight_status)"
   ]
  },
  {
   "cell_type": "markdown",
   "id": "3594e12f",
   "metadata": {},
   "source": [
    "# TASK 1"
   ]
  },
  {
   "cell_type": "code",
   "execution_count": 8,
   "id": "0d223f03",
   "metadata": {},
   "outputs": [],
   "source": [
    "data['weight_status'] = weight_status"
   ]
  },
  {
   "cell_type": "code",
   "execution_count": 9,
   "id": "6baa12be",
   "metadata": {},
   "outputs": [
    {
     "data": {
      "text/html": [
       "<div>\n",
       "<style scoped>\n",
       "    .dataframe tbody tr th:only-of-type {\n",
       "        vertical-align: middle;\n",
       "    }\n",
       "\n",
       "    .dataframe tbody tr th {\n",
       "        vertical-align: top;\n",
       "    }\n",
       "\n",
       "    .dataframe thead th {\n",
       "        text-align: right;\n",
       "    }\n",
       "</style>\n",
       "<table border=\"1\" class=\"dataframe\">\n",
       "  <thead>\n",
       "    <tr style=\"text-align: right;\">\n",
       "      <th></th>\n",
       "      <th>BMI</th>\n",
       "      <th>IsDiabetic</th>\n",
       "      <th>weight_status</th>\n",
       "    </tr>\n",
       "  </thead>\n",
       "  <tbody>\n",
       "    <tr>\n",
       "      <th>0</th>\n",
       "      <td>33.6</td>\n",
       "      <td>1</td>\n",
       "      <td>Obese</td>\n",
       "    </tr>\n",
       "    <tr>\n",
       "      <th>1</th>\n",
       "      <td>26.6</td>\n",
       "      <td>0</td>\n",
       "      <td>Healthy</td>\n",
       "    </tr>\n",
       "    <tr>\n",
       "      <th>2</th>\n",
       "      <td>23.3</td>\n",
       "      <td>1</td>\n",
       "      <td>Healthy</td>\n",
       "    </tr>\n",
       "    <tr>\n",
       "      <th>3</th>\n",
       "      <td>28.1</td>\n",
       "      <td>0</td>\n",
       "      <td>Healthy</td>\n",
       "    </tr>\n",
       "    <tr>\n",
       "      <th>4</th>\n",
       "      <td>43.1</td>\n",
       "      <td>1</td>\n",
       "      <td>Obese</td>\n",
       "    </tr>\n",
       "    <tr>\n",
       "      <th>5</th>\n",
       "      <td>25.6</td>\n",
       "      <td>0</td>\n",
       "      <td>Healthy</td>\n",
       "    </tr>\n",
       "    <tr>\n",
       "      <th>6</th>\n",
       "      <td>31.0</td>\n",
       "      <td>1</td>\n",
       "      <td>Obese</td>\n",
       "    </tr>\n",
       "    <tr>\n",
       "      <th>7</th>\n",
       "      <td>35.3</td>\n",
       "      <td>0</td>\n",
       "      <td>Obese</td>\n",
       "    </tr>\n",
       "    <tr>\n",
       "      <th>8</th>\n",
       "      <td>30.5</td>\n",
       "      <td>1</td>\n",
       "      <td>Obese</td>\n",
       "    </tr>\n",
       "    <tr>\n",
       "      <th>9</th>\n",
       "      <td>0.0</td>\n",
       "      <td>1</td>\n",
       "      <td>Underweight</td>\n",
       "    </tr>\n",
       "  </tbody>\n",
       "</table>\n",
       "</div>"
      ],
      "text/plain": [
       "    BMI  IsDiabetic weight_status\n",
       "0  33.6           1         Obese\n",
       "1  26.6           0       Healthy\n",
       "2  23.3           1       Healthy\n",
       "3  28.1           0       Healthy\n",
       "4  43.1           1         Obese\n",
       "5  25.6           0       Healthy\n",
       "6  31.0           1         Obese\n",
       "7  35.3           0         Obese\n",
       "8  30.5           1         Obese\n",
       "9   0.0           1   Underweight"
      ]
     },
     "execution_count": 9,
     "metadata": {},
     "output_type": "execute_result"
    }
   ],
   "source": [
    "data.head(10)"
   ]
  },
  {
   "cell_type": "markdown",
   "id": "b4945bc2",
   "metadata": {},
   "source": [
    "# TASK 2"
   ]
  },
  {
   "cell_type": "code",
   "execution_count": 10,
   "id": "bea648bf",
   "metadata": {},
   "outputs": [
    {
     "name": "stdout",
     "output_type": "stream",
     "text": [
      "weight_status  Healthy  Obese  Underweight  All\n",
      "IsDiabetic                                     \n",
      "0                  168    311           11  490\n",
      "1                  101    154            4  259\n",
      "All                269    465           15  749\n"
     ]
    }
   ],
   "source": [
    "data_crosstab = pd.crosstab(data['IsDiabetic'],\n",
    " data['weight_status'], \n",
    " margins = True)\n",
    "print(data_crosstab)\n"
   ]
  },
  {
   "cell_type": "markdown",
   "id": "71ace34b",
   "metadata": {},
   "source": [
    "# TASK 3"
   ]
  },
  {
   "cell_type": "code",
   "execution_count": 11,
   "id": "334755d2",
   "metadata": {},
   "outputs": [],
   "source": [
    "#Marginal probabilities\n",
    "mar_Healthy = 269/749\n",
    "mar_Obese = 465/749\n",
    "mar_Underweight = 15/749\n",
    "mar_IsDiabetic_0 = 490/749\n",
    "mar_IsDiabetic_1 = 259/749"
   ]
  },
  {
   "cell_type": "code",
   "execution_count": 12,
   "id": "40b6b61d",
   "metadata": {},
   "outputs": [
    {
     "name": "stdout",
     "output_type": "stream",
     "text": [
      "mar_Healthy : 0.36\n",
      "mar_Obese : 0.62\n",
      "mar_Underweight : 0.02\n",
      "mar_IsDiabetic_0 : 0.65\n",
      "mar_IsDiabetic_1 : 0.35\n"
     ]
    }
   ],
   "source": [
    "print('mar_Healthy :',round(mar_Healthy,2))\n",
    "print('mar_Obese :',round(mar_Obese,2))\n",
    "print('mar_Underweight :',round(mar_Underweight,2))\n",
    "print('mar_IsDiabetic_0 :',round(mar_IsDiabetic_0,2))\n",
    "print('mar_IsDiabetic_1 :',round(mar_IsDiabetic_1,2))"
   ]
  },
  {
   "cell_type": "code",
   "execution_count": 13,
   "id": "84ebddb3",
   "metadata": {},
   "outputs": [],
   "source": [
    "# joint probabilities\n",
    "Healthy_and_IsDiabetic_0 = 168/749\n",
    "Obese_and_IsDiabetic_0 = 311/749\n",
    "Underweight_and_IsDiabetic_0 = 11/749\n",
    "Healthy_and_IsDiabetic_1 = 101/749\n",
    "Obese_and_IsDiabetic_1 = 154/749\n",
    "Underweight_and_IsDiabetic_1 = 4/749"
   ]
  },
  {
   "cell_type": "code",
   "execution_count": 14,
   "id": "99fb7869",
   "metadata": {},
   "outputs": [
    {
     "name": "stdout",
     "output_type": "stream",
     "text": [
      "Healthy_and_IsDiabetic_0 : 0.22\n",
      "Obese_and_IsDiabetic_0 : 0.42\n",
      "Underweight_and_IsDiabetic_0 : 0.01\n",
      "Healthy_and_IsDiabetic_1 : 0.13\n",
      "Obese_and_IsDiabetic_1 : 0.21\n",
      "Underweight_and_IsDiabetic_1 : 0.01\n"
     ]
    }
   ],
   "source": [
    "print('Healthy_and_IsDiabetic_0 :',round(Healthy_and_IsDiabetic_0,2))\n",
    "print('Obese_and_IsDiabetic_0 :',round(Obese_and_IsDiabetic_0,2))\n",
    "print('Underweight_and_IsDiabetic_0 :',round(Underweight_and_IsDiabetic_0,2))\n",
    "print('Healthy_and_IsDiabetic_1 :',round(Healthy_and_IsDiabetic_1,2))\n",
    "print('Obese_and_IsDiabetic_1 :',round(Obese_and_IsDiabetic_1,2))\n",
    "print('Underweight_and_IsDiabetic_1 :',round(Underweight_and_IsDiabetic_1,2))"
   ]
  },
  {
   "cell_type": "code",
   "execution_count": 16,
   "id": "c30975df",
   "metadata": {},
   "outputs": [],
   "source": [
    "# conditional probabilities\n",
    "Healthy_given_IsDiabetic_0 = 168/490\n",
    "Healthy_given_IsDiabetic_1 = 101/259\n",
    "\n",
    "Obese_given_IsDiabetic_0 = 311/490\n",
    "Obese_given_IsDiabetic_1 = 154/259\n",
    "\n",
    "Underweight_given_IsDiabetic_0 = 11/490\n",
    "Underweight_given_IsDiabetic_1 = 4/259\n",
    "\n",
    "IsDiabetic_0_given_Healthy = 168/269\n",
    "IsDiabetic_1_given_Healthy = 101/269\n",
    "\n",
    "IsDiabetic_0_given_Obese = 311/465\n",
    "IsDiabetic_1_given_Obese = 154/465\n",
    "\n",
    "IsDiabetic_0_given_Underweight = 11/15\n",
    "IsDiabetic_1_given_Underweight = 4/15"
   ]
  },
  {
   "cell_type": "code",
   "execution_count": 17,
   "id": "8c25ce81",
   "metadata": {},
   "outputs": [
    {
     "name": "stdout",
     "output_type": "stream",
     "text": [
      "Healthy_given_IsDiabetic_0 : 0.34\n",
      "Healthy_given_IsDiabetic_1 : 0.39\n",
      "Obese_given_IsDiabetic_0 : 0.63\n",
      "Obese_given_IsDiabetic_1 : 0.59\n",
      "Underweight_given_IsDiabetic_0 : 0.02\n",
      "Underweight_given_IsDiabetic_1 : 0.02\n",
      "IsDiabetic_0_given_Healthy : 0.62\n",
      "IsDiabetic_1_given_Healthy : 0.38\n",
      "IsDiabetic_0_given_Obese : 0.67\n",
      "IsDiabetic_1_given_Obese : 0.33\n",
      "IsDiabetic_0_given_Underweight : 0.73\n",
      "IsDiabetic_1_given_Underweight : 0.27\n"
     ]
    }
   ],
   "source": [
    "print('Healthy_given_IsDiabetic_0 :',round(Healthy_given_IsDiabetic_0,2))\n",
    "print('Healthy_given_IsDiabetic_1 :',round(Healthy_given_IsDiabetic_1,2))\n",
    "print('Obese_given_IsDiabetic_0 :',round(Obese_given_IsDiabetic_0,2))\n",
    "print('Obese_given_IsDiabetic_1 :',round(Obese_given_IsDiabetic_1,2))\n",
    "print('Underweight_given_IsDiabetic_0 :',round(Underweight_given_IsDiabetic_0,2))\n",
    "print('Underweight_given_IsDiabetic_1 :',round(Underweight_given_IsDiabetic_1,2))\n",
    "print('IsDiabetic_0_given_Healthy :',round(IsDiabetic_0_given_Healthy,2))\n",
    "print('IsDiabetic_1_given_Healthy :',round(IsDiabetic_1_given_Healthy,2))\n",
    "print('IsDiabetic_0_given_Obese :',round(IsDiabetic_0_given_Obese,2))\n",
    "print('IsDiabetic_1_given_Obese :',round(IsDiabetic_1_given_Obese,2))\n",
    "print('IsDiabetic_0_given_Underweight :',round(IsDiabetic_0_given_Underweight,2))\n",
    "print('IsDiabetic_1_given_Underweight :',round(IsDiabetic_1_given_Underweight,2))"
   ]
  },
  {
   "cell_type": "code",
   "execution_count": null,
   "id": "11a2ece8",
   "metadata": {},
   "outputs": [],
   "source": []
  }
 ],
 "metadata": {
  "kernelspec": {
   "display_name": "Python 3 (ipykernel)",
   "language": "python",
   "name": "python3"
  },
  "language_info": {
   "codemirror_mode": {
    "name": "ipython",
    "version": 3
   },
   "file_extension": ".py",
   "mimetype": "text/x-python",
   "name": "python",
   "nbconvert_exporter": "python",
   "pygments_lexer": "ipython3",
   "version": "3.9.7"
  }
 },
 "nbformat": 4,
 "nbformat_minor": 5
}
