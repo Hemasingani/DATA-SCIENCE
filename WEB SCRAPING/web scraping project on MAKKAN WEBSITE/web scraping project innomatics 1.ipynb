{
 "cells": [
  {
   "cell_type": "markdown",
   "id": "c938bb4a",
   "metadata": {},
   "source": [
    "# WEB-SCRAPING PROJECT ON MAKKAN WEBSITE:"
   ]
  },
  {
   "cell_type": "code",
   "execution_count": 1,
   "id": "183298db",
   "metadata": {},
   "outputs": [],
   "source": [
    "#import libraries\n",
    "import numpy as np\n",
    "import pandas as pd\n",
    "import matplotlib.pyplot as plt\n",
    "import seaborn as sns\n",
    "#libraries for web scrapping\n",
    "import requests\n",
    "from bs4 import BeautifulSoup \n",
    "import re\n",
    "import csv\n"
   ]
  },
  {
   "cell_type": "code",
   "execution_count": 2,
   "id": "5f9d2d22",
   "metadata": {},
   "outputs": [],
   "source": [
    "rates=[]\n",
    "statu=[]\n",
    "Area=[]\n",
    "Ratepersqft=[]\n",
    "localities=[]\n",
    "propert=[]\n",
    "buildername=[]\n",
    "RERA=[]\n",
    "\n",
    "\n",
    "for i in range(1,25):\n",
    "    URL='https://www.makaan.com/listings?beds=1,2,3,3plus&listingType=buy&pageType=LISTINGS_PROPERTY_URLS&cityName=Hyderabad&cityId=12&templateId=MAKAAN_CITY_LISTING_BUY&page={}'.format(i)\n",
    "    page = requests.get(URL)\n",
    "    content=page.content\n",
    "    soup = BeautifulSoup(content,'html.parser')\n",
    "    \n",
    "    PRICE=soup.find_all('td',class_='price')\n",
    "    for i in range(len(PRICE)):\n",
    "        rates.append(PRICE[i].text)\n",
    "        \n",
    "    \n",
    "    status=soup.find_all('td',class_=\"val\")\n",
    "    for i in range(len(status)):\n",
    "        statu.append(status[i].text)   \n",
    "    \n",
    "    \n",
    "    area=soup.find_all('td',class_=\"size\")\n",
    "    for i in range(len(area)):\n",
    "        Area.append(area[i].text)\n",
    "    \n",
    "    \n",
    "    ratepersqft=soup.find_all('td',class_=\"lbl rate\")\n",
    "    for i in range(len(ratepersqft)):\n",
    "        Ratepersqft.append(ratepersqft[i].text)\n",
    "\n",
    "    \n",
    "   \n",
    "    \n",
    "    property_type = soup.find_all('div',class_='title-line')\n",
    "    for i in range(len(property_type)):\n",
    "        propert.append(property_type[i].text)\n",
    "   \n",
    "\n",
    "    locality = soup.find_all('span',itemprop='addressLocality')\n",
    "    for i in range(len(locality)):\n",
    "        localities.append(locality[i].text)\n",
    "        \n",
    "    \n",
    "\n",
    "\n",
    "    BULIDER=soup.find_all('span',itemprop=\"name\")\n",
    "    for i in range(len(BULIDER)):\n",
    "        buildername.append(BULIDER[i].text)\n",
    "    \n",
    "    for i in soup.find_all('div',class_='title-line'):\n",
    "        info=i.find('div',class_='rera-tag-new')\n",
    "        if info is None:\n",
    "            RERA.append('not approval by RERA')\n",
    "        else:\n",
    "            RERA.append('approval by RERA')\n",
    "    "
   ]
  },
  {
   "cell_type": "code",
   "execution_count": 3,
   "id": "b0963251",
   "metadata": {},
   "outputs": [
    {
     "name": "stdout",
     "output_type": "stream",
     "text": [
      "480\n",
      "480\n",
      "480\n",
      "480\n",
      "480\n",
      "480\n",
      "480\n",
      "480\n"
     ]
    }
   ],
   "source": [
    "print(len(rates))\n",
    "print(len(statu))\n",
    "print(len(Area))\n",
    "print(len(Ratepersqft))\n",
    "print(len(localities))\n",
    "\n",
    "print(len(propert))\n",
    "print(len(buildername))\n",
    "print(len(RERA))"
   ]
  },
  {
   "cell_type": "markdown",
   "id": "c86e9f2a",
   "metadata": {},
   "source": [
    "# creating dataframe "
   ]
  },
  {
   "cell_type": "code",
   "execution_count": 4,
   "id": "155021f0",
   "metadata": {},
   "outputs": [],
   "source": [
    "df=pd.DataFrame({'property_type':propert,'seller':buildername,'status':statu,'rate per sqft':Ratepersqft,'price':rates,'area':Area,'location':localities,\n",
    "                 'RERA':RERA})"
   ]
  },
  {
   "cell_type": "code",
   "execution_count": 5,
   "id": "034e0993",
   "metadata": {},
   "outputs": [
    {
     "data": {
      "text/html": [
       "<div>\n",
       "<style scoped>\n",
       "    .dataframe tbody tr th:only-of-type {\n",
       "        vertical-align: middle;\n",
       "    }\n",
       "\n",
       "    .dataframe tbody tr th {\n",
       "        vertical-align: top;\n",
       "    }\n",
       "\n",
       "    .dataframe thead th {\n",
       "        text-align: right;\n",
       "    }\n",
       "</style>\n",
       "<table border=\"1\" class=\"dataframe\">\n",
       "  <thead>\n",
       "    <tr style=\"text-align: right;\">\n",
       "      <th></th>\n",
       "      <th>property_type</th>\n",
       "      <th>seller</th>\n",
       "      <th>status</th>\n",
       "      <th>rate per sqft</th>\n",
       "      <th>price</th>\n",
       "      <th>area</th>\n",
       "      <th>location</th>\n",
       "      <th>RERA</th>\n",
       "    </tr>\n",
       "  </thead>\n",
       "  <tbody>\n",
       "    <tr>\n",
       "      <th>0</th>\n",
       "      <td>2 BHK Apartment in Riddhi Golden Nest</td>\n",
       "      <td>Riddhi Group</td>\n",
       "      <td>Ready to move</td>\n",
       "      <td>6,300 / sq ft</td>\n",
       "      <td>80.95 L</td>\n",
       "      <td>1285</td>\n",
       "      <td>Puppalaguda</td>\n",
       "      <td>not approval by RERA</td>\n",
       "    </tr>\n",
       "    <tr>\n",
       "      <th>1</th>\n",
       "      <td>3 BHK Apartment in Vajra The Royal Park</td>\n",
       "      <td>Vajra Builders And Developers</td>\n",
       "      <td>Under Construction</td>\n",
       "      <td>4,200 / sq ft</td>\n",
       "      <td>64.47 L</td>\n",
       "      <td>1535</td>\n",
       "      <td>Bowrampet</td>\n",
       "      <td>approval by RERA</td>\n",
       "    </tr>\n",
       "    <tr>\n",
       "      <th>2</th>\n",
       "      <td>3 BHK Villa in Saket Bhusatva Ph II</td>\n",
       "      <td>Saket Engineers Pvt Ltd</td>\n",
       "      <td>Under Construction</td>\n",
       "      <td>7,749 / sq ft</td>\n",
       "      <td>2.48 Cr</td>\n",
       "      <td>3209</td>\n",
       "      <td>Kompally</td>\n",
       "      <td>approval by RERA</td>\n",
       "    </tr>\n",
       "    <tr>\n",
       "      <th>3</th>\n",
       "      <td>3 BHK Apartment in Anuhar Towers</td>\n",
       "      <td>Anuhar Homes Pvt Ltd</td>\n",
       "      <td>Under Construction</td>\n",
       "      <td>6,350 / sq ft</td>\n",
       "      <td>1.16 Cr</td>\n",
       "      <td>1840</td>\n",
       "      <td>Manikonda</td>\n",
       "      <td>approval by RERA</td>\n",
       "    </tr>\n",
       "    <tr>\n",
       "      <th>4</th>\n",
       "      <td>3 BHK Apartment in Signature Altius</td>\n",
       "      <td>Signature Avenues</td>\n",
       "      <td>Under Construction</td>\n",
       "      <td>4,999 / sq ft</td>\n",
       "      <td>94.98 L</td>\n",
       "      <td>1900</td>\n",
       "      <td>Kollur</td>\n",
       "      <td>approval by RERA</td>\n",
       "    </tr>\n",
       "    <tr>\n",
       "      <th>5</th>\n",
       "      <td>3 BHK Apartment in Candeur Crescent</td>\n",
       "      <td>Candeur Developers And Builders</td>\n",
       "      <td>Under Construction</td>\n",
       "      <td>7,810 / sq ft</td>\n",
       "      <td>1.99 Cr</td>\n",
       "      <td>2548</td>\n",
       "      <td>Serilingampally</td>\n",
       "      <td>approval by RERA</td>\n",
       "    </tr>\n",
       "    <tr>\n",
       "      <th>6</th>\n",
       "      <td>2 BHK Apartment in MKT Urban Tree</td>\n",
       "      <td>MKT Praneeth Homes</td>\n",
       "      <td>Under Construction</td>\n",
       "      <td>3,800 / sq ft</td>\n",
       "      <td>43.47 L</td>\n",
       "      <td>1144</td>\n",
       "      <td>Isnapur</td>\n",
       "      <td>approval by RERA</td>\n",
       "    </tr>\n",
       "  </tbody>\n",
       "</table>\n",
       "</div>"
      ],
      "text/plain": [
       "                             property_type                           seller  \\\n",
       "0    2 BHK Apartment in Riddhi Golden Nest                     Riddhi Group   \n",
       "1  3 BHK Apartment in Vajra The Royal Park    Vajra Builders And Developers   \n",
       "2      3 BHK Villa in Saket Bhusatva Ph II          Saket Engineers Pvt Ltd   \n",
       "3         3 BHK Apartment in Anuhar Towers             Anuhar Homes Pvt Ltd   \n",
       "4      3 BHK Apartment in Signature Altius                Signature Avenues   \n",
       "5      3 BHK Apartment in Candeur Crescent  Candeur Developers And Builders   \n",
       "6        2 BHK Apartment in MKT Urban Tree               MKT Praneeth Homes   \n",
       "\n",
       "               status  rate per sqft     price   area         location  \\\n",
       "0       Ready to move  6,300 / sq ft   80.95 L  1285       Puppalaguda   \n",
       "1  Under Construction  4,200 / sq ft   64.47 L  1535         Bowrampet   \n",
       "2  Under Construction  7,749 / sq ft   2.48 Cr  3209          Kompally   \n",
       "3  Under Construction  6,350 / sq ft   1.16 Cr  1840         Manikonda   \n",
       "4  Under Construction  4,999 / sq ft   94.98 L  1900            Kollur   \n",
       "5  Under Construction  7,810 / sq ft   1.99 Cr  2548   Serilingampally   \n",
       "6  Under Construction  3,800 / sq ft   43.47 L  1144           Isnapur   \n",
       "\n",
       "                   RERA  \n",
       "0  not approval by RERA  \n",
       "1      approval by RERA  \n",
       "2      approval by RERA  \n",
       "3      approval by RERA  \n",
       "4      approval by RERA  \n",
       "5      approval by RERA  \n",
       "6      approval by RERA  "
      ]
     },
     "execution_count": 5,
     "metadata": {},
     "output_type": "execute_result"
    }
   ],
   "source": [
    "df.head(7)"
   ]
  },
  {
   "cell_type": "code",
   "execution_count": 6,
   "id": "e0db1963",
   "metadata": {},
   "outputs": [
    {
     "data": {
      "text/plain": [
       "(480, 8)"
      ]
     },
     "execution_count": 6,
     "metadata": {},
     "output_type": "execute_result"
    }
   ],
   "source": [
    "df.shape"
   ]
  },
  {
   "cell_type": "code",
   "execution_count": 7,
   "id": "519bb66d",
   "metadata": {},
   "outputs": [],
   "source": [
    "df.to_csv('realestates.csv')"
   ]
  },
  {
   "cell_type": "code",
   "execution_count": 8,
   "id": "82ba6a97",
   "metadata": {},
   "outputs": [],
   "source": [
    "df = pd.read_csv('realestates.csv') "
   ]
  },
  {
   "cell_type": "code",
   "execution_count": 9,
   "id": "38571b76",
   "metadata": {},
   "outputs": [
    {
     "data": {
      "text/html": [
       "<div>\n",
       "<style scoped>\n",
       "    .dataframe tbody tr th:only-of-type {\n",
       "        vertical-align: middle;\n",
       "    }\n",
       "\n",
       "    .dataframe tbody tr th {\n",
       "        vertical-align: top;\n",
       "    }\n",
       "\n",
       "    .dataframe thead th {\n",
       "        text-align: right;\n",
       "    }\n",
       "</style>\n",
       "<table border=\"1\" class=\"dataframe\">\n",
       "  <thead>\n",
       "    <tr style=\"text-align: right;\">\n",
       "      <th></th>\n",
       "      <th>Unnamed: 0</th>\n",
       "      <th>property_type</th>\n",
       "      <th>seller</th>\n",
       "      <th>status</th>\n",
       "      <th>rate per sqft</th>\n",
       "      <th>price</th>\n",
       "      <th>area</th>\n",
       "      <th>location</th>\n",
       "      <th>RERA</th>\n",
       "    </tr>\n",
       "  </thead>\n",
       "  <tbody>\n",
       "    <tr>\n",
       "      <th>0</th>\n",
       "      <td>0</td>\n",
       "      <td>2 BHK Apartment in Riddhi Golden Nest</td>\n",
       "      <td>Riddhi Group</td>\n",
       "      <td>Ready to move</td>\n",
       "      <td>6,300 / sq ft</td>\n",
       "      <td>80.95 L</td>\n",
       "      <td>1285</td>\n",
       "      <td>Puppalaguda</td>\n",
       "      <td>not approval by RERA</td>\n",
       "    </tr>\n",
       "    <tr>\n",
       "      <th>1</th>\n",
       "      <td>1</td>\n",
       "      <td>3 BHK Apartment in Vajra The Royal Park</td>\n",
       "      <td>Vajra Builders And Developers</td>\n",
       "      <td>Under Construction</td>\n",
       "      <td>4,200 / sq ft</td>\n",
       "      <td>64.47 L</td>\n",
       "      <td>1535</td>\n",
       "      <td>Bowrampet</td>\n",
       "      <td>approval by RERA</td>\n",
       "    </tr>\n",
       "    <tr>\n",
       "      <th>2</th>\n",
       "      <td>2</td>\n",
       "      <td>3 BHK Villa in Saket Bhusatva Ph II</td>\n",
       "      <td>Saket Engineers Pvt Ltd</td>\n",
       "      <td>Under Construction</td>\n",
       "      <td>7,749 / sq ft</td>\n",
       "      <td>2.48 Cr</td>\n",
       "      <td>3209</td>\n",
       "      <td>Kompally</td>\n",
       "      <td>approval by RERA</td>\n",
       "    </tr>\n",
       "    <tr>\n",
       "      <th>3</th>\n",
       "      <td>3</td>\n",
       "      <td>3 BHK Apartment in Anuhar Towers</td>\n",
       "      <td>Anuhar Homes Pvt Ltd</td>\n",
       "      <td>Under Construction</td>\n",
       "      <td>6,350 / sq ft</td>\n",
       "      <td>1.16 Cr</td>\n",
       "      <td>1840</td>\n",
       "      <td>Manikonda</td>\n",
       "      <td>approval by RERA</td>\n",
       "    </tr>\n",
       "    <tr>\n",
       "      <th>4</th>\n",
       "      <td>4</td>\n",
       "      <td>3 BHK Apartment in Signature Altius</td>\n",
       "      <td>Signature Avenues</td>\n",
       "      <td>Under Construction</td>\n",
       "      <td>4,999 / sq ft</td>\n",
       "      <td>94.98 L</td>\n",
       "      <td>1900</td>\n",
       "      <td>Kollur</td>\n",
       "      <td>approval by RERA</td>\n",
       "    </tr>\n",
       "    <tr>\n",
       "      <th>...</th>\n",
       "      <td>...</td>\n",
       "      <td>...</td>\n",
       "      <td>...</td>\n",
       "      <td>...</td>\n",
       "      <td>...</td>\n",
       "      <td>...</td>\n",
       "      <td>...</td>\n",
       "      <td>...</td>\n",
       "      <td>...</td>\n",
       "    </tr>\n",
       "    <tr>\n",
       "      <th>475</th>\n",
       "      <td>475</td>\n",
       "      <td>4 BHK Apartment in Swaraj Homes Kendriya Vihar...</td>\n",
       "      <td>seller</td>\n",
       "      <td>Ready to move</td>\n",
       "      <td>4,621 / sq ft</td>\n",
       "      <td>77 L</td>\n",
       "      <td>1666</td>\n",
       "      <td>Bandlaguda Jagir</td>\n",
       "      <td>not approval by RERA</td>\n",
       "    </tr>\n",
       "    <tr>\n",
       "      <th>476</th>\n",
       "      <td>476</td>\n",
       "      <td>2 BHK Apartment in Provident Kenworth</td>\n",
       "      <td>seller</td>\n",
       "      <td>Ready to move</td>\n",
       "      <td>6,896 / sq ft</td>\n",
       "      <td>64 L</td>\n",
       "      <td>928</td>\n",
       "      <td>Rajendra Nagar</td>\n",
       "      <td>not approval by RERA</td>\n",
       "    </tr>\n",
       "    <tr>\n",
       "      <th>477</th>\n",
       "      <td>477</td>\n",
       "      <td>3 BHK Apartment</td>\n",
       "      <td>seller</td>\n",
       "      <td>Under Construction</td>\n",
       "      <td>4,621 / sq ft</td>\n",
       "      <td>55.5 L</td>\n",
       "      <td>1201</td>\n",
       "      <td>Bandlaguda Jagir</td>\n",
       "      <td>not approval by RERA</td>\n",
       "    </tr>\n",
       "    <tr>\n",
       "      <th>478</th>\n",
       "      <td>478</td>\n",
       "      <td>2 BHK Apartment in Spectra Metro Heights</td>\n",
       "      <td>seller</td>\n",
       "      <td>Ready to move</td>\n",
       "      <td>6,067 / sq ft</td>\n",
       "      <td>75 L</td>\n",
       "      <td>1236</td>\n",
       "      <td>Nagole</td>\n",
       "      <td>not approval by RERA</td>\n",
       "    </tr>\n",
       "    <tr>\n",
       "      <th>479</th>\n",
       "      <td>479</td>\n",
       "      <td>3 BHK Apartment in Empire Meadows</td>\n",
       "      <td>seller</td>\n",
       "      <td>Ready to move</td>\n",
       "      <td>5,750 / sq ft</td>\n",
       "      <td>69 L</td>\n",
       "      <td>1200</td>\n",
       "      <td>Miyapur</td>\n",
       "      <td>not approval by RERA</td>\n",
       "    </tr>\n",
       "  </tbody>\n",
       "</table>\n",
       "<p>480 rows × 9 columns</p>\n",
       "</div>"
      ],
      "text/plain": [
       "     Unnamed: 0                                      property_type  \\\n",
       "0             0              2 BHK Apartment in Riddhi Golden Nest   \n",
       "1             1            3 BHK Apartment in Vajra The Royal Park   \n",
       "2             2                3 BHK Villa in Saket Bhusatva Ph II   \n",
       "3             3                   3 BHK Apartment in Anuhar Towers   \n",
       "4             4                3 BHK Apartment in Signature Altius   \n",
       "..          ...                                                ...   \n",
       "475         475  4 BHK Apartment in Swaraj Homes Kendriya Vihar...   \n",
       "476         476              2 BHK Apartment in Provident Kenworth   \n",
       "477         477                                    3 BHK Apartment   \n",
       "478         478           2 BHK Apartment in Spectra Metro Heights   \n",
       "479         479                  3 BHK Apartment in Empire Meadows   \n",
       "\n",
       "                            seller              status  rate per sqft  \\\n",
       "0                     Riddhi Group       Ready to move  6,300 / sq ft   \n",
       "1    Vajra Builders And Developers  Under Construction  4,200 / sq ft   \n",
       "2          Saket Engineers Pvt Ltd  Under Construction  7,749 / sq ft   \n",
       "3             Anuhar Homes Pvt Ltd  Under Construction  6,350 / sq ft   \n",
       "4                Signature Avenues  Under Construction  4,999 / sq ft   \n",
       "..                             ...                 ...            ...   \n",
       "475                         seller       Ready to move  4,621 / sq ft   \n",
       "476                         seller       Ready to move  6,896 / sq ft   \n",
       "477                         seller  Under Construction  4,621 / sq ft   \n",
       "478                         seller       Ready to move  6,067 / sq ft   \n",
       "479                         seller       Ready to move  5,750 / sq ft   \n",
       "\n",
       "        price  area          location                  RERA  \n",
       "0     80.95 L  1285       Puppalaguda  not approval by RERA  \n",
       "1     64.47 L  1535         Bowrampet      approval by RERA  \n",
       "2     2.48 Cr  3209          Kompally      approval by RERA  \n",
       "3     1.16 Cr  1840         Manikonda      approval by RERA  \n",
       "4     94.98 L  1900            Kollur      approval by RERA  \n",
       "..        ...   ...               ...                   ...  \n",
       "475      77 L  1666  Bandlaguda Jagir  not approval by RERA  \n",
       "476      64 L   928    Rajendra Nagar  not approval by RERA  \n",
       "477    55.5 L  1201  Bandlaguda Jagir  not approval by RERA  \n",
       "478      75 L  1236            Nagole  not approval by RERA  \n",
       "479      69 L  1200           Miyapur  not approval by RERA  \n",
       "\n",
       "[480 rows x 9 columns]"
      ]
     },
     "execution_count": 9,
     "metadata": {},
     "output_type": "execute_result"
    }
   ],
   "source": [
    "df"
   ]
  },
  {
   "cell_type": "markdown",
   "id": "8b756b1e",
   "metadata": {},
   "source": [
    "# Identifying missing values in rows"
   ]
  },
  {
   "cell_type": "code",
   "execution_count": 10,
   "id": "9b895ad4",
   "metadata": {},
   "outputs": [
    {
     "data": {
      "text/plain": [
       "Unnamed: 0       0\n",
       "property_type    0\n",
       "seller           0\n",
       "status           0\n",
       "rate per sqft    0\n",
       "price            0\n",
       "area             0\n",
       "location         0\n",
       "RERA             0\n",
       "dtype: int64"
      ]
     },
     "execution_count": 10,
     "metadata": {},
     "output_type": "execute_result"
    }
   ],
   "source": [
    "df.isnull().sum(axis=0)"
   ]
  },
  {
   "cell_type": "markdown",
   "id": "719ee8cd",
   "metadata": {},
   "source": [
    "# Identifying missing values in columns"
   ]
  },
  {
   "cell_type": "code",
   "execution_count": 11,
   "id": "222833cf",
   "metadata": {},
   "outputs": [
    {
     "data": {
      "text/plain": [
       "0      0\n",
       "1      0\n",
       "2      0\n",
       "3      0\n",
       "4      0\n",
       "      ..\n",
       "475    0\n",
       "476    0\n",
       "477    0\n",
       "478    0\n",
       "479    0\n",
       "Length: 480, dtype: int64"
      ]
     },
     "execution_count": 11,
     "metadata": {},
     "output_type": "execute_result"
    }
   ],
   "source": [
    "df.isnull().sum(axis=1)"
   ]
  },
  {
   "cell_type": "code",
   "execution_count": 12,
   "id": "ece4e81c",
   "metadata": {},
   "outputs": [
    {
     "data": {
      "text/plain": [
       "3 BHK Apartment in Anuhar Rami Reddy Towers        38\n",
       "3 BHK Apartment in Anuhar Art Of Living            27\n",
       "2 BHK Apartment                                    24\n",
       "2 BHK Apartment in Anuhar Art Of Living            15\n",
       "3 BHK Apartment in Riddhi Pramukh Elegance         15\n",
       "                                                   ..\n",
       "2 BHK Apartment in Idream Sai RKs Oxygen Homes      1\n",
       "3 BHK Apartment in Swaraj Homes Mandadi Mansion     1\n",
       "2 BHK Apartment in Praneeth Pranav Flora            1\n",
       "2 BHK Apartment in Concept Onyx                     1\n",
       "3 BHK Apartment in Empire Meadows                   1\n",
       "Name: property_type, Length: 123, dtype: int64"
      ]
     },
     "execution_count": 12,
     "metadata": {},
     "output_type": "execute_result"
    }
   ],
   "source": [
    "df.property_type.value_counts()"
   ]
  },
  {
   "cell_type": "markdown",
   "id": "1604469b",
   "metadata": {},
   "source": [
    "# extracting Bhk"
   ]
  },
  {
   "cell_type": "code",
   "execution_count": 13,
   "id": "ff76e1c2",
   "metadata": {},
   "outputs": [],
   "source": [
    "df['BHK']=df.property_type.apply(lambda x: x.split(' ')[0])"
   ]
  },
  {
   "cell_type": "code",
   "execution_count": 14,
   "id": "5f23b422",
   "metadata": {},
   "outputs": [
    {
     "data": {
      "text/plain": [
       "3    278\n",
       "2    146\n",
       "4     48\n",
       "5      4\n",
       "7      2\n",
       "8      2\n",
       "Name: BHK, dtype: int64"
      ]
     },
     "execution_count": 14,
     "metadata": {},
     "output_type": "execute_result"
    }
   ],
   "source": [
    "df.BHK.value_counts()"
   ]
  },
  {
   "cell_type": "code",
   "execution_count": 15,
   "id": "7b8f2869",
   "metadata": {},
   "outputs": [
    {
     "data": {
      "text/plain": [
       "0"
      ]
     },
     "execution_count": 15,
     "metadata": {},
     "output_type": "execute_result"
    }
   ],
   "source": [
    "df.BHK.isnull().sum()"
   ]
  },
  {
   "cell_type": "markdown",
   "id": "8151adc9",
   "metadata": {},
   "source": [
    "# extracting Bhk projectname"
   ]
  },
  {
   "cell_type": "code",
   "execution_count": 16,
   "id": "08dc525e",
   "metadata": {},
   "outputs": [],
   "source": [
    "df['projectname']=df.property_type.apply(lambda x: ' '.join(x.split(' ')[4:]))"
   ]
  },
  {
   "cell_type": "code",
   "execution_count": 17,
   "id": "96ff5c07",
   "metadata": {},
   "outputs": [
    {
     "data": {
      "text/plain": [
       "                                                50\n",
       "Anuhar Art Of Living                            42\n",
       "Anuhar Rami Reddy Towers                        42\n",
       "Riddhi Pramukh Elegance                         22\n",
       "Pragathi S Raghupathi County                    16\n",
       "                                                ..\n",
       "Idream Sai RKs Oxygen Homes                      1\n",
       "Shree Anurag Sri Sai Anurag New Town Phase 2     1\n",
       "Greenmetro Tulasi Bhagyanagar                    1\n",
       "Northstar Hillside                               1\n",
       "Empire Meadows                                   1\n",
       "Name: projectname, Length: 77, dtype: int64"
      ]
     },
     "execution_count": 17,
     "metadata": {},
     "output_type": "execute_result"
    }
   ],
   "source": [
    "df.projectname.value_counts()"
   ]
  },
  {
   "cell_type": "code",
   "execution_count": 18,
   "id": "3c7e16e3",
   "metadata": {},
   "outputs": [
    {
     "data": {
      "text/plain": [
       "1100    7\n",
       "1200    7\n",
       "1550    6\n",
       "1785    5\n",
       "1250    5\n",
       "       ..\n",
       "1685    1\n",
       "2530    1\n",
       "2465    1\n",
       "2065    1\n",
       "1236    1\n",
       "Name: area, Length: 306, dtype: int64"
      ]
     },
     "execution_count": 18,
     "metadata": {},
     "output_type": "execute_result"
    }
   ],
   "source": [
    "df.area.value_counts()"
   ]
  },
  {
   "cell_type": "code",
   "execution_count": 19,
   "id": "bddc665f",
   "metadata": {},
   "outputs": [],
   "source": [
    "df.projectname.replace(to_replace=\"\",value=\"not mentioned\",inplace=True)"
   ]
  },
  {
   "cell_type": "code",
   "execution_count": 20,
   "id": "ca74e485",
   "metadata": {},
   "outputs": [
    {
     "data": {
      "text/plain": [
       "not mentioned                                   50\n",
       "Anuhar Art Of Living                            42\n",
       "Anuhar Rami Reddy Towers                        42\n",
       "Riddhi Pramukh Elegance                         22\n",
       "Pragathi S Raghupathi County                    16\n",
       "                                                ..\n",
       "Idream Sai RKs Oxygen Homes                      1\n",
       "Shree Anurag Sri Sai Anurag New Town Phase 2     1\n",
       "Greenmetro Tulasi Bhagyanagar                    1\n",
       "Northstar Hillside                               1\n",
       "Empire Meadows                                   1\n",
       "Name: projectname, Length: 77, dtype: int64"
      ]
     },
     "execution_count": 20,
     "metadata": {},
     "output_type": "execute_result"
    }
   ],
   "source": [
    "df.projectname.value_counts()"
   ]
  },
  {
   "cell_type": "code",
   "execution_count": 21,
   "id": "e93b66b7",
   "metadata": {},
   "outputs": [
    {
     "data": {
      "text/html": [
       "<div>\n",
       "<style scoped>\n",
       "    .dataframe tbody tr th:only-of-type {\n",
       "        vertical-align: middle;\n",
       "    }\n",
       "\n",
       "    .dataframe tbody tr th {\n",
       "        vertical-align: top;\n",
       "    }\n",
       "\n",
       "    .dataframe thead th {\n",
       "        text-align: right;\n",
       "    }\n",
       "</style>\n",
       "<table border=\"1\" class=\"dataframe\">\n",
       "  <thead>\n",
       "    <tr style=\"text-align: right;\">\n",
       "      <th></th>\n",
       "      <th>Unnamed: 0</th>\n",
       "      <th>property_type</th>\n",
       "      <th>seller</th>\n",
       "      <th>status</th>\n",
       "      <th>rate per sqft</th>\n",
       "      <th>price</th>\n",
       "      <th>area</th>\n",
       "      <th>location</th>\n",
       "      <th>RERA</th>\n",
       "      <th>BHK</th>\n",
       "      <th>projectname</th>\n",
       "    </tr>\n",
       "  </thead>\n",
       "  <tbody>\n",
       "    <tr>\n",
       "      <th>314</th>\n",
       "      <td>314</td>\n",
       "      <td>3 BHK Apartment</td>\n",
       "      <td>seller</td>\n",
       "      <td>Ready to move</td>\n",
       "      <td>4,246 / sq ft</td>\n",
       "      <td>62 L</td>\n",
       "      <td>1460</td>\n",
       "      <td>Dilsukh Nagar</td>\n",
       "      <td>not approval by RERA</td>\n",
       "      <td>3</td>\n",
       "      <td>not mentioned</td>\n",
       "    </tr>\n",
       "    <tr>\n",
       "      <th>315</th>\n",
       "      <td>315</td>\n",
       "      <td>2 BHK Independent House</td>\n",
       "      <td>seller</td>\n",
       "      <td>Ready to move</td>\n",
       "      <td>6,363 / sq ft</td>\n",
       "      <td>70 L</td>\n",
       "      <td>1100</td>\n",
       "      <td>Laxmiguda</td>\n",
       "      <td>not approval by RERA</td>\n",
       "      <td>2</td>\n",
       "      <td>not mentioned</td>\n",
       "    </tr>\n",
       "    <tr>\n",
       "      <th>316</th>\n",
       "      <td>316</td>\n",
       "      <td>2 BHK Apartment</td>\n",
       "      <td>seller</td>\n",
       "      <td>Under Construction</td>\n",
       "      <td>4,833 / sq ft</td>\n",
       "      <td>58 L</td>\n",
       "      <td>1200</td>\n",
       "      <td>Pragathi Nagar Kukatpally</td>\n",
       "      <td>not approval by RERA</td>\n",
       "      <td>2</td>\n",
       "      <td>not mentioned</td>\n",
       "    </tr>\n",
       "    <tr>\n",
       "      <th>318</th>\n",
       "      <td>318</td>\n",
       "      <td>2 BHK Apartment</td>\n",
       "      <td>seller</td>\n",
       "      <td>Under Construction</td>\n",
       "      <td>5,000 / sq ft</td>\n",
       "      <td>60 L</td>\n",
       "      <td>1200</td>\n",
       "      <td>Kompally</td>\n",
       "      <td>not approval by RERA</td>\n",
       "      <td>2</td>\n",
       "      <td>not mentioned</td>\n",
       "    </tr>\n",
       "    <tr>\n",
       "      <th>319</th>\n",
       "      <td>319</td>\n",
       "      <td>2 BHK Apartment</td>\n",
       "      <td>seller</td>\n",
       "      <td>Ready to move</td>\n",
       "      <td>4,000 / sq ft</td>\n",
       "      <td>40 L</td>\n",
       "      <td>1000</td>\n",
       "      <td>Kapra</td>\n",
       "      <td>not approval by RERA</td>\n",
       "      <td>2</td>\n",
       "      <td>not mentioned</td>\n",
       "    </tr>\n",
       "    <tr>\n",
       "      <th>320</th>\n",
       "      <td>320</td>\n",
       "      <td>2 BHK Apartment</td>\n",
       "      <td>seller</td>\n",
       "      <td>Ready to move</td>\n",
       "      <td>4,000 / sq ft</td>\n",
       "      <td>40 L</td>\n",
       "      <td>1000</td>\n",
       "      <td>Kapra</td>\n",
       "      <td>not approval by RERA</td>\n",
       "      <td>2</td>\n",
       "      <td>not mentioned</td>\n",
       "    </tr>\n",
       "    <tr>\n",
       "      <th>324</th>\n",
       "      <td>324</td>\n",
       "      <td>2 BHK Independent House</td>\n",
       "      <td>seller</td>\n",
       "      <td>Ready to move</td>\n",
       "      <td>4,761 / sq ft</td>\n",
       "      <td>50 L</td>\n",
       "      <td>1050</td>\n",
       "      <td>Laxmiguda</td>\n",
       "      <td>not approval by RERA</td>\n",
       "      <td>2</td>\n",
       "      <td>not mentioned</td>\n",
       "    </tr>\n",
       "    <tr>\n",
       "      <th>325</th>\n",
       "      <td>325</td>\n",
       "      <td>3 BHK Apartment</td>\n",
       "      <td>seller</td>\n",
       "      <td>Ready to move</td>\n",
       "      <td>4,736 / sq ft</td>\n",
       "      <td>72 L</td>\n",
       "      <td>1520</td>\n",
       "      <td>Puppalaguda</td>\n",
       "      <td>not approval by RERA</td>\n",
       "      <td>3</td>\n",
       "      <td>not mentioned</td>\n",
       "    </tr>\n",
       "    <tr>\n",
       "      <th>326</th>\n",
       "      <td>326</td>\n",
       "      <td>3 BHK Independent House</td>\n",
       "      <td>seller</td>\n",
       "      <td>Ready to move</td>\n",
       "      <td>4,500 / sq ft</td>\n",
       "      <td>1.8 Cr</td>\n",
       "      <td>4000</td>\n",
       "      <td>Vanasthalipuram</td>\n",
       "      <td>not approval by RERA</td>\n",
       "      <td>3</td>\n",
       "      <td>not mentioned</td>\n",
       "    </tr>\n",
       "    <tr>\n",
       "      <th>328</th>\n",
       "      <td>328</td>\n",
       "      <td>2 BHK Independent House</td>\n",
       "      <td>seller</td>\n",
       "      <td>Ready to move</td>\n",
       "      <td>5,619 / sq ft</td>\n",
       "      <td>59 L</td>\n",
       "      <td>1050</td>\n",
       "      <td>Laxmiguda</td>\n",
       "      <td>not approval by RERA</td>\n",
       "      <td>2</td>\n",
       "      <td>not mentioned</td>\n",
       "    </tr>\n",
       "    <tr>\n",
       "      <th>329</th>\n",
       "      <td>329</td>\n",
       "      <td>2 BHK Apartment</td>\n",
       "      <td>seller</td>\n",
       "      <td>Ready to move</td>\n",
       "      <td>4,900 / sq ft</td>\n",
       "      <td>62.08 L</td>\n",
       "      <td>1267</td>\n",
       "      <td>Bachupally</td>\n",
       "      <td>not approval by RERA</td>\n",
       "      <td>2</td>\n",
       "      <td>not mentioned</td>\n",
       "    </tr>\n",
       "    <tr>\n",
       "      <th>331</th>\n",
       "      <td>331</td>\n",
       "      <td>2 BHK Apartment</td>\n",
       "      <td>seller</td>\n",
       "      <td>Ready to move</td>\n",
       "      <td>3,864 / sq ft</td>\n",
       "      <td>40 L</td>\n",
       "      <td>1035</td>\n",
       "      <td>Suraram</td>\n",
       "      <td>not approval by RERA</td>\n",
       "      <td>2</td>\n",
       "      <td>not mentioned</td>\n",
       "    </tr>\n",
       "    <tr>\n",
       "      <th>333</th>\n",
       "      <td>333</td>\n",
       "      <td>2 BHK Apartment</td>\n",
       "      <td>seller</td>\n",
       "      <td>Ready to move</td>\n",
       "      <td>5,735 / sq ft</td>\n",
       "      <td>55 L</td>\n",
       "      <td>959</td>\n",
       "      <td>Manikonda</td>\n",
       "      <td>not approval by RERA</td>\n",
       "      <td>2</td>\n",
       "      <td>not mentioned</td>\n",
       "    </tr>\n",
       "    <tr>\n",
       "      <th>334</th>\n",
       "      <td>334</td>\n",
       "      <td>2 BHK Apartment</td>\n",
       "      <td>seller</td>\n",
       "      <td>Ready to move</td>\n",
       "      <td>5,630 / sq ft</td>\n",
       "      <td>54 L</td>\n",
       "      <td>959</td>\n",
       "      <td>Manikonda</td>\n",
       "      <td>not approval by RERA</td>\n",
       "      <td>2</td>\n",
       "      <td>not mentioned</td>\n",
       "    </tr>\n",
       "    <tr>\n",
       "      <th>335</th>\n",
       "      <td>335</td>\n",
       "      <td>7 BHK Independent House</td>\n",
       "      <td>seller</td>\n",
       "      <td>Ready to move</td>\n",
       "      <td>3,365 / sq ft</td>\n",
       "      <td>1.75 Cr</td>\n",
       "      <td>5200</td>\n",
       "      <td>Nagaram</td>\n",
       "      <td>not approval by RERA</td>\n",
       "      <td>7</td>\n",
       "      <td>not mentioned</td>\n",
       "    </tr>\n",
       "    <tr>\n",
       "      <th>338</th>\n",
       "      <td>338</td>\n",
       "      <td>2 BHK Apartment</td>\n",
       "      <td>seller</td>\n",
       "      <td>Ready to move</td>\n",
       "      <td>6,857 / sq ft</td>\n",
       "      <td>72 L</td>\n",
       "      <td>1050</td>\n",
       "      <td>Masab Tank</td>\n",
       "      <td>not approval by RERA</td>\n",
       "      <td>2</td>\n",
       "      <td>not mentioned</td>\n",
       "    </tr>\n",
       "    <tr>\n",
       "      <th>339</th>\n",
       "      <td>339</td>\n",
       "      <td>4 BHK Independent House</td>\n",
       "      <td>seller</td>\n",
       "      <td>Ready to move</td>\n",
       "      <td>19,318 / sq ft</td>\n",
       "      <td>4.25 Cr</td>\n",
       "      <td>2200</td>\n",
       "      <td>Tarnaka</td>\n",
       "      <td>not approval by RERA</td>\n",
       "      <td>4</td>\n",
       "      <td>not mentioned</td>\n",
       "    </tr>\n",
       "    <tr>\n",
       "      <th>340</th>\n",
       "      <td>340</td>\n",
       "      <td>3 BHK Villa</td>\n",
       "      <td>seller</td>\n",
       "      <td>Under Construction</td>\n",
       "      <td>6,818 / sq ft</td>\n",
       "      <td>1.5 Cr</td>\n",
       "      <td>2200</td>\n",
       "      <td>Indresham</td>\n",
       "      <td>not approval by RERA</td>\n",
       "      <td>3</td>\n",
       "      <td>not mentioned</td>\n",
       "    </tr>\n",
       "    <tr>\n",
       "      <th>341</th>\n",
       "      <td>341</td>\n",
       "      <td>2 BHK Apartment</td>\n",
       "      <td>seller</td>\n",
       "      <td>Ready to move</td>\n",
       "      <td>5,934 / sq ft</td>\n",
       "      <td>68.25 L</td>\n",
       "      <td>1150</td>\n",
       "      <td>Manikonda</td>\n",
       "      <td>not approval by RERA</td>\n",
       "      <td>2</td>\n",
       "      <td>not mentioned</td>\n",
       "    </tr>\n",
       "    <tr>\n",
       "      <th>342</th>\n",
       "      <td>342</td>\n",
       "      <td>2 BHK Apartment</td>\n",
       "      <td>seller</td>\n",
       "      <td>Under Construction</td>\n",
       "      <td>3,000 / sq ft</td>\n",
       "      <td>42 L</td>\n",
       "      <td>1400</td>\n",
       "      <td>Chandanagar</td>\n",
       "      <td>not approval by RERA</td>\n",
       "      <td>2</td>\n",
       "      <td>not mentioned</td>\n",
       "    </tr>\n",
       "    <tr>\n",
       "      <th>343</th>\n",
       "      <td>343</td>\n",
       "      <td>3 BHK Apartment</td>\n",
       "      <td>seller</td>\n",
       "      <td>Ready to move</td>\n",
       "      <td>4,050 / sq ft</td>\n",
       "      <td>45 L</td>\n",
       "      <td>1111</td>\n",
       "      <td>Alwal</td>\n",
       "      <td>not approval by RERA</td>\n",
       "      <td>3</td>\n",
       "      <td>not mentioned</td>\n",
       "    </tr>\n",
       "    <tr>\n",
       "      <th>351</th>\n",
       "      <td>351</td>\n",
       "      <td>3 BHK Independent House</td>\n",
       "      <td>seller</td>\n",
       "      <td>Ready to move</td>\n",
       "      <td>13,636 / sq ft</td>\n",
       "      <td>1.5 Cr</td>\n",
       "      <td>1100</td>\n",
       "      <td>Qutub Shahi Tombs</td>\n",
       "      <td>not approval by RERA</td>\n",
       "      <td>3</td>\n",
       "      <td>not mentioned</td>\n",
       "    </tr>\n",
       "    <tr>\n",
       "      <th>352</th>\n",
       "      <td>352</td>\n",
       "      <td>3 BHK Independent House</td>\n",
       "      <td>seller</td>\n",
       "      <td>Ready to move</td>\n",
       "      <td>16,666 / sq ft</td>\n",
       "      <td>1.5 Cr</td>\n",
       "      <td>900</td>\n",
       "      <td>Santoshnagar</td>\n",
       "      <td>not approval by RERA</td>\n",
       "      <td>3</td>\n",
       "      <td>not mentioned</td>\n",
       "    </tr>\n",
       "    <tr>\n",
       "      <th>353</th>\n",
       "      <td>353</td>\n",
       "      <td>2 BHK Apartment</td>\n",
       "      <td>seller</td>\n",
       "      <td>Ready to move</td>\n",
       "      <td>3,597 / sq ft</td>\n",
       "      <td>40 L</td>\n",
       "      <td>1112</td>\n",
       "      <td>Nizampet</td>\n",
       "      <td>not approval by RERA</td>\n",
       "      <td>2</td>\n",
       "      <td>not mentioned</td>\n",
       "    </tr>\n",
       "    <tr>\n",
       "      <th>354</th>\n",
       "      <td>354</td>\n",
       "      <td>2 BHK Apartment</td>\n",
       "      <td>seller</td>\n",
       "      <td>Ready to move</td>\n",
       "      <td>5,440 / sq ft</td>\n",
       "      <td>68 L</td>\n",
       "      <td>1250</td>\n",
       "      <td>Kukatpally</td>\n",
       "      <td>not approval by RERA</td>\n",
       "      <td>2</td>\n",
       "      <td>not mentioned</td>\n",
       "    </tr>\n",
       "    <tr>\n",
       "      <th>355</th>\n",
       "      <td>355</td>\n",
       "      <td>2 BHK Apartment</td>\n",
       "      <td>seller</td>\n",
       "      <td>Under Construction</td>\n",
       "      <td>7,333 / sq ft</td>\n",
       "      <td>66 L</td>\n",
       "      <td>900</td>\n",
       "      <td>Erragadda</td>\n",
       "      <td>not approval by RERA</td>\n",
       "      <td>2</td>\n",
       "      <td>not mentioned</td>\n",
       "    </tr>\n",
       "    <tr>\n",
       "      <th>358</th>\n",
       "      <td>358</td>\n",
       "      <td>2 BHK Apartment</td>\n",
       "      <td>seller</td>\n",
       "      <td>Ready to move</td>\n",
       "      <td>5,000 / sq ft</td>\n",
       "      <td>60 L</td>\n",
       "      <td>1200</td>\n",
       "      <td>AS Rao Nagar</td>\n",
       "      <td>not approval by RERA</td>\n",
       "      <td>2</td>\n",
       "      <td>not mentioned</td>\n",
       "    </tr>\n",
       "    <tr>\n",
       "      <th>359</th>\n",
       "      <td>359</td>\n",
       "      <td>8 BHK Independent House</td>\n",
       "      <td>seller</td>\n",
       "      <td>Ready to move</td>\n",
       "      <td>8,950 / sq ft</td>\n",
       "      <td>2.9 Cr</td>\n",
       "      <td>3240</td>\n",
       "      <td>Moula Ali</td>\n",
       "      <td>not approval by RERA</td>\n",
       "      <td>8</td>\n",
       "      <td>not mentioned</td>\n",
       "    </tr>\n",
       "    <tr>\n",
       "      <th>361</th>\n",
       "      <td>361</td>\n",
       "      <td>2 BHK Apartment</td>\n",
       "      <td>seller</td>\n",
       "      <td>Under Construction</td>\n",
       "      <td>5,636 / sq ft</td>\n",
       "      <td>62 L</td>\n",
       "      <td>1100</td>\n",
       "      <td>Padmarao Nagar</td>\n",
       "      <td>not approval by RERA</td>\n",
       "      <td>2</td>\n",
       "      <td>not mentioned</td>\n",
       "    </tr>\n",
       "    <tr>\n",
       "      <th>362</th>\n",
       "      <td>362</td>\n",
       "      <td>2 BHK Apartment</td>\n",
       "      <td>seller</td>\n",
       "      <td>Ready to move</td>\n",
       "      <td>5,000 / sq ft</td>\n",
       "      <td>51 L</td>\n",
       "      <td>1020</td>\n",
       "      <td>Mallapur</td>\n",
       "      <td>not approval by RERA</td>\n",
       "      <td>2</td>\n",
       "      <td>not mentioned</td>\n",
       "    </tr>\n",
       "    <tr>\n",
       "      <th>423</th>\n",
       "      <td>423</td>\n",
       "      <td>7 BHK Independent House</td>\n",
       "      <td>seller</td>\n",
       "      <td>Ready to move</td>\n",
       "      <td>6,222 / sq ft</td>\n",
       "      <td>2.8 Cr</td>\n",
       "      <td>4500</td>\n",
       "      <td>Alwal</td>\n",
       "      <td>not approval by RERA</td>\n",
       "      <td>7</td>\n",
       "      <td>not mentioned</td>\n",
       "    </tr>\n",
       "    <tr>\n",
       "      <th>424</th>\n",
       "      <td>424</td>\n",
       "      <td>2 BHK Apartment</td>\n",
       "      <td>seller</td>\n",
       "      <td>Ready to move</td>\n",
       "      <td>6,730 / sq ft</td>\n",
       "      <td>63 L</td>\n",
       "      <td>936</td>\n",
       "      <td>Sainikpuri</td>\n",
       "      <td>not approval by RERA</td>\n",
       "      <td>2</td>\n",
       "      <td>not mentioned</td>\n",
       "    </tr>\n",
       "    <tr>\n",
       "      <th>426</th>\n",
       "      <td>426</td>\n",
       "      <td>2 BHK Apartment</td>\n",
       "      <td>seller</td>\n",
       "      <td>Under Construction</td>\n",
       "      <td>4,500 / sq ft</td>\n",
       "      <td>54.94 L</td>\n",
       "      <td>1221</td>\n",
       "      <td>Bachupally</td>\n",
       "      <td>not approval by RERA</td>\n",
       "      <td>2</td>\n",
       "      <td>not mentioned</td>\n",
       "    </tr>\n",
       "    <tr>\n",
       "      <th>428</th>\n",
       "      <td>428</td>\n",
       "      <td>2 BHK Apartment</td>\n",
       "      <td>seller</td>\n",
       "      <td>Under Construction</td>\n",
       "      <td>4,400 / sq ft</td>\n",
       "      <td>55 L</td>\n",
       "      <td>1250</td>\n",
       "      <td>Suraram</td>\n",
       "      <td>not approval by RERA</td>\n",
       "      <td>2</td>\n",
       "      <td>not mentioned</td>\n",
       "    </tr>\n",
       "    <tr>\n",
       "      <th>429</th>\n",
       "      <td>429</td>\n",
       "      <td>3 BHK Apartment</td>\n",
       "      <td>seller</td>\n",
       "      <td>Under Construction</td>\n",
       "      <td>4,451 / sq ft</td>\n",
       "      <td>69 L</td>\n",
       "      <td>1550</td>\n",
       "      <td>Suraram</td>\n",
       "      <td>not approval by RERA</td>\n",
       "      <td>3</td>\n",
       "      <td>not mentioned</td>\n",
       "    </tr>\n",
       "    <tr>\n",
       "      <th>430</th>\n",
       "      <td>430</td>\n",
       "      <td>2 BHK Independent House</td>\n",
       "      <td>seller</td>\n",
       "      <td>Under Construction</td>\n",
       "      <td>6,363 / sq ft</td>\n",
       "      <td>70 L</td>\n",
       "      <td>1100</td>\n",
       "      <td>Isnapur</td>\n",
       "      <td>not approval by RERA</td>\n",
       "      <td>2</td>\n",
       "      <td>not mentioned</td>\n",
       "    </tr>\n",
       "    <tr>\n",
       "      <th>431</th>\n",
       "      <td>431</td>\n",
       "      <td>2 BHK Independent House</td>\n",
       "      <td>seller</td>\n",
       "      <td>Ready to move</td>\n",
       "      <td>6,250 / sq ft</td>\n",
       "      <td>75 L</td>\n",
       "      <td>1200</td>\n",
       "      <td>Krishna Reddy Pet</td>\n",
       "      <td>not approval by RERA</td>\n",
       "      <td>2</td>\n",
       "      <td>not mentioned</td>\n",
       "    </tr>\n",
       "    <tr>\n",
       "      <th>432</th>\n",
       "      <td>432</td>\n",
       "      <td>2 BHK Independent House</td>\n",
       "      <td>seller</td>\n",
       "      <td>Ready to move</td>\n",
       "      <td>4,562 / sq ft</td>\n",
       "      <td>73 L</td>\n",
       "      <td>1600</td>\n",
       "      <td>Dammaiguda</td>\n",
       "      <td>not approval by RERA</td>\n",
       "      <td>2</td>\n",
       "      <td>not mentioned</td>\n",
       "    </tr>\n",
       "    <tr>\n",
       "      <th>433</th>\n",
       "      <td>433</td>\n",
       "      <td>4 BHK Apartment</td>\n",
       "      <td>seller</td>\n",
       "      <td>Ready to move</td>\n",
       "      <td>4,480 / sq ft</td>\n",
       "      <td>56 L</td>\n",
       "      <td>1250</td>\n",
       "      <td>Nizampet</td>\n",
       "      <td>not approval by RERA</td>\n",
       "      <td>4</td>\n",
       "      <td>not mentioned</td>\n",
       "    </tr>\n",
       "    <tr>\n",
       "      <th>434</th>\n",
       "      <td>434</td>\n",
       "      <td>3 BHK Apartment</td>\n",
       "      <td>seller</td>\n",
       "      <td>Ready to move</td>\n",
       "      <td>7,058 / sq ft</td>\n",
       "      <td>1.2 Cr</td>\n",
       "      <td>1700</td>\n",
       "      <td>Punjagutta</td>\n",
       "      <td>not approval by RERA</td>\n",
       "      <td>3</td>\n",
       "      <td>not mentioned</td>\n",
       "    </tr>\n",
       "    <tr>\n",
       "      <th>435</th>\n",
       "      <td>435</td>\n",
       "      <td>3 BHK Apartment</td>\n",
       "      <td>seller</td>\n",
       "      <td>Ready to move</td>\n",
       "      <td>5,357 / sq ft</td>\n",
       "      <td>75 L</td>\n",
       "      <td>1400</td>\n",
       "      <td>Bandlaguda Jagir</td>\n",
       "      <td>not approval by RERA</td>\n",
       "      <td>3</td>\n",
       "      <td>not mentioned</td>\n",
       "    </tr>\n",
       "    <tr>\n",
       "      <th>437</th>\n",
       "      <td>437</td>\n",
       "      <td>2 BHK Apartment</td>\n",
       "      <td>seller</td>\n",
       "      <td>Under Construction</td>\n",
       "      <td>4,910 / sq ft</td>\n",
       "      <td>55 L</td>\n",
       "      <td>1120</td>\n",
       "      <td>Bachupally</td>\n",
       "      <td>not approval by RERA</td>\n",
       "      <td>2</td>\n",
       "      <td>not mentioned</td>\n",
       "    </tr>\n",
       "    <tr>\n",
       "      <th>438</th>\n",
       "      <td>438</td>\n",
       "      <td>2 BHK Independent House</td>\n",
       "      <td>seller</td>\n",
       "      <td>Ready to move</td>\n",
       "      <td>8,090 / sq ft</td>\n",
       "      <td>89 L</td>\n",
       "      <td>1100</td>\n",
       "      <td>Balapur</td>\n",
       "      <td>not approval by RERA</td>\n",
       "      <td>2</td>\n",
       "      <td>not mentioned</td>\n",
       "    </tr>\n",
       "    <tr>\n",
       "      <th>439</th>\n",
       "      <td>439</td>\n",
       "      <td>3 BHK Apartment</td>\n",
       "      <td>seller</td>\n",
       "      <td>Ready to move</td>\n",
       "      <td>6,153 / sq ft</td>\n",
       "      <td>80 L</td>\n",
       "      <td>1300</td>\n",
       "      <td>Manikonda</td>\n",
       "      <td>not approval by RERA</td>\n",
       "      <td>3</td>\n",
       "      <td>not mentioned</td>\n",
       "    </tr>\n",
       "    <tr>\n",
       "      <th>440</th>\n",
       "      <td>440</td>\n",
       "      <td>3 BHK Apartment</td>\n",
       "      <td>seller</td>\n",
       "      <td>Ready to move</td>\n",
       "      <td>4,400 / sq ft</td>\n",
       "      <td>67.76 L</td>\n",
       "      <td>1540</td>\n",
       "      <td>Miyapur</td>\n",
       "      <td>not approval by RERA</td>\n",
       "      <td>3</td>\n",
       "      <td>not mentioned</td>\n",
       "    </tr>\n",
       "    <tr>\n",
       "      <th>441</th>\n",
       "      <td>441</td>\n",
       "      <td>2 BHK Apartment</td>\n",
       "      <td>seller</td>\n",
       "      <td>Under Construction</td>\n",
       "      <td>4,910 / sq ft</td>\n",
       "      <td>55 L</td>\n",
       "      <td>1120</td>\n",
       "      <td>Bachupally</td>\n",
       "      <td>not approval by RERA</td>\n",
       "      <td>2</td>\n",
       "      <td>not mentioned</td>\n",
       "    </tr>\n",
       "    <tr>\n",
       "      <th>458</th>\n",
       "      <td>458</td>\n",
       "      <td>2 BHK Apartment</td>\n",
       "      <td>seller</td>\n",
       "      <td>Ready to move</td>\n",
       "      <td>3,194 / sq ft</td>\n",
       "      <td>23 L</td>\n",
       "      <td>720</td>\n",
       "      <td>Gulshan EIqbal Colony</td>\n",
       "      <td>not approval by RERA</td>\n",
       "      <td>2</td>\n",
       "      <td>not mentioned</td>\n",
       "    </tr>\n",
       "    <tr>\n",
       "      <th>459</th>\n",
       "      <td>459</td>\n",
       "      <td>2 BHK Apartment</td>\n",
       "      <td>seller</td>\n",
       "      <td>Ready to move</td>\n",
       "      <td>3,500 / sq ft</td>\n",
       "      <td>35 L</td>\n",
       "      <td>1000</td>\n",
       "      <td>Miyapur</td>\n",
       "      <td>not approval by RERA</td>\n",
       "      <td>2</td>\n",
       "      <td>not mentioned</td>\n",
       "    </tr>\n",
       "    <tr>\n",
       "      <th>474</th>\n",
       "      <td>474</td>\n",
       "      <td>8 BHK Independent House</td>\n",
       "      <td>seller</td>\n",
       "      <td>Ready to move</td>\n",
       "      <td>6,172 / sq ft</td>\n",
       "      <td>2.5 Cr</td>\n",
       "      <td>4050</td>\n",
       "      <td>Kothapet</td>\n",
       "      <td>not approval by RERA</td>\n",
       "      <td>8</td>\n",
       "      <td>not mentioned</td>\n",
       "    </tr>\n",
       "    <tr>\n",
       "      <th>477</th>\n",
       "      <td>477</td>\n",
       "      <td>3 BHK Apartment</td>\n",
       "      <td>seller</td>\n",
       "      <td>Under Construction</td>\n",
       "      <td>4,621 / sq ft</td>\n",
       "      <td>55.5 L</td>\n",
       "      <td>1201</td>\n",
       "      <td>Bandlaguda Jagir</td>\n",
       "      <td>not approval by RERA</td>\n",
       "      <td>3</td>\n",
       "      <td>not mentioned</td>\n",
       "    </tr>\n",
       "  </tbody>\n",
       "</table>\n",
       "</div>"
      ],
      "text/plain": [
       "     Unnamed: 0            property_type  seller              status  \\\n",
       "314         314          3 BHK Apartment  seller       Ready to move   \n",
       "315         315  2 BHK Independent House  seller       Ready to move   \n",
       "316         316          2 BHK Apartment  seller  Under Construction   \n",
       "318         318          2 BHK Apartment  seller  Under Construction   \n",
       "319         319          2 BHK Apartment  seller       Ready to move   \n",
       "320         320          2 BHK Apartment  seller       Ready to move   \n",
       "324         324  2 BHK Independent House  seller       Ready to move   \n",
       "325         325          3 BHK Apartment  seller       Ready to move   \n",
       "326         326  3 BHK Independent House  seller       Ready to move   \n",
       "328         328  2 BHK Independent House  seller       Ready to move   \n",
       "329         329          2 BHK Apartment  seller       Ready to move   \n",
       "331         331          2 BHK Apartment  seller       Ready to move   \n",
       "333         333          2 BHK Apartment  seller       Ready to move   \n",
       "334         334          2 BHK Apartment  seller       Ready to move   \n",
       "335         335  7 BHK Independent House  seller       Ready to move   \n",
       "338         338          2 BHK Apartment  seller       Ready to move   \n",
       "339         339  4 BHK Independent House  seller       Ready to move   \n",
       "340         340              3 BHK Villa  seller  Under Construction   \n",
       "341         341          2 BHK Apartment  seller       Ready to move   \n",
       "342         342          2 BHK Apartment  seller  Under Construction   \n",
       "343         343          3 BHK Apartment  seller       Ready to move   \n",
       "351         351  3 BHK Independent House  seller       Ready to move   \n",
       "352         352  3 BHK Independent House  seller       Ready to move   \n",
       "353         353          2 BHK Apartment  seller       Ready to move   \n",
       "354         354          2 BHK Apartment  seller       Ready to move   \n",
       "355         355          2 BHK Apartment  seller  Under Construction   \n",
       "358         358          2 BHK Apartment  seller       Ready to move   \n",
       "359         359  8 BHK Independent House  seller       Ready to move   \n",
       "361         361          2 BHK Apartment  seller  Under Construction   \n",
       "362         362          2 BHK Apartment  seller       Ready to move   \n",
       "423         423  7 BHK Independent House  seller       Ready to move   \n",
       "424         424          2 BHK Apartment  seller       Ready to move   \n",
       "426         426          2 BHK Apartment  seller  Under Construction   \n",
       "428         428          2 BHK Apartment  seller  Under Construction   \n",
       "429         429          3 BHK Apartment  seller  Under Construction   \n",
       "430         430  2 BHK Independent House  seller  Under Construction   \n",
       "431         431  2 BHK Independent House  seller       Ready to move   \n",
       "432         432  2 BHK Independent House  seller       Ready to move   \n",
       "433         433          4 BHK Apartment  seller       Ready to move   \n",
       "434         434          3 BHK Apartment  seller       Ready to move   \n",
       "435         435          3 BHK Apartment  seller       Ready to move   \n",
       "437         437          2 BHK Apartment  seller  Under Construction   \n",
       "438         438  2 BHK Independent House  seller       Ready to move   \n",
       "439         439          3 BHK Apartment  seller       Ready to move   \n",
       "440         440          3 BHK Apartment  seller       Ready to move   \n",
       "441         441          2 BHK Apartment  seller  Under Construction   \n",
       "458         458          2 BHK Apartment  seller       Ready to move   \n",
       "459         459          2 BHK Apartment  seller       Ready to move   \n",
       "474         474  8 BHK Independent House  seller       Ready to move   \n",
       "477         477          3 BHK Apartment  seller  Under Construction   \n",
       "\n",
       "      rate per sqft     price  area                   location  \\\n",
       "314   4,246 / sq ft      62 L  1460              Dilsukh Nagar   \n",
       "315   6,363 / sq ft      70 L  1100                  Laxmiguda   \n",
       "316   4,833 / sq ft      58 L  1200  Pragathi Nagar Kukatpally   \n",
       "318   5,000 / sq ft      60 L  1200                   Kompally   \n",
       "319   4,000 / sq ft      40 L  1000                      Kapra   \n",
       "320   4,000 / sq ft      40 L  1000                      Kapra   \n",
       "324   4,761 / sq ft      50 L  1050                  Laxmiguda   \n",
       "325   4,736 / sq ft      72 L  1520                Puppalaguda   \n",
       "326   4,500 / sq ft    1.8 Cr  4000            Vanasthalipuram   \n",
       "328   5,619 / sq ft      59 L  1050                  Laxmiguda   \n",
       "329   4,900 / sq ft   62.08 L  1267                 Bachupally   \n",
       "331   3,864 / sq ft      40 L  1035                    Suraram   \n",
       "333   5,735 / sq ft      55 L   959                  Manikonda   \n",
       "334   5,630 / sq ft      54 L   959                  Manikonda   \n",
       "335   3,365 / sq ft   1.75 Cr  5200                    Nagaram   \n",
       "338   6,857 / sq ft      72 L  1050                 Masab Tank   \n",
       "339  19,318 / sq ft   4.25 Cr  2200                    Tarnaka   \n",
       "340   6,818 / sq ft    1.5 Cr  2200                  Indresham   \n",
       "341   5,934 / sq ft   68.25 L  1150                  Manikonda   \n",
       "342   3,000 / sq ft      42 L  1400                Chandanagar   \n",
       "343   4,050 / sq ft      45 L  1111                      Alwal   \n",
       "351  13,636 / sq ft    1.5 Cr  1100          Qutub Shahi Tombs   \n",
       "352  16,666 / sq ft    1.5 Cr   900               Santoshnagar   \n",
       "353   3,597 / sq ft      40 L  1112                   Nizampet   \n",
       "354   5,440 / sq ft      68 L  1250                 Kukatpally   \n",
       "355   7,333 / sq ft      66 L   900                  Erragadda   \n",
       "358   5,000 / sq ft      60 L  1200               AS Rao Nagar   \n",
       "359   8,950 / sq ft    2.9 Cr  3240                  Moula Ali   \n",
       "361   5,636 / sq ft      62 L  1100             Padmarao Nagar   \n",
       "362   5,000 / sq ft      51 L  1020                   Mallapur   \n",
       "423   6,222 / sq ft    2.8 Cr  4500                      Alwal   \n",
       "424   6,730 / sq ft      63 L   936                 Sainikpuri   \n",
       "426   4,500 / sq ft   54.94 L  1221                 Bachupally   \n",
       "428   4,400 / sq ft      55 L  1250                    Suraram   \n",
       "429   4,451 / sq ft      69 L  1550                    Suraram   \n",
       "430   6,363 / sq ft      70 L  1100                    Isnapur   \n",
       "431   6,250 / sq ft      75 L  1200          Krishna Reddy Pet   \n",
       "432   4,562 / sq ft      73 L  1600                 Dammaiguda   \n",
       "433   4,480 / sq ft      56 L  1250                   Nizampet   \n",
       "434   7,058 / sq ft    1.2 Cr  1700                 Punjagutta   \n",
       "435   5,357 / sq ft      75 L  1400           Bandlaguda Jagir   \n",
       "437   4,910 / sq ft      55 L  1120                 Bachupally   \n",
       "438   8,090 / sq ft      89 L  1100                    Balapur   \n",
       "439   6,153 / sq ft      80 L  1300                  Manikonda   \n",
       "440   4,400 / sq ft   67.76 L  1540                    Miyapur   \n",
       "441   4,910 / sq ft      55 L  1120                 Bachupally   \n",
       "458   3,194 / sq ft      23 L   720      Gulshan EIqbal Colony   \n",
       "459   3,500 / sq ft      35 L  1000                    Miyapur   \n",
       "474   6,172 / sq ft    2.5 Cr  4050                   Kothapet   \n",
       "477   4,621 / sq ft    55.5 L  1201           Bandlaguda Jagir   \n",
       "\n",
       "                     RERA BHK    projectname  \n",
       "314  not approval by RERA   3  not mentioned  \n",
       "315  not approval by RERA   2  not mentioned  \n",
       "316  not approval by RERA   2  not mentioned  \n",
       "318  not approval by RERA   2  not mentioned  \n",
       "319  not approval by RERA   2  not mentioned  \n",
       "320  not approval by RERA   2  not mentioned  \n",
       "324  not approval by RERA   2  not mentioned  \n",
       "325  not approval by RERA   3  not mentioned  \n",
       "326  not approval by RERA   3  not mentioned  \n",
       "328  not approval by RERA   2  not mentioned  \n",
       "329  not approval by RERA   2  not mentioned  \n",
       "331  not approval by RERA   2  not mentioned  \n",
       "333  not approval by RERA   2  not mentioned  \n",
       "334  not approval by RERA   2  not mentioned  \n",
       "335  not approval by RERA   7  not mentioned  \n",
       "338  not approval by RERA   2  not mentioned  \n",
       "339  not approval by RERA   4  not mentioned  \n",
       "340  not approval by RERA   3  not mentioned  \n",
       "341  not approval by RERA   2  not mentioned  \n",
       "342  not approval by RERA   2  not mentioned  \n",
       "343  not approval by RERA   3  not mentioned  \n",
       "351  not approval by RERA   3  not mentioned  \n",
       "352  not approval by RERA   3  not mentioned  \n",
       "353  not approval by RERA   2  not mentioned  \n",
       "354  not approval by RERA   2  not mentioned  \n",
       "355  not approval by RERA   2  not mentioned  \n",
       "358  not approval by RERA   2  not mentioned  \n",
       "359  not approval by RERA   8  not mentioned  \n",
       "361  not approval by RERA   2  not mentioned  \n",
       "362  not approval by RERA   2  not mentioned  \n",
       "423  not approval by RERA   7  not mentioned  \n",
       "424  not approval by RERA   2  not mentioned  \n",
       "426  not approval by RERA   2  not mentioned  \n",
       "428  not approval by RERA   2  not mentioned  \n",
       "429  not approval by RERA   3  not mentioned  \n",
       "430  not approval by RERA   2  not mentioned  \n",
       "431  not approval by RERA   2  not mentioned  \n",
       "432  not approval by RERA   2  not mentioned  \n",
       "433  not approval by RERA   4  not mentioned  \n",
       "434  not approval by RERA   3  not mentioned  \n",
       "435  not approval by RERA   3  not mentioned  \n",
       "437  not approval by RERA   2  not mentioned  \n",
       "438  not approval by RERA   2  not mentioned  \n",
       "439  not approval by RERA   3  not mentioned  \n",
       "440  not approval by RERA   3  not mentioned  \n",
       "441  not approval by RERA   2  not mentioned  \n",
       "458  not approval by RERA   2  not mentioned  \n",
       "459  not approval by RERA   2  not mentioned  \n",
       "474  not approval by RERA   8  not mentioned  \n",
       "477  not approval by RERA   3  not mentioned  "
      ]
     },
     "execution_count": 21,
     "metadata": {},
     "output_type": "execute_result"
    }
   ],
   "source": [
    "df[(df['projectname']=='not mentioned') & (df['seller']=='seller')]"
   ]
  },
  {
   "cell_type": "markdown",
   "id": "e41b6fc0",
   "metadata": {},
   "source": [
    "# extracting property_type"
   ]
  },
  {
   "cell_type": "code",
   "execution_count": 22,
   "id": "1b9dd20d",
   "metadata": {},
   "outputs": [],
   "source": [
    "df['property_type']=df.property_type.apply(lambda x: x.split(' ')[2])"
   ]
  },
  {
   "cell_type": "code",
   "execution_count": 23,
   "id": "86b26255",
   "metadata": {},
   "outputs": [
    {
     "data": {
      "text/plain": [
       "Apartment      414\n",
       "Villa           44\n",
       "Independent     22\n",
       "Name: property_type, dtype: int64"
      ]
     },
     "execution_count": 23,
     "metadata": {},
     "output_type": "execute_result"
    }
   ],
   "source": [
    "df.property_type.value_counts()"
   ]
  },
  {
   "cell_type": "markdown",
   "id": "92280d53",
   "metadata": {},
   "source": [
    "# rate per sqft"
   ]
  },
  {
   "cell_type": "markdown",
   "id": "9d09ba1b",
   "metadata": {},
   "source": [
    "# rate per sqft"
   ]
  },
  {
   "cell_type": "code",
   "execution_count": 24,
   "id": "3119154b",
   "metadata": {},
   "outputs": [],
   "source": [
    "df['rate per sqft']=df['rate per sqft'].apply(lambda x : x.split(' ')[0])"
   ]
  },
  {
   "cell_type": "code",
   "execution_count": 25,
   "id": "b7c22192",
   "metadata": {},
   "outputs": [],
   "source": [
    "df['rate per sqft']=df['rate per sqft'].apply(lambda x:\"\".join(x.split(',')))"
   ]
  },
  {
   "cell_type": "code",
   "execution_count": 26,
   "id": "5914b649",
   "metadata": {},
   "outputs": [
    {
     "data": {
      "text/plain": [
       "6000     45\n",
       "6400     42\n",
       "5600     30\n",
       "6300     18\n",
       "5400     17\n",
       "         ..\n",
       "9009      1\n",
       "9666      1\n",
       "5705      1\n",
       "10344     1\n",
       "5750      1\n",
       "Name: rate per sqft, Length: 142, dtype: int64"
      ]
     },
     "execution_count": 26,
     "metadata": {},
     "output_type": "execute_result"
    }
   ],
   "source": [
    "df['rate per sqft'].value_counts()"
   ]
  },
  {
   "cell_type": "code",
   "execution_count": 27,
   "id": "12c86c32",
   "metadata": {},
   "outputs": [
    {
     "name": "stdout",
     "output_type": "stream",
     "text": [
      "<class 'pandas.core.frame.DataFrame'>\n",
      "RangeIndex: 480 entries, 0 to 479\n",
      "Data columns (total 11 columns):\n",
      " #   Column         Non-Null Count  Dtype \n",
      "---  ------         --------------  ----- \n",
      " 0   Unnamed: 0     480 non-null    int64 \n",
      " 1   property_type  480 non-null    object\n",
      " 2   seller         480 non-null    object\n",
      " 3   status         480 non-null    object\n",
      " 4   rate per sqft  480 non-null    object\n",
      " 5   price          480 non-null    object\n",
      " 6   area           480 non-null    int64 \n",
      " 7   location       480 non-null    object\n",
      " 8   RERA           480 non-null    object\n",
      " 9   BHK            480 non-null    object\n",
      " 10  projectname    480 non-null    object\n",
      "dtypes: int64(2), object(9)\n",
      "memory usage: 41.4+ KB\n"
     ]
    }
   ],
   "source": [
    "df.info()"
   ]
  },
  {
   "cell_type": "code",
   "execution_count": 28,
   "id": "00c7da8a",
   "metadata": {},
   "outputs": [],
   "source": [
    "df['rate per sqft']=df['rate per sqft'].astype(float)\n",
    "df.BHK=df.BHK.astype(int)\n"
   ]
  },
  {
   "cell_type": "markdown",
   "id": "cd8c1981",
   "metadata": {},
   "source": [
    "# price in lakhs"
   ]
  },
  {
   "cell_type": "code",
   "execution_count": 29,
   "id": "a99f2eb7",
   "metadata": {},
   "outputs": [
    {
     "data": {
      "text/plain": [
       " 1.09 Cr    14\n",
       " 1.16 Cr    11\n",
       " 1.03 Cr     9\n",
       " 1.07 Cr     8\n",
       " 1.14 Cr     8\n",
       "            ..\n",
       " 42.78 L     1\n",
       " 38.98 L     1\n",
       " 38.3 L      1\n",
       " 37.84 L     1\n",
       " 55.5 L      1\n",
       "Name: price, Length: 279, dtype: int64"
      ]
     },
     "execution_count": 29,
     "metadata": {},
     "output_type": "execute_result"
    }
   ],
   "source": [
    "df.price.value_counts()"
   ]
  },
  {
   "cell_type": "markdown",
   "id": "29ab403e",
   "metadata": {},
   "source": [
    "# converting crores to lakhs"
   ]
  },
  {
   "cell_type": "code",
   "execution_count": 30,
   "id": "6335d965",
   "metadata": {},
   "outputs": [],
   "source": [
    "rate=[]\n",
    "for i in df['price']:\n",
    "    if i.split()[-1]=='Cr':\n",
    "        rate.append(round(float(i.split()[0])*100,2))\n",
    "    else:\n",
    "        rate.append(float(i.split()[0]))"
   ]
  },
  {
   "cell_type": "code",
   "execution_count": 31,
   "id": "3ff8a728",
   "metadata": {},
   "outputs": [
    {
     "data": {
      "text/plain": [
       "[80.95,\n",
       " 64.47,\n",
       " 248.0,\n",
       " 116.0,\n",
       " 94.98,\n",
       " 199.0,\n",
       " 43.47,\n",
       " 108.0,\n",
       " 85.15,\n",
       " 364.0,\n",
       " 220.0,\n",
       " 141.0,\n",
       " 50.01,\n",
       " 85.18,\n",
       " 456.0,\n",
       " 120.0,\n",
       " 64.72,\n",
       " 61.83,\n",
       " 155.0,\n",
       " 104.0,\n",
       " 64.54,\n",
       " 129.0,\n",
       " 486.0,\n",
       " 62.93,\n",
       " 84.45,\n",
       " 777.0,\n",
       " 219.0,\n",
       " 115.0,\n",
       " 82.65,\n",
       " 189.0,\n",
       " 49.72,\n",
       " 265.0,\n",
       " 102.0,\n",
       " 51.87,\n",
       " 109.0,\n",
       " 93.8,\n",
       " 69.41,\n",
       " 93.8,\n",
       " 98.52,\n",
       " 90.75,\n",
       " 107.0,\n",
       " 53.55,\n",
       " 295.0,\n",
       " 83.75,\n",
       " 121.0,\n",
       " 207.0,\n",
       " 47.08,\n",
       " 104.0,\n",
       " 152.0,\n",
       " 341.0,\n",
       " 135.0,\n",
       " 120.0,\n",
       " 54.67,\n",
       " 62.14,\n",
       " 446.0,\n",
       " 112.0,\n",
       " 79.71,\n",
       " 79.92,\n",
       " 147.0,\n",
       " 75.69,\n",
       " 50.14,\n",
       " 91.18,\n",
       " 375.0,\n",
       " 76.33,\n",
       " 922.0,\n",
       " 650.0,\n",
       " 117.0,\n",
       " 101.0,\n",
       " 213.0,\n",
       " 52.16,\n",
       " 234.0,\n",
       " 117.0,\n",
       " 236.0,\n",
       " 109.0,\n",
       " 68.15,\n",
       " 65.97,\n",
       " 68.15,\n",
       " 94.14,\n",
       " 68.75,\n",
       " 81.77,\n",
       " 70.35,\n",
       " 164.0,\n",
       " 116.0,\n",
       " 69.23,\n",
       " 211.0,\n",
       " 37.54,\n",
       " 92.12,\n",
       " 99.77,\n",
       " 351.0,\n",
       " 160.0,\n",
       " 161.0,\n",
       " 53.8,\n",
       " 57.34,\n",
       " 450.0,\n",
       " 84.98,\n",
       " 109.0,\n",
       " 78.84,\n",
       " 128.0,\n",
       " 98.89,\n",
       " 198.0,\n",
       " 104.0,\n",
       " 161.0,\n",
       " 92.01,\n",
       " 83.56,\n",
       " 91.82,\n",
       " 122.0,\n",
       " 118.0,\n",
       " 106.0,\n",
       " 98.48,\n",
       " 122.0,\n",
       " 122.0,\n",
       " 109.0,\n",
       " 93.73,\n",
       " 77.48,\n",
       " 90.98,\n",
       " 70.98,\n",
       " 109.0,\n",
       " 69.98,\n",
       " 81.73,\n",
       " 146.0,\n",
       " 152.0,\n",
       " 201.0,\n",
       " 137.0,\n",
       " 150.0,\n",
       " 133.0,\n",
       " 139.0,\n",
       " 160.0,\n",
       " 125.0,\n",
       " 129.0,\n",
       " 42.82,\n",
       " 36.48,\n",
       " 42.78,\n",
       " 38.98,\n",
       " 38.3,\n",
       " 37.84,\n",
       " 32.22,\n",
       " 110.0,\n",
       " 97.9,\n",
       " 109.0,\n",
       " 96.8,\n",
       " 85.8,\n",
       " 67.92,\n",
       " 91.57,\n",
       " 141.0,\n",
       " 126.0,\n",
       " 77.67,\n",
       " 109.0,\n",
       " 114.0,\n",
       " 164.0,\n",
       " 160.0,\n",
       " 134.0,\n",
       " 332.0,\n",
       " 120.0,\n",
       " 103.0,\n",
       " 84.56,\n",
       " 110.0,\n",
       " 106.0,\n",
       " 114.0,\n",
       " 162.0,\n",
       " 110.0,\n",
       " 113.0,\n",
       " 61.6,\n",
       " 102.0,\n",
       " 68.88,\n",
       " 89.88,\n",
       " 116.0,\n",
       " 139.0,\n",
       " 66.92,\n",
       " 169.0,\n",
       " 107.0,\n",
       " 145.0,\n",
       " 176.0,\n",
       " 123.0,\n",
       " 63.56,\n",
       " 104.0,\n",
       " 93.69,\n",
       " 65.88,\n",
       " 93.69,\n",
       " 89.1,\n",
       " 65.88,\n",
       " 63.8,\n",
       " 89.1,\n",
       " 94.5,\n",
       " 63.8,\n",
       " 64.8,\n",
       " 94.5,\n",
       " 50.49,\n",
       " 59.85,\n",
       " 69.98,\n",
       " 57.6,\n",
       " 60.7,\n",
       " 97.18,\n",
       " 78.66,\n",
       " 68.11,\n",
       " 102.0,\n",
       " 92.91,\n",
       " 91.9,\n",
       " 77.98,\n",
       " 68.62,\n",
       " 72.63,\n",
       " 99.79,\n",
       " 110.0,\n",
       " 105.0,\n",
       " 107.0,\n",
       " 457.0,\n",
       " 319.0,\n",
       " 295.0,\n",
       " 128.0,\n",
       " 123.0,\n",
       " 139.0,\n",
       " 139.0,\n",
       " 116.0,\n",
       " 116.0,\n",
       " 116.0,\n",
       " 87.7,\n",
       " 160.0,\n",
       " 160.0,\n",
       " 125.0,\n",
       " 94.06,\n",
       " 94.06,\n",
       " 140.0,\n",
       " 137.0,\n",
       " 137.0,\n",
       " 396.0,\n",
       " 396.0,\n",
       " 298.0,\n",
       " 298.0,\n",
       " 132.0,\n",
       " 132.0,\n",
       " 275.0,\n",
       " 275.0,\n",
       " 74.72,\n",
       " 94.71,\n",
       " 673.0,\n",
       " 671.0,\n",
       " 114.0,\n",
       " 130.0,\n",
       " 98.29,\n",
       " 87.69,\n",
       " 110.0,\n",
       " 157.0,\n",
       " 146.0,\n",
       " 80.64,\n",
       " 180.0,\n",
       " 136.0,\n",
       " 124.0,\n",
       " 90.76,\n",
       " 165.0,\n",
       " 129.0,\n",
       " 179.0,\n",
       " 109.0,\n",
       " 92.16,\n",
       " 118.0,\n",
       " 113.0,\n",
       " 179.0,\n",
       " 161.0,\n",
       " 109.0,\n",
       " 129.0,\n",
       " 92.16,\n",
       " 116.0,\n",
       " 118.0,\n",
       " 125.0,\n",
       " 113.0,\n",
       " 116.0,\n",
       " 161.0,\n",
       " 112.0,\n",
       " 129.0,\n",
       " 116.0,\n",
       " 121.0,\n",
       " 125.0,\n",
       " 116.0,\n",
       " 117.0,\n",
       " 112.0,\n",
       " 115.0,\n",
       " 121.0,\n",
       " 85.88,\n",
       " 117.0,\n",
       " 119.0,\n",
       " 115.0,\n",
       " 124.0,\n",
       " 85.88,\n",
       " 119.0,\n",
       " 103.0,\n",
       " 124.0,\n",
       " 173.0,\n",
       " 103.0,\n",
       " 114.0,\n",
       " 173.0,\n",
       " 114.0,\n",
       " 157.0,\n",
       " 157.0,\n",
       " 169.0,\n",
       " 126.0,\n",
       " 93.49,\n",
       " 74.53,\n",
       " 60.9,\n",
       " 81.02,\n",
       " 80.91,\n",
       " 93.58,\n",
       " 77.98,\n",
       " 134.0,\n",
       " 133.0,\n",
       " 129.0,\n",
       " 130.0,\n",
       " 124.0,\n",
       " 120.0,\n",
       " 99.98,\n",
       " 65.96,\n",
       " 86.44,\n",
       " 117.0,\n",
       " 106.0,\n",
       " 96.8,\n",
       " 59.14,\n",
       " 1400.0,\n",
       " 62.0,\n",
       " 70.0,\n",
       " 58.0,\n",
       " 64.5,\n",
       " 60.0,\n",
       " 40.0,\n",
       " 40.0,\n",
       " 40.0,\n",
       " 50.0,\n",
       " 104.0,\n",
       " 50.0,\n",
       " 72.0,\n",
       " 180.0,\n",
       " 65.0,\n",
       " 59.0,\n",
       " 62.08,\n",
       " 74.0,\n",
       " 40.0,\n",
       " 91.0,\n",
       " 55.0,\n",
       " 54.0,\n",
       " 175.0,\n",
       " 73.0,\n",
       " 55.0,\n",
       " 72.0,\n",
       " 425.0,\n",
       " 150.0,\n",
       " 68.25,\n",
       " 42.0,\n",
       " 45.0,\n",
       " 712.0,\n",
       " 219.0,\n",
       " 444.0,\n",
       " 650.0,\n",
       " 444.0,\n",
       " 333.0,\n",
       " 333.0,\n",
       " 150.0,\n",
       " 150.0,\n",
       " 40.0,\n",
       " 68.0,\n",
       " 66.0,\n",
       " 92.0,\n",
       " 54.0,\n",
       " 60.0,\n",
       " 290.0,\n",
       " 70.0,\n",
       " 62.0,\n",
       " 51.0,\n",
       " 107.0,\n",
       " 115.0,\n",
       " 85.68,\n",
       " 117.0,\n",
       " 107.0,\n",
       " 114.0,\n",
       " 85.68,\n",
       " 114.0,\n",
       " 79.06,\n",
       " 79.06,\n",
       " 80.01,\n",
       " 80.01,\n",
       " 98.16,\n",
       " 98.16,\n",
       " 78.48,\n",
       " 78.48,\n",
       " 75.12,\n",
       " 75.12,\n",
       " 105.0,\n",
       " 105.0,\n",
       " 109.0,\n",
       " 109.0,\n",
       " 98.16,\n",
       " 77.88,\n",
       " 77.88,\n",
       " 78.48,\n",
       " 75.12,\n",
       " 97.8,\n",
       " 97.8,\n",
       " 105.0,\n",
       " 96.66,\n",
       " 96.66,\n",
       " 109.0,\n",
       " 77.88,\n",
       " 93.0,\n",
       " 93.0,\n",
       " 97.8,\n",
       " 76.86,\n",
       " 76.86,\n",
       " 96.66,\n",
       " 93.0,\n",
       " 107.0,\n",
       " 107.0,\n",
       " 76.86,\n",
       " 75.66,\n",
       " 107.0,\n",
       " 75.66,\n",
       " 75.66,\n",
       " 103.0,\n",
       " 103.0,\n",
       " 103.0,\n",
       " 103.0,\n",
       " 103.0,\n",
       " 103.0,\n",
       " 80.47,\n",
       " 106.0,\n",
       " 66.8,\n",
       " 71.06,\n",
       " 109.0,\n",
       " 113.0,\n",
       " 280.0,\n",
       " 63.0,\n",
       " 80.0,\n",
       " 54.94,\n",
       " 120.0,\n",
       " 55.0,\n",
       " 69.0,\n",
       " 70.0,\n",
       " 75.0,\n",
       " 73.0,\n",
       " 56.0,\n",
       " 120.0,\n",
       " 75.0,\n",
       " 76.0,\n",
       " 55.0,\n",
       " 89.0,\n",
       " 80.0,\n",
       " 67.76,\n",
       " 55.0,\n",
       " 85.03,\n",
       " 74.01,\n",
       " 100.0,\n",
       " 99.15,\n",
       " 99.44,\n",
       " 114.0,\n",
       " 86.72,\n",
       " 72.03,\n",
       " 109.0,\n",
       " 108.0,\n",
       " 74.86,\n",
       " 116.0,\n",
       " 75.42,\n",
       " 112.0,\n",
       " 117.0,\n",
       " 71.47,\n",
       " 23.0,\n",
       " 35.0,\n",
       " 58.25,\n",
       " 48.36,\n",
       " 119.0,\n",
       " 143.0,\n",
       " 136.0,\n",
       " 126.0,\n",
       " 149.0,\n",
       " 148.0,\n",
       " 193.0,\n",
       " 155.0,\n",
       " 148.0,\n",
       " 189.0,\n",
       " 188.0,\n",
       " 165.0,\n",
       " 250.0,\n",
       " 77.0,\n",
       " 64.0,\n",
       " 55.5,\n",
       " 75.0,\n",
       " 69.0]"
      ]
     },
     "execution_count": 31,
     "metadata": {},
     "output_type": "execute_result"
    }
   ],
   "source": [
    "rate"
   ]
  },
  {
   "cell_type": "code",
   "execution_count": 32,
   "id": "d300e823",
   "metadata": {},
   "outputs": [],
   "source": [
    "df['price(in_lakhs)']=rate\n",
    "df.drop('price',axis=1,inplace=True)"
   ]
  },
  {
   "cell_type": "code",
   "execution_count": 33,
   "id": "116b3d34",
   "metadata": {},
   "outputs": [
    {
     "data": {
      "text/html": [
       "<div>\n",
       "<style scoped>\n",
       "    .dataframe tbody tr th:only-of-type {\n",
       "        vertical-align: middle;\n",
       "    }\n",
       "\n",
       "    .dataframe tbody tr th {\n",
       "        vertical-align: top;\n",
       "    }\n",
       "\n",
       "    .dataframe thead th {\n",
       "        text-align: right;\n",
       "    }\n",
       "</style>\n",
       "<table border=\"1\" class=\"dataframe\">\n",
       "  <thead>\n",
       "    <tr style=\"text-align: right;\">\n",
       "      <th></th>\n",
       "      <th>Unnamed: 0</th>\n",
       "      <th>property_type</th>\n",
       "      <th>seller</th>\n",
       "      <th>status</th>\n",
       "      <th>rate per sqft</th>\n",
       "      <th>area</th>\n",
       "      <th>location</th>\n",
       "      <th>RERA</th>\n",
       "      <th>BHK</th>\n",
       "      <th>projectname</th>\n",
       "      <th>price(in_lakhs)</th>\n",
       "    </tr>\n",
       "  </thead>\n",
       "  <tbody>\n",
       "    <tr>\n",
       "      <th>0</th>\n",
       "      <td>0</td>\n",
       "      <td>Apartment</td>\n",
       "      <td>Riddhi Group</td>\n",
       "      <td>Ready to move</td>\n",
       "      <td>6300.0</td>\n",
       "      <td>1285</td>\n",
       "      <td>Puppalaguda</td>\n",
       "      <td>not approval by RERA</td>\n",
       "      <td>2</td>\n",
       "      <td>Riddhi Golden Nest</td>\n",
       "      <td>80.95</td>\n",
       "    </tr>\n",
       "    <tr>\n",
       "      <th>1</th>\n",
       "      <td>1</td>\n",
       "      <td>Apartment</td>\n",
       "      <td>Vajra Builders And Developers</td>\n",
       "      <td>Under Construction</td>\n",
       "      <td>4200.0</td>\n",
       "      <td>1535</td>\n",
       "      <td>Bowrampet</td>\n",
       "      <td>approval by RERA</td>\n",
       "      <td>3</td>\n",
       "      <td>Vajra The Royal Park</td>\n",
       "      <td>64.47</td>\n",
       "    </tr>\n",
       "    <tr>\n",
       "      <th>2</th>\n",
       "      <td>2</td>\n",
       "      <td>Villa</td>\n",
       "      <td>Saket Engineers Pvt Ltd</td>\n",
       "      <td>Under Construction</td>\n",
       "      <td>7749.0</td>\n",
       "      <td>3209</td>\n",
       "      <td>Kompally</td>\n",
       "      <td>approval by RERA</td>\n",
       "      <td>3</td>\n",
       "      <td>Saket Bhusatva Ph II</td>\n",
       "      <td>248.00</td>\n",
       "    </tr>\n",
       "    <tr>\n",
       "      <th>3</th>\n",
       "      <td>3</td>\n",
       "      <td>Apartment</td>\n",
       "      <td>Anuhar Homes Pvt Ltd</td>\n",
       "      <td>Under Construction</td>\n",
       "      <td>6350.0</td>\n",
       "      <td>1840</td>\n",
       "      <td>Manikonda</td>\n",
       "      <td>approval by RERA</td>\n",
       "      <td>3</td>\n",
       "      <td>Anuhar Towers</td>\n",
       "      <td>116.00</td>\n",
       "    </tr>\n",
       "    <tr>\n",
       "      <th>4</th>\n",
       "      <td>4</td>\n",
       "      <td>Apartment</td>\n",
       "      <td>Signature Avenues</td>\n",
       "      <td>Under Construction</td>\n",
       "      <td>4999.0</td>\n",
       "      <td>1900</td>\n",
       "      <td>Kollur</td>\n",
       "      <td>approval by RERA</td>\n",
       "      <td>3</td>\n",
       "      <td>Signature Altius</td>\n",
       "      <td>94.98</td>\n",
       "    </tr>\n",
       "  </tbody>\n",
       "</table>\n",
       "</div>"
      ],
      "text/plain": [
       "   Unnamed: 0 property_type                         seller  \\\n",
       "0           0     Apartment                   Riddhi Group   \n",
       "1           1     Apartment  Vajra Builders And Developers   \n",
       "2           2         Villa        Saket Engineers Pvt Ltd   \n",
       "3           3     Apartment           Anuhar Homes Pvt Ltd   \n",
       "4           4     Apartment              Signature Avenues   \n",
       "\n",
       "               status  rate per sqft  area     location                  RERA  \\\n",
       "0       Ready to move         6300.0  1285  Puppalaguda  not approval by RERA   \n",
       "1  Under Construction         4200.0  1535    Bowrampet      approval by RERA   \n",
       "2  Under Construction         7749.0  3209     Kompally      approval by RERA   \n",
       "3  Under Construction         6350.0  1840    Manikonda      approval by RERA   \n",
       "4  Under Construction         4999.0  1900       Kollur      approval by RERA   \n",
       "\n",
       "   BHK           projectname  price(in_lakhs)  \n",
       "0    2    Riddhi Golden Nest            80.95  \n",
       "1    3  Vajra The Royal Park            64.47  \n",
       "2    3  Saket Bhusatva Ph II           248.00  \n",
       "3    3         Anuhar Towers           116.00  \n",
       "4    3      Signature Altius            94.98  "
      ]
     },
     "execution_count": 33,
     "metadata": {},
     "output_type": "execute_result"
    }
   ],
   "source": [
    "df.head()"
   ]
  },
  {
   "cell_type": "code",
   "execution_count": 34,
   "id": "51c7d49c",
   "metadata": {},
   "outputs": [
    {
     "name": "stdout",
     "output_type": "stream",
     "text": [
      "<class 'pandas.core.frame.DataFrame'>\n",
      "RangeIndex: 480 entries, 0 to 479\n",
      "Data columns (total 11 columns):\n",
      " #   Column           Non-Null Count  Dtype  \n",
      "---  ------           --------------  -----  \n",
      " 0   Unnamed: 0       480 non-null    int64  \n",
      " 1   property_type    480 non-null    object \n",
      " 2   seller           480 non-null    object \n",
      " 3   status           480 non-null    object \n",
      " 4   rate per sqft    480 non-null    float64\n",
      " 5   area             480 non-null    int64  \n",
      " 6   location         480 non-null    object \n",
      " 7   RERA             480 non-null    object \n",
      " 8   BHK              480 non-null    int32  \n",
      " 9   projectname      480 non-null    object \n",
      " 10  price(in_lakhs)  480 non-null    float64\n",
      "dtypes: float64(2), int32(1), int64(2), object(6)\n",
      "memory usage: 39.5+ KB\n"
     ]
    }
   ],
   "source": [
    "df.info()"
   ]
  },
  {
   "cell_type": "code",
   "execution_count": 35,
   "id": "ec002008",
   "metadata": {},
   "outputs": [],
   "source": [
    "df.drop('Unnamed: 0',axis=1,inplace=True)"
   ]
  },
  {
   "cell_type": "code",
   "execution_count": 36,
   "id": "c7a8476b",
   "metadata": {},
   "outputs": [
    {
     "data": {
      "text/plain": [
       "(480, 10)"
      ]
     },
     "execution_count": 36,
     "metadata": {},
     "output_type": "execute_result"
    }
   ],
   "source": [
    "df.shape"
   ]
  },
  {
   "cell_type": "code",
   "execution_count": 37,
   "id": "6b6282bd",
   "metadata": {},
   "outputs": [
    {
     "data": {
      "text/html": [
       "<div>\n",
       "<style scoped>\n",
       "    .dataframe tbody tr th:only-of-type {\n",
       "        vertical-align: middle;\n",
       "    }\n",
       "\n",
       "    .dataframe tbody tr th {\n",
       "        vertical-align: top;\n",
       "    }\n",
       "\n",
       "    .dataframe thead th {\n",
       "        text-align: right;\n",
       "    }\n",
       "</style>\n",
       "<table border=\"1\" class=\"dataframe\">\n",
       "  <thead>\n",
       "    <tr style=\"text-align: right;\">\n",
       "      <th></th>\n",
       "      <th>rate per sqft</th>\n",
       "      <th>area</th>\n",
       "      <th>BHK</th>\n",
       "      <th>price(in_lakhs)</th>\n",
       "    </tr>\n",
       "  </thead>\n",
       "  <tbody>\n",
       "    <tr>\n",
       "      <th>count</th>\n",
       "      <td>480.000000</td>\n",
       "      <td>480.000000</td>\n",
       "      <td>480.000000</td>\n",
       "      <td>480.000000</td>\n",
       "    </tr>\n",
       "    <tr>\n",
       "      <th>mean</th>\n",
       "      <td>6205.677083</td>\n",
       "      <td>1938.500000</td>\n",
       "      <td>2.850000</td>\n",
       "      <td>128.363708</td>\n",
       "    </tr>\n",
       "    <tr>\n",
       "      <th>std</th>\n",
       "      <td>1861.008276</td>\n",
       "      <td>1040.351021</td>\n",
       "      <td>0.766196</td>\n",
       "      <td>118.213625</td>\n",
       "    </tr>\n",
       "    <tr>\n",
       "      <th>min</th>\n",
       "      <td>1778.000000</td>\n",
       "      <td>720.000000</td>\n",
       "      <td>2.000000</td>\n",
       "      <td>23.000000</td>\n",
       "    </tr>\n",
       "    <tr>\n",
       "      <th>25%</th>\n",
       "      <td>5400.000000</td>\n",
       "      <td>1307.250000</td>\n",
       "      <td>2.000000</td>\n",
       "      <td>75.660000</td>\n",
       "    </tr>\n",
       "    <tr>\n",
       "      <th>50%</th>\n",
       "      <td>6000.000000</td>\n",
       "      <td>1725.500000</td>\n",
       "      <td>3.000000</td>\n",
       "      <td>103.000000</td>\n",
       "    </tr>\n",
       "    <tr>\n",
       "      <th>75%</th>\n",
       "      <td>6400.000000</td>\n",
       "      <td>2063.250000</td>\n",
       "      <td>3.000000</td>\n",
       "      <td>129.000000</td>\n",
       "    </tr>\n",
       "    <tr>\n",
       "      <th>max</th>\n",
       "      <td>20000.000000</td>\n",
       "      <td>9000.000000</td>\n",
       "      <td>8.000000</td>\n",
       "      <td>1400.000000</td>\n",
       "    </tr>\n",
       "  </tbody>\n",
       "</table>\n",
       "</div>"
      ],
      "text/plain": [
       "       rate per sqft         area         BHK  price(in_lakhs)\n",
       "count     480.000000   480.000000  480.000000       480.000000\n",
       "mean     6205.677083  1938.500000    2.850000       128.363708\n",
       "std      1861.008276  1040.351021    0.766196       118.213625\n",
       "min      1778.000000   720.000000    2.000000        23.000000\n",
       "25%      5400.000000  1307.250000    2.000000        75.660000\n",
       "50%      6000.000000  1725.500000    3.000000       103.000000\n",
       "75%      6400.000000  2063.250000    3.000000       129.000000\n",
       "max     20000.000000  9000.000000    8.000000      1400.000000"
      ]
     },
     "execution_count": 37,
     "metadata": {},
     "output_type": "execute_result"
    }
   ],
   "source": [
    "df.describe()"
   ]
  },
  {
   "cell_type": "code",
   "execution_count": 38,
   "id": "a1870fc1",
   "metadata": {},
   "outputs": [
    {
     "data": {
      "text/html": [
       "<div>\n",
       "<style scoped>\n",
       "    .dataframe tbody tr th:only-of-type {\n",
       "        vertical-align: middle;\n",
       "    }\n",
       "\n",
       "    .dataframe tbody tr th {\n",
       "        vertical-align: top;\n",
       "    }\n",
       "\n",
       "    .dataframe thead th {\n",
       "        text-align: right;\n",
       "    }\n",
       "</style>\n",
       "<table border=\"1\" class=\"dataframe\">\n",
       "  <thead>\n",
       "    <tr style=\"text-align: right;\">\n",
       "      <th></th>\n",
       "      <th>property_type</th>\n",
       "      <th>seller</th>\n",
       "      <th>status</th>\n",
       "      <th>location</th>\n",
       "      <th>RERA</th>\n",
       "      <th>projectname</th>\n",
       "    </tr>\n",
       "  </thead>\n",
       "  <tbody>\n",
       "    <tr>\n",
       "      <th>count</th>\n",
       "      <td>480</td>\n",
       "      <td>480</td>\n",
       "      <td>480</td>\n",
       "      <td>480</td>\n",
       "      <td>480</td>\n",
       "      <td>480</td>\n",
       "    </tr>\n",
       "    <tr>\n",
       "      <th>unique</th>\n",
       "      <td>3</td>\n",
       "      <td>42</td>\n",
       "      <td>2</td>\n",
       "      <td>69</td>\n",
       "      <td>2</td>\n",
       "      <td>77</td>\n",
       "    </tr>\n",
       "    <tr>\n",
       "      <th>top</th>\n",
       "      <td>Apartment</td>\n",
       "      <td>Anuhar Homes Pvt Ltd</td>\n",
       "      <td>Under Construction</td>\n",
       "      <td>Manikonda</td>\n",
       "      <td>approval by RERA</td>\n",
       "      <td>not mentioned</td>\n",
       "    </tr>\n",
       "    <tr>\n",
       "      <th>freq</th>\n",
       "      <td>414</td>\n",
       "      <td>97</td>\n",
       "      <td>363</td>\n",
       "      <td>101</td>\n",
       "      <td>350</td>\n",
       "      <td>50</td>\n",
       "    </tr>\n",
       "  </tbody>\n",
       "</table>\n",
       "</div>"
      ],
      "text/plain": [
       "       property_type                seller              status   location  \\\n",
       "count            480                   480                 480        480   \n",
       "unique             3                    42                   2         69   \n",
       "top        Apartment  Anuhar Homes Pvt Ltd  Under Construction  Manikonda   \n",
       "freq             414                    97                 363        101   \n",
       "\n",
       "                    RERA    projectname  \n",
       "count                480            480  \n",
       "unique                 2             77  \n",
       "top     approval by RERA  not mentioned  \n",
       "freq                 350             50  "
      ]
     },
     "execution_count": 38,
     "metadata": {},
     "output_type": "execute_result"
    }
   ],
   "source": [
    "df.describe(include=object)"
   ]
  },
  {
   "cell_type": "code",
   "execution_count": 39,
   "id": "3d079634",
   "metadata": {},
   "outputs": [
    {
     "data": {
      "text/plain": [
       "property_type      0\n",
       "seller             0\n",
       "status             0\n",
       "rate per sqft      0\n",
       "area               0\n",
       "location           0\n",
       "RERA               0\n",
       "BHK                0\n",
       "projectname        0\n",
       "price(in_lakhs)    0\n",
       "dtype: int64"
      ]
     },
     "execution_count": 39,
     "metadata": {},
     "output_type": "execute_result"
    }
   ],
   "source": [
    "df.isnull().sum()"
   ]
  },
  {
   "cell_type": "code",
   "execution_count": 40,
   "id": "be6509df",
   "metadata": {},
   "outputs": [
    {
     "data": {
      "text/plain": [
       "Index(['property_type', 'seller', 'status', 'rate per sqft', 'area',\n",
       "       'location', 'RERA', 'BHK', 'projectname', 'price(in_lakhs)'],\n",
       "      dtype='object')"
      ]
     },
     "execution_count": 40,
     "metadata": {},
     "output_type": "execute_result"
    }
   ],
   "source": [
    "df.columns"
   ]
  },
  {
   "cell_type": "code",
   "execution_count": 41,
   "id": "35de1514",
   "metadata": {},
   "outputs": [
    {
     "data": {
      "text/html": [
       "<div>\n",
       "<style scoped>\n",
       "    .dataframe tbody tr th:only-of-type {\n",
       "        vertical-align: middle;\n",
       "    }\n",
       "\n",
       "    .dataframe tbody tr th {\n",
       "        vertical-align: top;\n",
       "    }\n",
       "\n",
       "    .dataframe thead th {\n",
       "        text-align: right;\n",
       "    }\n",
       "</style>\n",
       "<table border=\"1\" class=\"dataframe\">\n",
       "  <thead>\n",
       "    <tr style=\"text-align: right;\">\n",
       "      <th></th>\n",
       "      <th>property_type</th>\n",
       "      <th>seller</th>\n",
       "      <th>status</th>\n",
       "      <th>rate per sqft</th>\n",
       "      <th>area</th>\n",
       "      <th>location</th>\n",
       "      <th>RERA</th>\n",
       "      <th>BHK</th>\n",
       "      <th>projectname</th>\n",
       "      <th>price(in_lakhs)</th>\n",
       "    </tr>\n",
       "  </thead>\n",
       "  <tbody>\n",
       "    <tr>\n",
       "      <th>0</th>\n",
       "      <td>Apartment</td>\n",
       "      <td>Riddhi Group</td>\n",
       "      <td>Ready to move</td>\n",
       "      <td>6300.0</td>\n",
       "      <td>1285</td>\n",
       "      <td>Puppalaguda</td>\n",
       "      <td>not approval by RERA</td>\n",
       "      <td>2</td>\n",
       "      <td>Riddhi Golden Nest</td>\n",
       "      <td>80.95</td>\n",
       "    </tr>\n",
       "    <tr>\n",
       "      <th>1</th>\n",
       "      <td>Apartment</td>\n",
       "      <td>Vajra Builders And Developers</td>\n",
       "      <td>Under Construction</td>\n",
       "      <td>4200.0</td>\n",
       "      <td>1535</td>\n",
       "      <td>Bowrampet</td>\n",
       "      <td>approval by RERA</td>\n",
       "      <td>3</td>\n",
       "      <td>Vajra The Royal Park</td>\n",
       "      <td>64.47</td>\n",
       "    </tr>\n",
       "    <tr>\n",
       "      <th>2</th>\n",
       "      <td>Villa</td>\n",
       "      <td>Saket Engineers Pvt Ltd</td>\n",
       "      <td>Under Construction</td>\n",
       "      <td>7749.0</td>\n",
       "      <td>3209</td>\n",
       "      <td>Kompally</td>\n",
       "      <td>approval by RERA</td>\n",
       "      <td>3</td>\n",
       "      <td>Saket Bhusatva Ph II</td>\n",
       "      <td>248.00</td>\n",
       "    </tr>\n",
       "    <tr>\n",
       "      <th>3</th>\n",
       "      <td>Apartment</td>\n",
       "      <td>Anuhar Homes Pvt Ltd</td>\n",
       "      <td>Under Construction</td>\n",
       "      <td>6350.0</td>\n",
       "      <td>1840</td>\n",
       "      <td>Manikonda</td>\n",
       "      <td>approval by RERA</td>\n",
       "      <td>3</td>\n",
       "      <td>Anuhar Towers</td>\n",
       "      <td>116.00</td>\n",
       "    </tr>\n",
       "    <tr>\n",
       "      <th>4</th>\n",
       "      <td>Apartment</td>\n",
       "      <td>Signature Avenues</td>\n",
       "      <td>Under Construction</td>\n",
       "      <td>4999.0</td>\n",
       "      <td>1900</td>\n",
       "      <td>Kollur</td>\n",
       "      <td>approval by RERA</td>\n",
       "      <td>3</td>\n",
       "      <td>Signature Altius</td>\n",
       "      <td>94.98</td>\n",
       "    </tr>\n",
       "    <tr>\n",
       "      <th>...</th>\n",
       "      <td>...</td>\n",
       "      <td>...</td>\n",
       "      <td>...</td>\n",
       "      <td>...</td>\n",
       "      <td>...</td>\n",
       "      <td>...</td>\n",
       "      <td>...</td>\n",
       "      <td>...</td>\n",
       "      <td>...</td>\n",
       "      <td>...</td>\n",
       "    </tr>\n",
       "    <tr>\n",
       "      <th>475</th>\n",
       "      <td>Apartment</td>\n",
       "      <td>seller</td>\n",
       "      <td>Ready to move</td>\n",
       "      <td>4621.0</td>\n",
       "      <td>1666</td>\n",
       "      <td>Bandlaguda Jagir</td>\n",
       "      <td>not approval by RERA</td>\n",
       "      <td>4</td>\n",
       "      <td>Swaraj Homes Kendriya Vihar Phase 3</td>\n",
       "      <td>77.00</td>\n",
       "    </tr>\n",
       "    <tr>\n",
       "      <th>476</th>\n",
       "      <td>Apartment</td>\n",
       "      <td>seller</td>\n",
       "      <td>Ready to move</td>\n",
       "      <td>6896.0</td>\n",
       "      <td>928</td>\n",
       "      <td>Rajendra Nagar</td>\n",
       "      <td>not approval by RERA</td>\n",
       "      <td>2</td>\n",
       "      <td>Provident Kenworth</td>\n",
       "      <td>64.00</td>\n",
       "    </tr>\n",
       "    <tr>\n",
       "      <th>477</th>\n",
       "      <td>Apartment</td>\n",
       "      <td>seller</td>\n",
       "      <td>Under Construction</td>\n",
       "      <td>4621.0</td>\n",
       "      <td>1201</td>\n",
       "      <td>Bandlaguda Jagir</td>\n",
       "      <td>not approval by RERA</td>\n",
       "      <td>3</td>\n",
       "      <td>not mentioned</td>\n",
       "      <td>55.50</td>\n",
       "    </tr>\n",
       "    <tr>\n",
       "      <th>478</th>\n",
       "      <td>Apartment</td>\n",
       "      <td>seller</td>\n",
       "      <td>Ready to move</td>\n",
       "      <td>6067.0</td>\n",
       "      <td>1236</td>\n",
       "      <td>Nagole</td>\n",
       "      <td>not approval by RERA</td>\n",
       "      <td>2</td>\n",
       "      <td>Spectra Metro Heights</td>\n",
       "      <td>75.00</td>\n",
       "    </tr>\n",
       "    <tr>\n",
       "      <th>479</th>\n",
       "      <td>Apartment</td>\n",
       "      <td>seller</td>\n",
       "      <td>Ready to move</td>\n",
       "      <td>5750.0</td>\n",
       "      <td>1200</td>\n",
       "      <td>Miyapur</td>\n",
       "      <td>not approval by RERA</td>\n",
       "      <td>3</td>\n",
       "      <td>Empire Meadows</td>\n",
       "      <td>69.00</td>\n",
       "    </tr>\n",
       "  </tbody>\n",
       "</table>\n",
       "<p>480 rows × 10 columns</p>\n",
       "</div>"
      ],
      "text/plain": [
       "    property_type                         seller              status  \\\n",
       "0       Apartment                   Riddhi Group       Ready to move   \n",
       "1       Apartment  Vajra Builders And Developers  Under Construction   \n",
       "2           Villa        Saket Engineers Pvt Ltd  Under Construction   \n",
       "3       Apartment           Anuhar Homes Pvt Ltd  Under Construction   \n",
       "4       Apartment              Signature Avenues  Under Construction   \n",
       "..            ...                            ...                 ...   \n",
       "475     Apartment                         seller       Ready to move   \n",
       "476     Apartment                         seller       Ready to move   \n",
       "477     Apartment                         seller  Under Construction   \n",
       "478     Apartment                         seller       Ready to move   \n",
       "479     Apartment                         seller       Ready to move   \n",
       "\n",
       "     rate per sqft  area          location                  RERA  BHK  \\\n",
       "0           6300.0  1285       Puppalaguda  not approval by RERA    2   \n",
       "1           4200.0  1535         Bowrampet      approval by RERA    3   \n",
       "2           7749.0  3209          Kompally      approval by RERA    3   \n",
       "3           6350.0  1840         Manikonda      approval by RERA    3   \n",
       "4           4999.0  1900            Kollur      approval by RERA    3   \n",
       "..             ...   ...               ...                   ...  ...   \n",
       "475         4621.0  1666  Bandlaguda Jagir  not approval by RERA    4   \n",
       "476         6896.0   928    Rajendra Nagar  not approval by RERA    2   \n",
       "477         4621.0  1201  Bandlaguda Jagir  not approval by RERA    3   \n",
       "478         6067.0  1236            Nagole  not approval by RERA    2   \n",
       "479         5750.0  1200           Miyapur  not approval by RERA    3   \n",
       "\n",
       "                             projectname  price(in_lakhs)  \n",
       "0                     Riddhi Golden Nest            80.95  \n",
       "1                   Vajra The Royal Park            64.47  \n",
       "2                   Saket Bhusatva Ph II           248.00  \n",
       "3                          Anuhar Towers           116.00  \n",
       "4                       Signature Altius            94.98  \n",
       "..                                   ...              ...  \n",
       "475  Swaraj Homes Kendriya Vihar Phase 3            77.00  \n",
       "476                   Provident Kenworth            64.00  \n",
       "477                        not mentioned            55.50  \n",
       "478                Spectra Metro Heights            75.00  \n",
       "479                       Empire Meadows            69.00  \n",
       "\n",
       "[480 rows x 10 columns]"
      ]
     },
     "execution_count": 41,
     "metadata": {},
     "output_type": "execute_result"
    }
   ],
   "source": [
    "df"
   ]
  },
  {
   "cell_type": "markdown",
   "id": "3aea1397",
   "metadata": {},
   "source": [
    "# DATA VISUALIZATION"
   ]
  },
  {
   "cell_type": "code",
   "execution_count": 42,
   "id": "5f373772",
   "metadata": {},
   "outputs": [],
   "source": [
    "import warnings\n",
    "warnings.filterwarnings('ignore')"
   ]
  },
  {
   "cell_type": "markdown",
   "id": "11ba43b1",
   "metadata": {},
   "source": [
    "# UNIVARIATE ANALYSIS"
   ]
  },
  {
   "cell_type": "markdown",
   "id": "e363fad3",
   "metadata": {},
   "source": [
    "# 1.count plot"
   ]
  },
  {
   "cell_type": "code",
   "execution_count": 43,
   "id": "2cfecddd",
   "metadata": {
    "scrolled": true
   },
   "outputs": [
    {
     "data": {
      "text/plain": [
       "(0.0, 500.0)"
      ]
     },
     "execution_count": 43,
     "metadata": {},
     "output_type": "execute_result"
    },
    {
     "data": {
      "image/png": "[encoded data removed]",
      "text/plain": [
       "<Figure size 432x288 with 1 Axes>"
      ]
     },
     "metadata": {
      "needs_background": "light"
     },
     "output_type": "display_data"
    }
   ],
   "source": [
    "sns.countplot(df['status'])\n",
    "plt.title('count plot of status')\n",
    "plt.ylim((0,500))"
   ]
  },
  {
   "cell_type": "code",
   "execution_count": 44,
   "id": "74d4b55c",
   "metadata": {},
   "outputs": [
    {
     "data": {
      "text/plain": [
       "Under Construction    363\n",
       "Ready to move         117\n",
       "Name: status, dtype: int64"
      ]
     },
     "execution_count": 44,
     "metadata": {},
     "output_type": "execute_result"
    }
   ],
   "source": [
    "df.status.value_counts()"
   ]
  },
  {
   "cell_type": "markdown",
   "id": "17b50fed",
   "metadata": {},
   "source": [
    "Observation : The most of houses are under construction "
   ]
  },
  {
   "cell_type": "code",
   "execution_count": 45,
   "id": "c3b967bd",
   "metadata": {},
   "outputs": [
    {
     "data": {
      "text/plain": [
       "Text(0.5, 1.0, 'count plot on BHK')"
      ]
     },
     "execution_count": 45,
     "metadata": {},
     "output_type": "execute_result"
    },
    {
     "data": {
      "image/png": "[encoded data removed]",
      "text/plain": [
       "<Figure size 432x288 with 1 Axes>"
      ]
     },
     "metadata": {
      "needs_background": "light"
     },
     "output_type": "display_data"
    }
   ],
   "source": [
    "sns.countplot(df['BHK'])\n",
    "plt.title('count plot on BHK')"
   ]
  },
  {
   "cell_type": "code",
   "execution_count": 46,
   "id": "acc45d57",
   "metadata": {},
   "outputs": [
    {
     "data": {
      "text/plain": [
       "3    278\n",
       "2    146\n",
       "4     48\n",
       "5      4\n",
       "7      2\n",
       "8      2\n",
       "Name: BHK, dtype: int64"
      ]
     },
     "execution_count": 46,
     "metadata": {},
     "output_type": "execute_result"
    }
   ],
   "source": [
    "df['BHK'].value_counts()"
   ]
  },
  {
   "cell_type": "markdown",
   "id": "43274cd3",
   "metadata": {},
   "source": [
    "The number of  3 BHK houses are more available"
   ]
  },
  {
   "cell_type": "code",
   "execution_count": 47,
   "id": "bd82efde",
   "metadata": {},
   "outputs": [
    {
     "data": {
      "text/plain": [
       "(0.0, 500.0)"
      ]
     },
     "execution_count": 47,
     "metadata": {},
     "output_type": "execute_result"
    },
    {
     "data": {
      "image/png": "[encoded data removed]",
      "text/plain": [
       "<Figure size 432x288 with 1 Axes>"
      ]
     },
     "metadata": {
      "needs_background": "light"
     },
     "output_type": "display_data"
    }
   ],
   "source": [
    "sns.countplot(df['property_type'])\n",
    "plt.title('count plot on property_type')\n",
    "plt.ylim((0,500))"
   ]
  },
  {
   "cell_type": "code",
   "execution_count": 48,
   "id": "3b8f2a44",
   "metadata": {},
   "outputs": [
    {
     "data": {
      "text/plain": [
       "Apartment      414\n",
       "Villa           44\n",
       "Independent     22\n",
       "Name: property_type, dtype: int64"
      ]
     },
     "execution_count": 48,
     "metadata": {},
     "output_type": "execute_result"
    }
   ],
   "source": [
    "df['property_type'].value_counts()"
   ]
  },
  {
   "cell_type": "markdown",
   "id": "f3c2336f",
   "metadata": {},
   "source": [
    "most of the houses are apartment type"
   ]
  },
  {
   "cell_type": "markdown",
   "id": "52acab9b",
   "metadata": {},
   "source": [
    "# 2.distribution plot"
   ]
  },
  {
   "cell_type": "code",
   "execution_count": 49,
   "id": "4b29c754",
   "metadata": {
    "scrolled": true
   },
   "outputs": [
    {
     "data": {
      "image/png": "[encoded data removed]",
      "text/plain": [
       "<Figure size 432x288 with 1 Axes>"
      ]
     },
     "metadata": {
      "needs_background": "light"
     },
     "output_type": "display_data"
    }
   ],
   "source": [
    "sns.distplot(df['price(in_lakhs)'],bins=10)\n",
    "plt.title('distribution plot on price')\n",
    "plt.show()"
   ]
  },
  {
   "cell_type": "code",
   "execution_count": 50,
   "id": "9137d91f",
   "metadata": {},
   "outputs": [
    {
     "data": {
      "text/plain": [
       "109.00    14\n",
       "116.00    11\n",
       "103.00     9\n",
       "107.00     8\n",
       "114.00     8\n",
       "          ..\n",
       "42.78      1\n",
       "38.98      1\n",
       "38.30      1\n",
       "37.84      1\n",
       "55.50      1\n",
       "Name: price(in_lakhs), Length: 279, dtype: int64"
      ]
     },
     "execution_count": 50,
     "metadata": {},
     "output_type": "execute_result"
    }
   ],
   "source": [
    "df['price(in_lakhs)'].value_counts()"
   ]
  },
  {
   "cell_type": "markdown",
   "id": "82f16f72",
   "metadata": {},
   "source": [
    "# 3.Box plot"
   ]
  },
  {
   "cell_type": "code",
   "execution_count": 51,
   "id": "6213c6fc",
   "metadata": {},
   "outputs": [
    {
     "data": {
      "image/png": "[encoded data removed]",
      "text/plain": [
       "<Figure size 432x288 with 1 Axes>"
      ]
     },
     "metadata": {
      "needs_background": "light"
     },
     "output_type": "display_data"
    }
   ],
   "source": [
    "plt.boxplot(df['rate per sqft'])\n",
    "plt.title('box plot on rate per sqft')\n",
    "plt.show()"
   ]
  },
  {
   "cell_type": "code",
   "execution_count": 52,
   "id": "2d50a911",
   "metadata": {},
   "outputs": [
    {
     "data": {
      "text/plain": [
       "6000.0     45\n",
       "6400.0     42\n",
       "5600.0     30\n",
       "6300.0     18\n",
       "5400.0     17\n",
       "           ..\n",
       "9009.0      1\n",
       "9666.0      1\n",
       "5705.0      1\n",
       "10344.0     1\n",
       "5750.0      1\n",
       "Name: rate per sqft, Length: 142, dtype: int64"
      ]
     },
     "execution_count": 52,
     "metadata": {},
     "output_type": "execute_result"
    }
   ],
   "source": [
    "df['rate per sqft'].value_counts()"
   ]
  },
  {
   "cell_type": "markdown",
   "id": "c39f2429",
   "metadata": {},
   "source": [
    "Observation: most of the values are spread between 0 and 20000"
   ]
  },
  {
   "cell_type": "markdown",
   "id": "cf3dd9e8",
   "metadata": {},
   "source": [
    "# 4.histogram"
   ]
  },
  {
   "cell_type": "code",
   "execution_count": 53,
   "id": "e6678e23",
   "metadata": {},
   "outputs": [
    {
     "data": {
      "image/png": "[encoded data removed]",
      "text/plain": [
       "<Figure size 864x432 with 1 Axes>"
      ]
     },
     "metadata": {
      "needs_background": "light"
     },
     "output_type": "display_data"
    }
   ],
   "source": [
    "df_ratepersqft=df[df['rate per sqft']<20000]\n",
    "plt.figure(figsize=(12,6))\n",
    "plt.hist(df_ratepersqft['rate per sqft'],bins=20,color='cyan',edgecolor='green')\n",
    "plt.xlim((0,20000))\n",
    "plt.ylim((0,300))\n",
    "plt.show()\n"
   ]
  },
  {
   "cell_type": "code",
   "execution_count": 54,
   "id": "b573d58d",
   "metadata": {},
   "outputs": [
    {
     "data": {
      "text/plain": [
       "6000.0     45\n",
       "6400.0     42\n",
       "5600.0     30\n",
       "6300.0     18\n",
       "5400.0     17\n",
       "           ..\n",
       "9009.0      1\n",
       "9666.0      1\n",
       "5705.0      1\n",
       "10344.0     1\n",
       "5750.0      1\n",
       "Name: rate per sqft, Length: 142, dtype: int64"
      ]
     },
     "execution_count": 54,
     "metadata": {},
     "output_type": "execute_result"
    }
   ],
   "source": [
    "df['rate per sqft'].value_counts()"
   ]
  },
  {
   "cell_type": "markdown",
   "id": "7bfde35f",
   "metadata": {},
   "source": [
    "Observation: most of houses have 6500 to 7500 rs/sqft"
   ]
  },
  {
   "cell_type": "markdown",
   "id": "2925bc63",
   "metadata": {},
   "source": [
    "# BIVARIATE ANALYSIS"
   ]
  },
  {
   "cell_type": "code",
   "execution_count": 55,
   "id": "1f508462",
   "metadata": {},
   "outputs": [
    {
     "data": {
      "text/html": [
       "<div>\n",
       "<style scoped>\n",
       "    .dataframe tbody tr th:only-of-type {\n",
       "        vertical-align: middle;\n",
       "    }\n",
       "\n",
       "    .dataframe tbody tr th {\n",
       "        vertical-align: top;\n",
       "    }\n",
       "\n",
       "    .dataframe thead th {\n",
       "        text-align: right;\n",
       "    }\n",
       "</style>\n",
       "<table border=\"1\" class=\"dataframe\">\n",
       "  <thead>\n",
       "    <tr style=\"text-align: right;\">\n",
       "      <th></th>\n",
       "      <th></th>\n",
       "      <th>price(in_lakhs)</th>\n",
       "    </tr>\n",
       "    <tr>\n",
       "      <th>property_type</th>\n",
       "      <th>BHK</th>\n",
       "      <th></th>\n",
       "    </tr>\n",
       "  </thead>\n",
       "  <tbody>\n",
       "    <tr>\n",
       "      <th rowspan=\"3\" valign=\"top\">Apartment</th>\n",
       "      <th>2</th>\n",
       "      <td>66.969568</td>\n",
       "    </tr>\n",
       "    <tr>\n",
       "      <th>3</th>\n",
       "      <td>115.533333</td>\n",
       "    </tr>\n",
       "    <tr>\n",
       "      <th>4</th>\n",
       "      <td>220.071429</td>\n",
       "    </tr>\n",
       "    <tr>\n",
       "      <th rowspan=\"5\" valign=\"top\">Independent</th>\n",
       "      <th>2</th>\n",
       "      <td>69.428571</td>\n",
       "    </tr>\n",
       "    <tr>\n",
       "      <th>3</th>\n",
       "      <td>156.600000</td>\n",
       "    </tr>\n",
       "    <tr>\n",
       "      <th>4</th>\n",
       "      <td>231.741667</td>\n",
       "    </tr>\n",
       "    <tr>\n",
       "      <th>7</th>\n",
       "      <td>227.500000</td>\n",
       "    </tr>\n",
       "    <tr>\n",
       "      <th>8</th>\n",
       "      <td>270.000000</td>\n",
       "    </tr>\n",
       "    <tr>\n",
       "      <th rowspan=\"3\" valign=\"top\">Villa</th>\n",
       "      <th>3</th>\n",
       "      <td>176.333333</td>\n",
       "    </tr>\n",
       "    <tr>\n",
       "      <th>4</th>\n",
       "      <td>396.862857</td>\n",
       "    </tr>\n",
       "    <tr>\n",
       "      <th>5</th>\n",
       "      <td>547.000000</td>\n",
       "    </tr>\n",
       "  </tbody>\n",
       "</table>\n",
       "</div>"
      ],
      "text/plain": [
       "                   price(in_lakhs)\n",
       "property_type BHK                 \n",
       "Apartment     2          66.969568\n",
       "              3         115.533333\n",
       "              4         220.071429\n",
       "Independent   2          69.428571\n",
       "              3         156.600000\n",
       "              4         231.741667\n",
       "              7         227.500000\n",
       "              8         270.000000\n",
       "Villa         3         176.333333\n",
       "              4         396.862857\n",
       "              5         547.000000"
      ]
     },
     "execution_count": 55,
     "metadata": {},
     "output_type": "execute_result"
    }
   ],
   "source": [
    "pd.pivot_table(data=df,index=['property_type','BHK'],values=['price(in_lakhs)'])"
   ]
  },
  {
   "cell_type": "markdown",
   "id": "136bc57a",
   "metadata": {},
   "source": [
    "# 1.Bar plot "
   ]
  },
  {
   "cell_type": "code",
   "execution_count": 56,
   "id": "afc01551",
   "metadata": {},
   "outputs": [
    {
     "data": {
      "image/png": "[encoded data removed]",
      "text/plain": [
       "<Figure size 432x288 with 1 Axes>"
      ]
     },
     "metadata": {
      "needs_background": "light"
     },
     "output_type": "display_data"
    }
   ],
   "source": [
    "sns.barplot(x='property_type',y='price(in_lakhs)',hue=\"BHK\",data=df)\n",
    "plt.title('bar plot between property type and price')\n",
    "plt.show()"
   ]
  },
  {
   "cell_type": "markdown",
   "id": "115af31c",
   "metadata": {},
   "source": [
    "# 2.Line chart"
   ]
  },
  {
   "cell_type": "code",
   "execution_count": 57,
   "id": "5cb9f06b",
   "metadata": {},
   "outputs": [
    {
     "data": {
      "image/png": "[encoded data removed]",
      "text/plain": [
       "<Figure size 432x288 with 1 Axes>"
      ]
     },
     "metadata": {
      "needs_background": "light"
     },
     "output_type": "display_data"
    }
   ],
   "source": [
    "sns.lineplot(x='BHK',y='price(in_lakhs)',data=df)\n",
    "plt.show()"
   ]
  },
  {
   "cell_type": "markdown",
   "id": "b6d98504",
   "metadata": {},
   "source": [
    "# 3.scatter plot"
   ]
  },
  {
   "cell_type": "code",
   "execution_count": 58,
   "id": "88e6e0ee",
   "metadata": {},
   "outputs": [
    {
     "data": {
      "image/png": "[encoded data removed]",
      "text/plain": [
       "<Figure size 432x288 with 1 Axes>"
      ]
     },
     "metadata": {
      "needs_background": "light"
     },
     "output_type": "display_data"
    }
   ],
   "source": [
    "plt.scatter(x='price(in_lakhs)',y='area',data=df)\n",
    "plt.show()"
   ]
  },
  {
   "cell_type": "markdown",
   "id": "2dcf0359",
   "metadata": {},
   "source": [
    "Observation : price and area are highly positively correlated"
   ]
  },
  {
   "cell_type": "markdown",
   "id": "3dde4eda",
   "metadata": {},
   "source": [
    "# 4.pair plot"
   ]
  },
  {
   "cell_type": "code",
   "execution_count": 59,
   "id": "deb09777",
   "metadata": {},
   "outputs": [
    {
     "data": {
      "image/png": "[encoded data removed]",
      "text/plain": [
       "<Figure size 819.25x720 with 20 Axes>"
      ]
     },
     "metadata": {
      "needs_background": "light"
     },
     "output_type": "display_data"
    }
   ],
   "source": [
    "sns.pairplot(data=df,hue='property_type')\n",
    "plt.show()"
   ]
  },
  {
   "cell_type": "markdown",
   "id": "5f8ee9c7",
   "metadata": {},
   "source": [
    "\n",
    "# comparing prices in some perticular locations"
   ]
  },
  {
   "cell_type": "code",
   "execution_count": 60,
   "id": "16c1fe3c",
   "metadata": {},
   "outputs": [],
   "source": [
    "loc=df['location'].value_counts()[0:10]"
   ]
  },
  {
   "cell_type": "code",
   "execution_count": 61,
   "id": "b4955f9a",
   "metadata": {},
   "outputs": [
    {
     "data": {
      "text/plain": [
       "Index(['Manikonda', 'Jeedimetla', 'Kollur', 'Yapral', 'Nizampet',\n",
       "       'Pragathi Nagar Kukatpally', 'Kompally', 'Serilingampally',\n",
       "       'Saroor Nagar', 'Manchirevula'],\n",
       "      dtype='object')"
      ]
     },
     "execution_count": 61,
     "metadata": {},
     "output_type": "execute_result"
    }
   ],
   "source": [
    "loc.index"
   ]
  },
  {
   "cell_type": "code",
   "execution_count": 62,
   "id": "06303b00",
   "metadata": {},
   "outputs": [],
   "source": [
    "df_loc=df[(df['location'].isin(loc.index))]"
   ]
  },
  {
   "cell_type": "code",
   "execution_count": 63,
   "id": "3c088b9d",
   "metadata": {},
   "outputs": [
    {
     "data": {
      "text/plain": [
       "(261, 10)"
      ]
     },
     "execution_count": 63,
     "metadata": {},
     "output_type": "execute_result"
    }
   ],
   "source": [
    "df_loc.shape"
   ]
  },
  {
   "cell_type": "code",
   "execution_count": 64,
   "id": "c2bffdfa",
   "metadata": {},
   "outputs": [
    {
     "data": {
      "text/html": [
       "<div>\n",
       "<style scoped>\n",
       "    .dataframe tbody tr th:only-of-type {\n",
       "        vertical-align: middle;\n",
       "    }\n",
       "\n",
       "    .dataframe tbody tr th {\n",
       "        vertical-align: top;\n",
       "    }\n",
       "\n",
       "    .dataframe thead th {\n",
       "        text-align: right;\n",
       "    }\n",
       "</style>\n",
       "<table border=\"1\" class=\"dataframe\">\n",
       "  <thead>\n",
       "    <tr style=\"text-align: right;\">\n",
       "      <th></th>\n",
       "      <th>location</th>\n",
       "    </tr>\n",
       "  </thead>\n",
       "  <tbody>\n",
       "    <tr>\n",
       "      <th>Manikonda</th>\n",
       "      <td>101</td>\n",
       "    </tr>\n",
       "    <tr>\n",
       "      <th>Jeedimetla</th>\n",
       "      <td>32</td>\n",
       "    </tr>\n",
       "    <tr>\n",
       "      <th>Kollur</th>\n",
       "      <td>25</td>\n",
       "    </tr>\n",
       "    <tr>\n",
       "      <th>Yapral</th>\n",
       "      <td>19</td>\n",
       "    </tr>\n",
       "    <tr>\n",
       "      <th>Nizampet</th>\n",
       "      <td>18</td>\n",
       "    </tr>\n",
       "    <tr>\n",
       "      <th>Pragathi Nagar Kukatpally</th>\n",
       "      <td>17</td>\n",
       "    </tr>\n",
       "    <tr>\n",
       "      <th>Kompally</th>\n",
       "      <td>13</td>\n",
       "    </tr>\n",
       "    <tr>\n",
       "      <th>Serilingampally</th>\n",
       "      <td>13</td>\n",
       "    </tr>\n",
       "    <tr>\n",
       "      <th>Saroor Nagar</th>\n",
       "      <td>12</td>\n",
       "    </tr>\n",
       "    <tr>\n",
       "      <th>Manchirevula</th>\n",
       "      <td>11</td>\n",
       "    </tr>\n",
       "  </tbody>\n",
       "</table>\n",
       "</div>"
      ],
      "text/plain": [
       "                           location\n",
       "Manikonda                       101\n",
       "Jeedimetla                       32\n",
       "Kollur                           25\n",
       "Yapral                           19\n",
       "Nizampet                         18\n",
       "Pragathi Nagar Kukatpally        17\n",
       "Kompally                         13\n",
       "Serilingampally                  13\n",
       "Saroor Nagar                     12\n",
       "Manchirevula                     11"
      ]
     },
     "execution_count": 64,
     "metadata": {},
     "output_type": "execute_result"
    }
   ],
   "source": [
    "df_loc['location'].value_counts().to_frame()"
   ]
  },
  {
   "cell_type": "code",
   "execution_count": 65,
   "id": "6fb4fbe3",
   "metadata": {},
   "outputs": [
    {
     "data": {
      "text/plain": [
       "<AxesSubplot:>"
      ]
     },
     "execution_count": 65,
     "metadata": {},
     "output_type": "execute_result"
    },
    {
     "data": {
      "image/png": "[encoded data removed]",
      "text/plain": [
       "<Figure size 432x288 with 1 Axes>"
      ]
     },
     "metadata": {
      "needs_background": "light"
     },
     "output_type": "display_data"
    }
   ],
   "source": [
    "df_loc['location'].value_counts().to_frame().plot(kind='bar')"
   ]
  },
  {
   "cell_type": "code",
   "execution_count": 66,
   "id": "eaceceba",
   "metadata": {},
   "outputs": [
    {
     "data": {
      "text/html": [
       "<div>\n",
       "<style scoped>\n",
       "    .dataframe tbody tr th:only-of-type {\n",
       "        vertical-align: middle;\n",
       "    }\n",
       "\n",
       "    .dataframe tbody tr th {\n",
       "        vertical-align: top;\n",
       "    }\n",
       "\n",
       "    .dataframe thead th {\n",
       "        text-align: right;\n",
       "    }\n",
       "</style>\n",
       "<table border=\"1\" class=\"dataframe\">\n",
       "  <thead>\n",
       "    <tr style=\"text-align: right;\">\n",
       "      <th></th>\n",
       "      <th></th>\n",
       "      <th>rate per sqft</th>\n",
       "    </tr>\n",
       "    <tr>\n",
       "      <th>location</th>\n",
       "      <th>BHK</th>\n",
       "      <th></th>\n",
       "    </tr>\n",
       "  </thead>\n",
       "  <tbody>\n",
       "    <tr>\n",
       "      <th rowspan=\"3\" valign=\"top\">Jeedimetla</th>\n",
       "      <th>2</th>\n",
       "      <td>5580.000000</td>\n",
       "    </tr>\n",
       "    <tr>\n",
       "      <th>3</th>\n",
       "      <td>5562.500000</td>\n",
       "    </tr>\n",
       "    <tr>\n",
       "      <th>4</th>\n",
       "      <td>5600.000000</td>\n",
       "    </tr>\n",
       "    <tr>\n",
       "      <th rowspan=\"2\" valign=\"top\">Kollur</th>\n",
       "      <th>2</th>\n",
       "      <td>4948.875000</td>\n",
       "    </tr>\n",
       "    <tr>\n",
       "      <th>3</th>\n",
       "      <td>5022.294118</td>\n",
       "    </tr>\n",
       "    <tr>\n",
       "      <th rowspan=\"2\" valign=\"top\">Kompally</th>\n",
       "      <th>2</th>\n",
       "      <td>4772.666667</td>\n",
       "    </tr>\n",
       "    <tr>\n",
       "      <th>3</th>\n",
       "      <td>5891.857143</td>\n",
       "    </tr>\n",
       "    <tr>\n",
       "      <th rowspan=\"2\" valign=\"top\">Manchirevula</th>\n",
       "      <th>2</th>\n",
       "      <td>6799.000000</td>\n",
       "    </tr>\n",
       "    <tr>\n",
       "      <th>3</th>\n",
       "      <td>6799.000000</td>\n",
       "    </tr>\n",
       "    <tr>\n",
       "      <th rowspan=\"2\" valign=\"top\">Manikonda</th>\n",
       "      <th>2</th>\n",
       "      <td>6098.111111</td>\n",
       "    </tr>\n",
       "    <tr>\n",
       "      <th>3</th>\n",
       "      <td>6245.310811</td>\n",
       "    </tr>\n",
       "    <tr>\n",
       "      <th rowspan=\"3\" valign=\"top\">Nizampet</th>\n",
       "      <th>2</th>\n",
       "      <td>5862.125000</td>\n",
       "    </tr>\n",
       "    <tr>\n",
       "      <th>3</th>\n",
       "      <td>6211.111111</td>\n",
       "    </tr>\n",
       "    <tr>\n",
       "      <th>4</th>\n",
       "      <td>4480.000000</td>\n",
       "    </tr>\n",
       "    <tr>\n",
       "      <th rowspan=\"2\" valign=\"top\">Pragathi Nagar Kukatpally</th>\n",
       "      <th>2</th>\n",
       "      <td>5513.833333</td>\n",
       "    </tr>\n",
       "    <tr>\n",
       "      <th>3</th>\n",
       "      <td>5650.000000</td>\n",
       "    </tr>\n",
       "    <tr>\n",
       "      <th rowspan=\"2\" valign=\"top\">Saroor Nagar</th>\n",
       "      <th>2</th>\n",
       "      <td>6500.000000</td>\n",
       "    </tr>\n",
       "    <tr>\n",
       "      <th>3</th>\n",
       "      <td>6500.500000</td>\n",
       "    </tr>\n",
       "    <tr>\n",
       "      <th>Serilingampally</th>\n",
       "      <th>3</th>\n",
       "      <td>7856.923077</td>\n",
       "    </tr>\n",
       "    <tr>\n",
       "      <th rowspan=\"3\" valign=\"top\">Yapral</th>\n",
       "      <th>2</th>\n",
       "      <td>5402.800000</td>\n",
       "    </tr>\n",
       "    <tr>\n",
       "      <th>3</th>\n",
       "      <td>5723.384615</td>\n",
       "    </tr>\n",
       "    <tr>\n",
       "      <th>4</th>\n",
       "      <td>5752.000000</td>\n",
       "    </tr>\n",
       "  </tbody>\n",
       "</table>\n",
       "</div>"
      ],
      "text/plain": [
       "                               rate per sqft\n",
       "location                  BHK               \n",
       "Jeedimetla                2      5580.000000\n",
       "                          3      5562.500000\n",
       "                          4      5600.000000\n",
       "Kollur                    2      4948.875000\n",
       "                          3      5022.294118\n",
       "Kompally                  2      4772.666667\n",
       "                          3      5891.857143\n",
       "Manchirevula              2      6799.000000\n",
       "                          3      6799.000000\n",
       "Manikonda                 2      6098.111111\n",
       "                          3      6245.310811\n",
       "Nizampet                  2      5862.125000\n",
       "                          3      6211.111111\n",
       "                          4      4480.000000\n",
       "Pragathi Nagar Kukatpally 2      5513.833333\n",
       "                          3      5650.000000\n",
       "Saroor Nagar              2      6500.000000\n",
       "                          3      6500.500000\n",
       "Serilingampally           3      7856.923077\n",
       "Yapral                    2      5402.800000\n",
       "                          3      5723.384615\n",
       "                          4      5752.000000"
      ]
     },
     "execution_count": 66,
     "metadata": {},
     "output_type": "execute_result"
    }
   ],
   "source": [
    "pd.pivot_table(data=df_loc,index=['location','BHK'],values=['rate per sqft'])"
   ]
  },
  {
   "cell_type": "code",
   "execution_count": 67,
   "id": "e9ddf99e",
   "metadata": {},
   "outputs": [
    {
     "data": {
      "text/plain": [
       "Text(0.5, 1.0, 'Bar plot Representation of locations')"
      ]
     },
     "execution_count": 67,
     "metadata": {},
     "output_type": "execute_result"
    },
    {
     "data": {
      "image/png": "[encoded data removed]",
      "text/plain": [
       "<Figure size 1296x432 with 1 Axes>"
      ]
     },
     "metadata": {
      "needs_background": "light"
     },
     "output_type": "display_data"
    }
   ],
   "source": [
    "#rate per sqft with BHK based on locations\n",
    "plt.figure(figsize=(18,6))\n",
    "sns.barplot(x='location', y='rate per sqft',hue='BHK' ,data=df_loc)\n",
    "plt.title('Bar plot Representation of locations')"
   ]
  },
  {
   "cell_type": "markdown",
   "id": "3781d0f2",
   "metadata": {},
   "source": [
    "observation : houses in kismatpur are more costly"
   ]
  },
  {
   "cell_type": "code",
   "execution_count": 68,
   "id": "4b5a1c45",
   "metadata": {},
   "outputs": [
    {
     "data": {
      "image/png": "[encoded data removed]",
      "text/plain": [
       "<Figure size 1080x504 with 1 Axes>"
      ]
     },
     "metadata": {
      "needs_background": "light"
     },
     "output_type": "display_data"
    }
   ],
   "source": [
    "plt.figure(figsize=(15,7))\n",
    "sns.boxplot(data=df_loc,x='location',y='price(in_lakhs)')\n",
    "plt.title('Boxplot Representation of locations')\n",
    "plt.show()"
   ]
  },
  {
   "cell_type": "markdown",
   "id": "ce9751ca",
   "metadata": {},
   "source": [
    " Observation : we can observe max and min cost of houses at each location"
   ]
  },
  {
   "cell_type": "code",
   "execution_count": 69,
   "id": "b6d43fe8",
   "metadata": {},
   "outputs": [
    {
     "data": {
      "text/html": [
       "<div>\n",
       "<style scoped>\n",
       "    .dataframe tbody tr th:only-of-type {\n",
       "        vertical-align: middle;\n",
       "    }\n",
       "\n",
       "    .dataframe tbody tr th {\n",
       "        vertical-align: top;\n",
       "    }\n",
       "\n",
       "    .dataframe thead th {\n",
       "        text-align: right;\n",
       "    }\n",
       "</style>\n",
       "<table border=\"1\" class=\"dataframe\">\n",
       "  <thead>\n",
       "    <tr style=\"text-align: right;\">\n",
       "      <th></th>\n",
       "      <th></th>\n",
       "      <th>price(in_lakhs)</th>\n",
       "    </tr>\n",
       "    <tr>\n",
       "      <th>location</th>\n",
       "      <th>property_type</th>\n",
       "      <th></th>\n",
       "    </tr>\n",
       "  </thead>\n",
       "  <tbody>\n",
       "    <tr>\n",
       "      <th>Jeedimetla</th>\n",
       "      <th>Apartment</th>\n",
       "      <td>106.172188</td>\n",
       "    </tr>\n",
       "    <tr>\n",
       "      <th>Kollur</th>\n",
       "      <th>Apartment</th>\n",
       "      <td>87.003600</td>\n",
       "    </tr>\n",
       "    <tr>\n",
       "      <th rowspan=\"2\" valign=\"top\">Kompally</th>\n",
       "      <th>Apartment</th>\n",
       "      <td>68.616000</td>\n",
       "    </tr>\n",
       "    <tr>\n",
       "      <th>Villa</th>\n",
       "      <td>235.666667</td>\n",
       "    </tr>\n",
       "    <tr>\n",
       "      <th>Manchirevula</th>\n",
       "      <th>Apartment</th>\n",
       "      <td>119.516364</td>\n",
       "    </tr>\n",
       "    <tr>\n",
       "      <th>Manikonda</th>\n",
       "      <th>Apartment</th>\n",
       "      <td>106.196139</td>\n",
       "    </tr>\n",
       "    <tr>\n",
       "      <th>Nizampet</th>\n",
       "      <th>Apartment</th>\n",
       "      <td>91.722222</td>\n",
       "    </tr>\n",
       "    <tr>\n",
       "      <th>Pragathi Nagar Kukatpally</th>\n",
       "      <th>Apartment</th>\n",
       "      <td>92.478235</td>\n",
       "    </tr>\n",
       "    <tr>\n",
       "      <th>Saroor Nagar</th>\n",
       "      <th>Apartment</th>\n",
       "      <td>122.215833</td>\n",
       "    </tr>\n",
       "    <tr>\n",
       "      <th>Serilingampally</th>\n",
       "      <th>Apartment</th>\n",
       "      <td>160.692308</td>\n",
       "    </tr>\n",
       "    <tr>\n",
       "      <th>Yapral</th>\n",
       "      <th>Apartment</th>\n",
       "      <td>106.617895</td>\n",
       "    </tr>\n",
       "  </tbody>\n",
       "</table>\n",
       "</div>"
      ],
      "text/plain": [
       "                                         price(in_lakhs)\n",
       "location                  property_type                 \n",
       "Jeedimetla                Apartment           106.172188\n",
       "Kollur                    Apartment            87.003600\n",
       "Kompally                  Apartment            68.616000\n",
       "                          Villa               235.666667\n",
       "Manchirevula              Apartment           119.516364\n",
       "Manikonda                 Apartment           106.196139\n",
       "Nizampet                  Apartment            91.722222\n",
       "Pragathi Nagar Kukatpally Apartment            92.478235\n",
       "Saroor Nagar              Apartment           122.215833\n",
       "Serilingampally           Apartment           160.692308\n",
       "Yapral                    Apartment           106.617895"
      ]
     },
     "execution_count": 69,
     "metadata": {},
     "output_type": "execute_result"
    }
   ],
   "source": [
    "pd.pivot_table(data=df_loc,index=['location','property_type'],values=['price(in_lakhs)'])"
   ]
  },
  {
   "cell_type": "markdown",
   "id": "8c101048",
   "metadata": {},
   "source": [
    "# Relation plot:"
   ]
  },
  {
   "cell_type": "code",
   "execution_count": 70,
   "id": "d8446eb4",
   "metadata": {},
   "outputs": [
    {
     "data": {
      "text/plain": [
       "<seaborn.axisgrid.FacetGrid at 0x1ee2d0b34c0>"
      ]
     },
     "execution_count": 70,
     "metadata": {},
     "output_type": "execute_result"
    },
    {
     "data": {
      "text/plain": [
       "<Figure size 432x288 with 0 Axes>"
      ]
     },
     "metadata": {},
     "output_type": "display_data"
    },
    {
     "data": {
      "image/png": "[encoded data removed]",
      "text/plain": [
       "<Figure size 449.25x360 with 1 Axes>"
      ]
     },
     "metadata": {
      "needs_background": "light"
     },
     "output_type": "display_data"
    }
   ],
   "source": [
    "plt.figure(figsize=(6,4))\n",
    "sns.relplot(x=\"area\",y=\"rate per sqft\",color='k',hue='property_type',data=df_loc)"
   ]
  },
  {
   "cell_type": "markdown",
   "id": "7360b55e",
   "metadata": {},
   "source": [
    "# heatmap:"
   ]
  },
  {
   "cell_type": "code",
   "execution_count": 71,
   "id": "24fca5dd",
   "metadata": {},
   "outputs": [
    {
     "data": {
      "image/png": "[encoded data removed]",
      "text/plain": [
       "<Figure size 432x288 with 2 Axes>"
      ]
     },
     "metadata": {
      "needs_background": "light"
     },
     "output_type": "display_data"
    }
   ],
   "source": [
    "sns.heatmap(df.corr(), annot=True)\n",
    "plt.show()"
   ]
  },
  {
   "cell_type": "code",
   "execution_count": 72,
   "id": "68c17d8a",
   "metadata": {},
   "outputs": [
    {
     "data": {
      "text/html": [
       "<div>\n",
       "<style scoped>\n",
       "    .dataframe tbody tr th:only-of-type {\n",
       "        vertical-align: middle;\n",
       "    }\n",
       "\n",
       "    .dataframe tbody tr th {\n",
       "        vertical-align: top;\n",
       "    }\n",
       "\n",
       "    .dataframe thead th {\n",
       "        text-align: right;\n",
       "    }\n",
       "</style>\n",
       "<table border=\"1\" class=\"dataframe\">\n",
       "  <thead>\n",
       "    <tr style=\"text-align: right;\">\n",
       "      <th></th>\n",
       "      <th>rate per sqft</th>\n",
       "      <th>area</th>\n",
       "      <th>BHK</th>\n",
       "      <th>price(in_lakhs)</th>\n",
       "    </tr>\n",
       "  </thead>\n",
       "  <tbody>\n",
       "    <tr>\n",
       "      <th>rate per sqft</th>\n",
       "      <td>1.000000</td>\n",
       "      <td>0.428636</td>\n",
       "      <td>0.335516</td>\n",
       "      <td>0.747695</td>\n",
       "    </tr>\n",
       "    <tr>\n",
       "      <th>area</th>\n",
       "      <td>0.428636</td>\n",
       "      <td>1.000000</td>\n",
       "      <td>0.705469</td>\n",
       "      <td>0.853716</td>\n",
       "    </tr>\n",
       "    <tr>\n",
       "      <th>BHK</th>\n",
       "      <td>0.335516</td>\n",
       "      <td>0.705469</td>\n",
       "      <td>1.000000</td>\n",
       "      <td>0.551500</td>\n",
       "    </tr>\n",
       "    <tr>\n",
       "      <th>price(in_lakhs)</th>\n",
       "      <td>0.747695</td>\n",
       "      <td>0.853716</td>\n",
       "      <td>0.551500</td>\n",
       "      <td>1.000000</td>\n",
       "    </tr>\n",
       "  </tbody>\n",
       "</table>\n",
       "</div>"
      ],
      "text/plain": [
       "                 rate per sqft      area       BHK  price(in_lakhs)\n",
       "rate per sqft         1.000000  0.428636  0.335516         0.747695\n",
       "area                  0.428636  1.000000  0.705469         0.853716\n",
       "BHK                   0.335516  0.705469  1.000000         0.551500\n",
       "price(in_lakhs)       0.747695  0.853716  0.551500         1.000000"
      ]
     },
     "execution_count": 72,
     "metadata": {},
     "output_type": "execute_result"
    }
   ],
   "source": [
    "df.corr()"
   ]
  },
  {
   "cell_type": "markdown",
   "id": "c9021576",
   "metadata": {},
   "source": [
    "# comparing rate by seller"
   ]
  },
  {
   "cell_type": "code",
   "execution_count": 73,
   "id": "8cd19bd9",
   "metadata": {},
   "outputs": [
    {
     "data": {
      "text/html": [
       "<div>\n",
       "<style scoped>\n",
       "    .dataframe tbody tr th:only-of-type {\n",
       "        vertical-align: middle;\n",
       "    }\n",
       "\n",
       "    .dataframe tbody tr th {\n",
       "        vertical-align: top;\n",
       "    }\n",
       "\n",
       "    .dataframe thead th {\n",
       "        text-align: right;\n",
       "    }\n",
       "</style>\n",
       "<table border=\"1\" class=\"dataframe\">\n",
       "  <thead>\n",
       "    <tr style=\"text-align: right;\">\n",
       "      <th></th>\n",
       "      <th>seller</th>\n",
       "    </tr>\n",
       "  </thead>\n",
       "  <tbody>\n",
       "    <tr>\n",
       "      <th>Anuhar Homes Pvt Ltd</th>\n",
       "      <td>97</td>\n",
       "    </tr>\n",
       "    <tr>\n",
       "      <th>Riddhi Group</th>\n",
       "      <td>22</td>\n",
       "    </tr>\n",
       "    <tr>\n",
       "      <th>Maaruthi Group</th>\n",
       "      <td>16</td>\n",
       "    </tr>\n",
       "    <tr>\n",
       "      <th>G K Constructions</th>\n",
       "      <td>14</td>\n",
       "    </tr>\n",
       "    <tr>\n",
       "      <th>Vazhraa Nirmaan Pvt Ltd</th>\n",
       "      <td>14</td>\n",
       "    </tr>\n",
       "    <tr>\n",
       "      <th>Candeur Developers And Builders</th>\n",
       "      <td>13</td>\n",
       "    </tr>\n",
       "    <tr>\n",
       "      <th>Aavasa Constructions</th>\n",
       "      <td>11</td>\n",
       "    </tr>\n",
       "    <tr>\n",
       "      <th>Hallmark Builders</th>\n",
       "      <td>11</td>\n",
       "    </tr>\n",
       "    <tr>\n",
       "      <th>Signature Avenues</th>\n",
       "      <td>10</td>\n",
       "    </tr>\n",
       "    <tr>\n",
       "      <th>Vasavi Group</th>\n",
       "      <td>10</td>\n",
       "    </tr>\n",
       "    <tr>\n",
       "      <th>seller</th>\n",
       "      <td>10</td>\n",
       "    </tr>\n",
       "    <tr>\n",
       "      <th>Ira Reality</th>\n",
       "      <td>9</td>\n",
       "    </tr>\n",
       "    <tr>\n",
       "      <th>GHR Infra</th>\n",
       "      <td>6</td>\n",
       "    </tr>\n",
       "    <tr>\n",
       "      <th>Om Sree Builders And Developers</th>\n",
       "      <td>5</td>\n",
       "    </tr>\n",
       "    <tr>\n",
       "      <th>Saket Engineers Pvt Ltd</th>\n",
       "      <td>3</td>\n",
       "    </tr>\n",
       "    <tr>\n",
       "      <th>Beams And Columns Builders Private Limited</th>\n",
       "      <td>2</td>\n",
       "    </tr>\n",
       "    <tr>\n",
       "      <th>Primark Projects Pvt Ltd</th>\n",
       "      <td>2</td>\n",
       "    </tr>\n",
       "    <tr>\n",
       "      <th>Maruthi Developers</th>\n",
       "      <td>2</td>\n",
       "    </tr>\n",
       "    <tr>\n",
       "      <th>Primark Developers</th>\n",
       "      <td>2</td>\n",
       "    </tr>\n",
       "    <tr>\n",
       "      <th>Cozy Essence Builders</th>\n",
       "      <td>2</td>\n",
       "    </tr>\n",
       "  </tbody>\n",
       "</table>\n",
       "</div>"
      ],
      "text/plain": [
       "                                            seller\n",
       "Anuhar Homes Pvt Ltd                            97\n",
       "Riddhi Group                                    22\n",
       "Maaruthi Group                                  16\n",
       "G K Constructions                               14\n",
       "Vazhraa Nirmaan Pvt Ltd                         14\n",
       "Candeur Developers And Builders                 13\n",
       "Aavasa Constructions                            11\n",
       "Hallmark Builders                               11\n",
       "Signature Avenues                               10\n",
       "Vasavi Group                                    10\n",
       "seller                                          10\n",
       "Ira Reality                                      9\n",
       "GHR Infra                                        6\n",
       "Om Sree Builders And Developers                  5\n",
       "Saket Engineers Pvt Ltd                          3\n",
       "Beams And Columns Builders Private Limited       2\n",
       "Primark Projects Pvt Ltd                         2\n",
       "Maruthi Developers                               2\n",
       "Primark Developers                               2\n",
       "Cozy Essence Builders                            2"
      ]
     },
     "execution_count": 73,
     "metadata": {},
     "output_type": "execute_result"
    }
   ],
   "source": [
    "df_loc['seller'].value_counts().to_frame()"
   ]
  },
  {
   "cell_type": "code",
   "execution_count": 74,
   "id": "7bc04f39",
   "metadata": {},
   "outputs": [
    {
     "data": {
      "text/plain": [
       "<AxesSubplot:>"
      ]
     },
     "execution_count": 74,
     "metadata": {},
     "output_type": "execute_result"
    },
    {
     "data": {
      "image/png": "[encoded data removed]",
      "text/plain": [
       "<Figure size 432x288 with 1 Axes>"
      ]
     },
     "metadata": {
      "needs_background": "light"
     },
     "output_type": "display_data"
    }
   ],
   "source": [
    "df_loc['seller'].value_counts().to_frame().plot(kind='bar')"
   ]
  },
  {
   "cell_type": "code",
   "execution_count": 75,
   "id": "9a483730",
   "metadata": {},
   "outputs": [
    {
     "data": {
      "image/png": "[encoded data removed]",
      "text/plain": [
       "<Figure size 432x288 with 1 Axes>"
      ]
     },
     "metadata": {
      "needs_background": "light"
     },
     "output_type": "display_data"
    }
   ],
   "source": [
    "df_loc.groupby('seller')['price(in_lakhs)'].max().to_frame().plot(kind='bar')\n",
    "plt.title('prices of houses by sellers')\n",
    "plt.show()"
   ]
  },
  {
   "cell_type": "markdown",
   "id": "6b8e2df7",
   "metadata": {},
   "source": [
    "Observation : the 'Vessella Group' is selling the houses for more prices"
   ]
  },
  {
   "cell_type": "code",
   "execution_count": 76,
   "id": "3ba0ff9e",
   "metadata": {},
   "outputs": [
    {
     "data": {
      "text/html": [
       "<div>\n",
       "<style scoped>\n",
       "    .dataframe tbody tr th:only-of-type {\n",
       "        vertical-align: middle;\n",
       "    }\n",
       "\n",
       "    .dataframe tbody tr th {\n",
       "        vertical-align: top;\n",
       "    }\n",
       "\n",
       "    .dataframe thead th {\n",
       "        text-align: right;\n",
       "    }\n",
       "</style>\n",
       "<table border=\"1\" class=\"dataframe\">\n",
       "  <thead>\n",
       "    <tr style=\"text-align: right;\">\n",
       "      <th></th>\n",
       "      <th>property_type</th>\n",
       "    </tr>\n",
       "    <tr>\n",
       "      <th>seller</th>\n",
       "      <th></th>\n",
       "    </tr>\n",
       "  </thead>\n",
       "  <tbody>\n",
       "    <tr>\n",
       "      <th>Aavasa Constructions</th>\n",
       "      <td>[Apartment]</td>\n",
       "    </tr>\n",
       "    <tr>\n",
       "      <th>Anuhar Homes Pvt Ltd</th>\n",
       "      <td>[Apartment]</td>\n",
       "    </tr>\n",
       "    <tr>\n",
       "      <th>Beams And Columns Builders Private Limited</th>\n",
       "      <td>[Apartment]</td>\n",
       "    </tr>\n",
       "    <tr>\n",
       "      <th>Candeur Developers And Builders</th>\n",
       "      <td>[Apartment]</td>\n",
       "    </tr>\n",
       "    <tr>\n",
       "      <th>Cozy Essence Builders</th>\n",
       "      <td>[Apartment]</td>\n",
       "    </tr>\n",
       "    <tr>\n",
       "      <th>G K Constructions</th>\n",
       "      <td>[Apartment]</td>\n",
       "    </tr>\n",
       "    <tr>\n",
       "      <th>GHR Infra</th>\n",
       "      <td>[Apartment]</td>\n",
       "    </tr>\n",
       "    <tr>\n",
       "      <th>Hallmark Builders</th>\n",
       "      <td>[Apartment]</td>\n",
       "    </tr>\n",
       "    <tr>\n",
       "      <th>Ira Reality</th>\n",
       "      <td>[Apartment]</td>\n",
       "    </tr>\n",
       "    <tr>\n",
       "      <th>Maaruthi Group</th>\n",
       "      <td>[Apartment]</td>\n",
       "    </tr>\n",
       "    <tr>\n",
       "      <th>Maruthi Developers</th>\n",
       "      <td>[Apartment]</td>\n",
       "    </tr>\n",
       "    <tr>\n",
       "      <th>Om Sree Builders And Developers</th>\n",
       "      <td>[Apartment]</td>\n",
       "    </tr>\n",
       "    <tr>\n",
       "      <th>Primark Developers</th>\n",
       "      <td>[Apartment]</td>\n",
       "    </tr>\n",
       "    <tr>\n",
       "      <th>Primark Projects Pvt Ltd</th>\n",
       "      <td>[Apartment]</td>\n",
       "    </tr>\n",
       "    <tr>\n",
       "      <th>Riddhi Group</th>\n",
       "      <td>[Apartment]</td>\n",
       "    </tr>\n",
       "    <tr>\n",
       "      <th>Saket Engineers Pvt Ltd</th>\n",
       "      <td>[Villa]</td>\n",
       "    </tr>\n",
       "    <tr>\n",
       "      <th>Signature Avenues</th>\n",
       "      <td>[Apartment]</td>\n",
       "    </tr>\n",
       "    <tr>\n",
       "      <th>Vasavi Group</th>\n",
       "      <td>[Apartment]</td>\n",
       "    </tr>\n",
       "    <tr>\n",
       "      <th>Vazhraa Nirmaan Pvt Ltd</th>\n",
       "      <td>[Apartment]</td>\n",
       "    </tr>\n",
       "    <tr>\n",
       "      <th>seller</th>\n",
       "      <td>[Apartment]</td>\n",
       "    </tr>\n",
       "  </tbody>\n",
       "</table>\n",
       "</div>"
      ],
      "text/plain": [
       "                                           property_type\n",
       "seller                                                  \n",
       "Aavasa Constructions                         [Apartment]\n",
       "Anuhar Homes Pvt Ltd                         [Apartment]\n",
       "Beams And Columns Builders Private Limited   [Apartment]\n",
       "Candeur Developers And Builders              [Apartment]\n",
       "Cozy Essence Builders                        [Apartment]\n",
       "G K Constructions                            [Apartment]\n",
       "GHR Infra                                    [Apartment]\n",
       "Hallmark Builders                            [Apartment]\n",
       "Ira Reality                                  [Apartment]\n",
       "Maaruthi Group                               [Apartment]\n",
       "Maruthi Developers                           [Apartment]\n",
       "Om Sree Builders And Developers              [Apartment]\n",
       "Primark Developers                           [Apartment]\n",
       "Primark Projects Pvt Ltd                     [Apartment]\n",
       "Riddhi Group                                 [Apartment]\n",
       "Saket Engineers Pvt Ltd                          [Villa]\n",
       "Signature Avenues                            [Apartment]\n",
       "Vasavi Group                                 [Apartment]\n",
       "Vazhraa Nirmaan Pvt Ltd                      [Apartment]\n",
       "seller                                       [Apartment]"
      ]
     },
     "execution_count": 76,
     "metadata": {},
     "output_type": "execute_result"
    }
   ],
   "source": [
    "df_loc.groupby('seller')['property_type'].unique().to_frame()"
   ]
  },
  {
   "cell_type": "markdown",
   "id": "e2b3df13",
   "metadata": {},
   "source": [
    "# Bubble plot:"
   ]
  },
  {
   "cell_type": "code",
   "execution_count": 77,
   "id": "48b0e7d9",
   "metadata": {},
   "outputs": [
    {
     "data": {
      "text/plain": [
       "Text(0.5, 1.0, 'Bubble plot of area / rate per sqft of sellers in locations')"
      ]
     },
     "execution_count": 77,
     "metadata": {},
     "output_type": "execute_result"
    },
    {
     "data": {
      "image/png": "[encoded data removed]",
      "text/plain": [
       "<Figure size 576x432 with 1 Axes>"
      ]
     },
     "metadata": {
      "needs_background": "light"
     },
     "output_type": "display_data"
    }
   ],
   "source": [
    "plt.figure(figsize=(8,6))\n",
    "sns.scatterplot(x='area', y='rate per sqft',size='seller', hue='location',sizes=(300,500),alpha=1.0,\n",
    "                data=df_loc)\n",
    "plt.title('Bubble plot of area / rate per sqft of sellers in locations')"
   ]
  },
  {
   "cell_type": "code",
   "execution_count": null,
   "id": "ab58bb10",
   "metadata": {},
   "outputs": [],
   "source": []
  },
  {
   "cell_type": "code",
   "execution_count": null,
   "id": "ba5a4535",
   "metadata": {},
   "outputs": [],
   "source": []
  }
 ],
 "metadata": {
  "kernelspec": {
   "display_name": "Python 3 (ipykernel)",
   "language": "python",
   "name": "python3"
  },
  "language_info": {
   "codemirror_mode": {
    "name": "ipython",
    "version": 3
   },
   "file_extension": ".py",
   "mimetype": "text/x-python",
   "name": "python",
   "nbconvert_exporter": "python",
   "pygments_lexer": "ipython3",
   "version": "3.9.7"
  }
 },
 "nbformat": 4,
 "nbformat_minor": 5
}
