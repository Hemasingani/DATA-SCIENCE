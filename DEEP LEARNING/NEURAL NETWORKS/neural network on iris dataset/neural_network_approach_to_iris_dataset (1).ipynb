{
 "cells": [
  {
   "cell_type": "markdown",
   "metadata": {
    "_cell_guid": "387eb544-e77d-45fe-b1a0-5fdce0aee8c8",
    "_uuid": "c3c657b1d685ccee6eb120aca64c61590f297646",
    "id": "i2fbO0GR0YwV"
   },
   "source": [
    "**An approach of Neural Network to predict Iris Species**\n",
    "\n",
    "This kernel uses single layer and multilayer perceptrons (Neural Network) to predict the species of the Iris dataset.Neural network is a machine learning algorithm which is inspired by a neuron.\n",
    "\n",
    "\n",
    "A neuron consists of a dendrite and an axon which are responsible for collecting and sending signals. For our artificial neural network, the concept works similar in which a lot of neurons are connected to each layer with its own corresponding weight and biases.\n",
    "\n",
    "Although there are currently architecture of neural network, multilayer perceptron is being used as the architecture to prevent overfitting(training accuracy=good but test accuracy=bad)  to the Iris Species due to less feature."
   ]
  },
  {
   "cell_type": "code",
   "execution_count": 1,
   "metadata": {
    "_cell_guid": "e97115b6-d0ee-44d7-b8cb-fbb28713e9c9",
    "_execution_state": "idle",
    "_uuid": "19970a38afe99ae032e4fe897a1cdadbc1445c5e",
    "id": "EFDOSZTK0YwZ"
   },
   "outputs": [],
   "source": [
    "#Import required libraries \n",
    "import keras #library for neural network\n",
    "import pandas as pd #loading data in table form  \n",
    "import seaborn as sns #visualisation \n",
    "import matplotlib.pyplot as plt #visualisation\n",
    "import numpy as np # linear algebra\n",
    "import pandas as pd # data processing, CSV file I/O (e.g. pd.read_csv)\n",
    "from sklearn.preprocessing import normalize #machine learning algorithm library"
   ]
  },
  {
   "cell_type": "code",
   "execution_count": 2,
   "metadata": {
    "_cell_guid": "7baa3b65-788f-419b-8981-eaeb21e71e70",
    "_execution_state": "idle",
    "_uuid": "2514ae5b171fa72efc6e0ef4848d45abed4feec3",
    "colab": {
     "base_uri": "https://localhost:8080/"
    },
    "id": "LTfg4enf0Ywh",
    "outputId": "53fc1bf7-808d-4c97-927e-2e42ea532957"
   },
   "outputs": [
    {
     "name": "stdout",
     "output_type": "stream",
     "text": [
      "Describing the data:                 Id  SepalLengthCm  SepalWidthCm  PetalLengthCm  PetalWidthCm\n",
      "count  150.000000     150.000000    150.000000     150.000000    150.000000\n",
      "mean    75.500000       5.843333      3.054000       3.758667      1.198667\n",
      "std     43.445368       0.828066      0.433594       1.764420      0.763161\n",
      "min      1.000000       4.300000      2.000000       1.000000      0.100000\n",
      "25%     38.250000       5.100000      2.800000       1.600000      0.300000\n",
      "50%     75.500000       5.800000      3.000000       4.350000      1.300000\n",
      "75%    112.750000       6.400000      3.300000       5.100000      1.800000\n",
      "max    150.000000       7.900000      4.400000       6.900000      2.500000\n",
      "<class 'pandas.core.frame.DataFrame'>\n",
      "RangeIndex: 150 entries, 0 to 149\n",
      "Data columns (total 6 columns):\n",
      " #   Column         Non-Null Count  Dtype  \n",
      "---  ------         --------------  -----  \n",
      " 0   Id             150 non-null    int64  \n",
      " 1   SepalLengthCm  150 non-null    float64\n",
      " 2   SepalWidthCm   150 non-null    float64\n",
      " 3   PetalLengthCm  150 non-null    float64\n",
      " 4   PetalWidthCm   150 non-null    float64\n",
      " 5   Species        150 non-null    object \n",
      "dtypes: float64(4), int64(1), object(1)\n",
      "memory usage: 7.2+ KB\n",
      "Info of the data: None\n"
     ]
    }
   ],
   "source": [
    "#Reading data \n",
    "data=pd.read_csv(\"/content/Iris.csv\")\n",
    "print(\"Describing the data: \",data.describe())\n",
    "print(\"Info of the data:\",data.info())"
   ]
  },
  {
   "cell_type": "code",
   "execution_count": 3,
   "metadata": {
    "_cell_guid": "6ebc83c0-54f5-4747-aaed-d1733d3eb1f9",
    "_uuid": "8a7ca38afc989effe0ca6662526412a33348f1c5",
    "colab": {
     "base_uri": "https://localhost:8080/"
    },
    "id": "h5Rw-oIW0Ywi",
    "outputId": "1eaf3f5d-ce32-46e4-ae48-aa898baabfd3"
   },
   "outputs": [
    {
     "name": "stdout",
     "output_type": "stream",
     "text": [
      "10 first samples of the dataset:    Id  SepalLengthCm  SepalWidthCm  PetalLengthCm  PetalWidthCm      Species\n",
      "0   1            5.1           3.5            1.4           0.2  Iris-setosa\n",
      "1   2            4.9           3.0            1.4           0.2  Iris-setosa\n",
      "2   3            4.7           3.2            1.3           0.2  Iris-setosa\n",
      "3   4            4.6           3.1            1.5           0.2  Iris-setosa\n",
      "4   5            5.0           3.6            1.4           0.2  Iris-setosa\n",
      "5   6            5.4           3.9            1.7           0.4  Iris-setosa\n",
      "6   7            4.6           3.4            1.4           0.3  Iris-setosa\n",
      "7   8            5.0           3.4            1.5           0.2  Iris-setosa\n",
      "8   9            4.4           2.9            1.4           0.2  Iris-setosa\n",
      "9  10            4.9           3.1            1.5           0.1  Iris-setosa\n",
      "10 last samples of the dataset:       Id  SepalLengthCm  SepalWidthCm  PetalLengthCm  PetalWidthCm  \\\n",
      "140  141            6.7           3.1            5.6           2.4   \n",
      "141  142            6.9           3.1            5.1           2.3   \n",
      "142  143            5.8           2.7            5.1           1.9   \n",
      "143  144            6.8           3.2            5.9           2.3   \n",
      "144  145            6.7           3.3            5.7           2.5   \n",
      "145  146            6.7           3.0            5.2           2.3   \n",
      "146  147            6.3           2.5            5.0           1.9   \n",
      "147  148            6.5           3.0            5.2           2.0   \n",
      "148  149            6.2           3.4            5.4           2.3   \n",
      "149  150            5.9           3.0            5.1           1.8   \n",
      "\n",
      "            Species  \n",
      "140  Iris-virginica  \n",
      "141  Iris-virginica  \n",
      "142  Iris-virginica  \n",
      "143  Iris-virginica  \n",
      "144  Iris-virginica  \n",
      "145  Iris-virginica  \n",
      "146  Iris-virginica  \n",
      "147  Iris-virginica  \n",
      "148  Iris-virginica  \n",
      "149  Iris-virginica  \n"
     ]
    }
   ],
   "source": [
    "print(\"10 first samples of the dataset:\",data.head(10))\n",
    "print(\"10 last samples of the dataset:\",data.tail(10))"
   ]
  },
  {
   "cell_type": "code",
   "execution_count": 4,
   "metadata": {
    "_cell_guid": "77f8b61d-32b9-4fd9-9757-d9d44922d035",
    "_uuid": "2b63e0792aa5700a71fe9b7747fa4def17a0e4d3",
    "colab": {
     "base_uri": "https://localhost:8080/"
    },
    "id": "uFO8ehSV0Ywp",
    "outputId": "9f842d3e-2316-4d6c-940b-b202f2a5e277"
   },
   "outputs": [
    {
     "name": "stdout",
     "output_type": "stream",
     "text": [
      "   Id  SepalLengthCm  SepalWidthCm  PetalLengthCm  PetalWidthCm Species\n",
      "0   1            5.1           3.5            1.4           0.2       0\n",
      "1   2            4.9           3.0            1.4           0.2       0\n",
      "2   3            4.7           3.2            1.3           0.2       0\n",
      "3   4            4.6           3.1            1.5           0.2       0\n",
      "4   5            5.0           3.6            1.4           0.2       0\n"
     ]
    }
   ],
   "source": [
    "data.loc[data[\"Species\"]==\"Iris-setosa\",\"Species\"]=0\n",
    "data.loc[data[\"Species\"]==\"Iris-versicolor\",\"Species\"]=1\n",
    "data.loc[data[\"Species\"]==\"Iris-virginica\",\"Species\"]=2\n",
    "print(data.head())"
   ]
  },
  {
   "cell_type": "code",
   "execution_count": 5,
   "metadata": {
    "_cell_guid": "8c3f20d0-2e81-4960-80e2-279975a427e7",
    "_uuid": "1d6426dc4b82c1a0cdde44bdd39e36d5068b0a9d",
    "colab": {
     "base_uri": "https://localhost:8080/"
    },
    "id": "3UqAwK4J0Ywq",
    "outputId": "f9036b1f-4fe5-4df6-ee05-b194b363f3d3"
   },
   "outputs": [
    {
     "name": "stdout",
     "output_type": "stream",
     "text": [
      "      Id  SepalLengthCm  SepalWidthCm  PetalLengthCm  PetalWidthCm Species\n",
      "5      6            5.4           3.9            1.7           0.4       0\n",
      "107  108            7.3           2.9            6.3           1.8       2\n",
      "15    16            5.7           4.4            1.5           0.4       0\n",
      "34    35            4.9           3.1            1.5           0.1       0\n",
      "16    17            5.4           3.9            1.3           0.4       0\n"
     ]
    }
   ],
   "source": [
    "data=data.iloc[np.random.permutation(len(data))]\n",
    "print(data.head())"
   ]
  },
  {
   "cell_type": "markdown",
   "metadata": {
    "_cell_guid": "96c0b24a-ef1d-44e7-872f-ce9065f4517f",
    "_uuid": "e9c7531857c15f4bcae71d1792e6ea2bddaf89c2",
    "id": "QTwnzBeD0Ywr"
   },
   "source": [
    "Converting data to numpy array in order for processing "
   ]
  },
  {
   "cell_type": "code",
   "execution_count": 6,
   "metadata": {
    "_cell_guid": "b622856d-5fb1-458b-b395-bde6fbcc456a",
    "_uuid": "2bd511b4c77f6bcb831b620f237256ecbe966a29",
    "colab": {
     "base_uri": "https://localhost:8080/"
    },
    "id": "gir6TRaO0Yws",
    "outputId": "13f940e4-9194-4c16-8e6d-12eda85735b4"
   },
   "outputs": [
    {
     "name": "stdout",
     "output_type": "stream",
     "text": [
      "Shape of X (150, 4)\n",
      "Shape of y (150,)\n",
      "Examples of X\n",
      " [[5.4 3.9 1.7 0.4]\n",
      " [7.3 2.9 6.3 1.8]\n",
      " [5.7 4.4 1.5 0.4]]\n",
      "Examples of y\n",
      " [0 2 0]\n"
     ]
    }
   ],
   "source": [
    "X=data.iloc[:,1:5].values\n",
    "y=data.iloc[:,5].values\n",
    "\n",
    "print(\"Shape of X\",X.shape)\n",
    "print(\"Shape of y\",y.shape)\n",
    "print(\"Examples of X\\n\",X[:3])\n",
    "print(\"Examples of y\\n\",y[:3])"
   ]
  },
  {
   "cell_type": "markdown",
   "metadata": {
    "_cell_guid": "962d57b5-aa84-4170-a1a9-adb5e9eceb2a",
    "_uuid": "e6c5feb4fb4fefedcd03fd691ec6fe6370ef7dfb",
    "id": "iMkJsB7b0Ywt"
   },
   "source": [
    "**Normalization**\n",
    "\n",
    "It can be seen from above that the feature of the first dataset has 6cm in Sepal Length, 3.4cm in Sepal Width, 4.5cm in Petal Length and 1.6cm in Petal Width. However, the range of the dataset may be different. Therefore, in order to maintain a good accuracy, the feature of each dataset must be normalized to a range of 0-1 for processing "
   ]
  },
  {
   "cell_type": "code",
   "execution_count": 7,
   "metadata": {
    "_cell_guid": "366e4a6e-82f1-4723-8e9f-d4c47e9a9cee",
    "_uuid": "c11d1eed202d7b2d79c256364de928777d982178",
    "colab": {
     "base_uri": "https://localhost:8080/"
    },
    "id": "LqnPonLB0Ywu",
    "outputId": "07b5409d-4bf9-4ba0-d39c-2b391e511719"
   },
   "outputs": [
    {
     "name": "stdout",
     "output_type": "stream",
     "text": [
      "Examples of X_normalised\n",
      " [[0.07471338 0.10323929 0.03344928 0.02300599]\n",
      " [0.10100143 0.07676768 0.12395908 0.10352695]\n",
      " [0.07886413 0.1164751  0.02951407 0.02300599]]\n"
     ]
    }
   ],
   "source": [
    "X_normalized=normalize(X,axis=0)\n",
    "print(\"Examples of X_normalised\\n\",X_normalized[:3])"
   ]
  },
  {
   "cell_type": "code",
   "execution_count": 8,
   "metadata": {
    "_cell_guid": "9dced524-d0c2-486e-8654-dfaee41ce3f5",
    "_uuid": "0eb1b785254354dddab0642cac16ebff9bb824bd",
    "colab": {
     "base_uri": "https://localhost:8080/"
    },
    "id": "6hw598KL0Ywv",
    "outputId": "96279424-c676-4d7d-c613-efa5fadf9cae"
   },
   "outputs": [
    {
     "name": "stdout",
     "output_type": "stream",
     "text": [
      "Length of train set x: 120 y: 120\n",
      "Length of test set x: 30 y: 30\n"
     ]
    }
   ],
   "source": [
    "#Creating train,test and validation data\n",
    "'''\n",
    "80% -- train data\n",
    "20% -- test data\n",
    "'''\n",
    "total_length=len(data)\n",
    "train_length=int(0.8*total_length)\n",
    "test_length=int(0.2*total_length)\n",
    "\n",
    "X_train=X_normalized[:train_length]\n",
    "X_test=X_normalized[train_length:]\n",
    "y_train=y[:train_length]\n",
    "y_test=y[train_length:]\n",
    "\n",
    "print(\"Length of train set x:\",X_train.shape[0],\"y:\",y_train.shape[0])\n",
    "print(\"Length of test set x:\",X_test.shape[0],\"y:\",y_test.shape[0])"
   ]
  },
  {
   "cell_type": "code",
   "execution_count": 9,
   "metadata": {
    "_cell_guid": "955494c5-3547-4f16-8cd4-c45fc4736c66",
    "_uuid": "e847b196b3d79e1aa11b1e6338a3300c6320cd5e",
    "collapsed": true,
    "id": "BiwyguLS0Yww"
   },
   "outputs": [],
   "source": [
    "#Neural network module\n",
    "from keras.models import Sequential \n",
    "from keras.layers import Dense,Activation  \n",
    "from keras.utils import np_utils"
   ]
  },
  {
   "cell_type": "code",
   "execution_count": 10,
   "metadata": {
    "_cell_guid": "82eae2e6-7369-4953-be41-725496a0c503",
    "_uuid": "4e43122514268433d653bf77e7b4ccbb8cd6e765",
    "colab": {
     "base_uri": "https://localhost:8080/"
    },
    "id": "moF5k30u0Yxp",
    "outputId": "3ca789cb-d727-4051-97aa-1c948dcd4e48"
   },
   "outputs": [
    {
     "name": "stdout",
     "output_type": "stream",
     "text": [
      "Shape of y_train (120, 3)\n",
      "Shape of y_test (30, 3)\n"
     ]
    }
   ],
   "source": [
    "#Change the label to one hot vector\n",
    "'''\n",
    "[0]--->[1 0 0]\n",
    "[1]--->[0 1 0]\n",
    "[2]--->[0 0 1]\n",
    "'''\n",
    "y_train=np_utils.to_categorical(y_train,num_classes=3)\n",
    "y_test=np_utils.to_categorical(y_test,num_classes=3)\n",
    "print(\"Shape of y_train\",y_train.shape)\n",
    "print(\"Shape of y_test\",y_test.shape)"
   ]
  },
  {
   "cell_type": "code",
   "execution_count": 11,
   "metadata": {
    "id": "Q5LG1vTC1vY3"
   },
   "outputs": [],
   "source": [
    "# # define the keras model\n",
    "# model = Sequential()\n",
    "# model.add(Dense(5, input_dim=4))\n",
    "# model.add(Dense(3, activation='softmax'))"
   ]
  },
  {
   "cell_type": "code",
   "execution_count": 12,
   "metadata": {
    "id": "PWLwU0JA37Ui"
   },
   "outputs": [],
   "source": [
    "# model.compile(loss='categorical_crossentropy', optimizer='adam', metrics=['accuracy'])"
   ]
  },
  {
   "cell_type": "code",
   "execution_count": 11,
   "metadata": {
    "_cell_guid": "b39b3da2-db3e-4fac-a9a2-625142f4c2dc",
    "_uuid": "5e05d8f7e756fb0fe25820ba0fe7c6b15fdc8d1e",
    "collapsed": true,
    "id": "-V7Jxi4v0Yxr"
   },
   "outputs": [],
   "source": [
    "model=Sequential()\n",
    "\n",
    "model.add(Dense(1000,input_dim=4))\n",
    "Dropout(0.2)\n",
    "model.add(Dense(500))\n",
    "model.add(Dense(300))\n",
    "\n",
    "model.add(Dense(3,activation='softmax'))\n",
    "\n",
    "\n",
    "model.compile(loss='categorical_crossentropy',optimizer='adam',metrics=['accuracy'])"
   ]
  },
  {
   "cell_type": "code",
   "execution_count": 12,
   "metadata": {
    "_cell_guid": "3e90b8a7-842d-457e-8615-c732425c8e70",
    "_uuid": "a308c53350dbaab53abe34c77aa7bceac39358eb",
    "colab": {
     "base_uri": "https://localhost:8080/"
    },
    "id": "SiXhPtmF0Yxs",
    "outputId": "7c62594d-b3e8-4269-8558-c3b34569543e"
   },
   "outputs": [
    {
     "name": "stdout",
     "output_type": "stream",
     "text": [
      "Model: \"sequential\"\n",
      "_________________________________________________________________\n",
      " Layer (type)                Output Shape              Param #   \n",
      "=================================================================\n",
      " dense (Dense)               (None, 1000)              5000      \n",
      "                                                                 \n",
      " dense_1 (Dense)             (None, 500)               500500    \n",
      "                                                                 \n",
      " dense_2 (Dense)             (None, 300)               150300    \n",
      "                                                                 \n",
      " dense_3 (Dense)             (None, 3)                 903       \n",
      "                                                                 \n",
      "=================================================================\n",
      "Total params: 656,703\n",
      "Trainable params: 656,703\n",
      "Non-trainable params: 0\n",
      "_________________________________________________________________\n"
     ]
    }
   ],
   "source": [
    "model.summary()"
   ]
  },
  {
   "cell_type": "code",
   "execution_count": 13,
   "metadata": {
    "_cell_guid": "9f9d7219-7a2d-405c-8e6c-c3097e5e7e06",
    "_uuid": "0b5ea6209168703be0e88e9a4b4a119eb21e896d",
    "colab": {
     "base_uri": "https://localhost:8080/"
    },
    "id": "5vLiinDz0Yxt",
    "outputId": "9ef6069f-522d-481f-8346-4d3ea0a3394a"
   },
   "outputs": [
    {
     "name": "stdout",
     "output_type": "stream",
     "text": [
      "Epoch 1/10\n",
      "Epoch 2/10\n",
      "Epoch 3/10\n",
      "Epoch 4/10\n",
      "Epoch 5/10\n",
      "Epoch 6/10\n",
      "Epoch 7/10\n",
      "Epoch 8/10\n",
      "Epoch 9/10\n",
      "Epoch 10/10\n"
     ]
    },
    {
     "data": {
      "text/plain": [
       "<keras.callbacks.History at 0x7f3d1a84b510>"
      ]
     },
     "execution_count": 13,
     "metadata": {},
     "output_type": "execute_result"
    }
   ],
   "source": [
    "model.fit(X_train,y_train,validation_data=(X_test,y_test),batch_size=20,epochs=10,verbose=77)"
   ]
  },
  {
   "cell_type": "code",
   "execution_count": 14,
   "metadata": {
    "_cell_guid": "4af03573-a9a6-4cc8-afab-d098659a38b0",
    "_uuid": "7f296969c0072a6be7417c5d020de83e24bd0084",
    "colab": {
     "base_uri": "https://localhost:8080/"
    },
    "id": "UrAUYyAy0Yxu",
    "outputId": "8d4760bc-2e7d-4651-d858-1d3b84333a47"
   },
   "outputs": [
    {
     "name": "stdout",
     "output_type": "stream",
     "text": [
      "Accuracy of the dataset 96.66666666666667\n"
     ]
    }
   ],
   "source": [
    "prediction=model.predict(X_test)\n",
    "length=len(prediction)\n",
    "y_label=np.argmax(y_test,axis=1)\n",
    "predict_label=np.argmax(prediction,axis=1)\n",
    "\n",
    "accuracy=np.sum(y_label==predict_label)/length * 100 \n",
    "print(\"Accuracy of the dataset\",accuracy )"
   ]
  },
  {
   "cell_type": "code",
   "execution_count": 16,
   "metadata": {
    "_cell_guid": "52532bef-70ad-4500-905d-a63ac20da4c7",
    "_uuid": "e55761033bce04b6026b94b1ffc8512b36ec3419",
    "collapsed": true,
    "id": "ck365PD70Yxw"
   },
   "outputs": [],
   "source": [
    "Pre-Trained Models"
   ]
  }
 ],
 "metadata": {
  "colab": {
   "collapsed_sections": [],
   "name": "neural-network-approach-to-iris-dataset.ipynb",
   "provenance": []
  },
  "kernelspec": {
   "display_name": "Python 3 (ipykernel)",
   "language": "python",
   "name": "python3"
  },
  "language_info": {
   "codemirror_mode": {
    "name": "ipython",
    "version": 3
   },
   "file_extension": ".py",
   "mimetype": "text/x-python",
   "name": "python",
   "nbconvert_exporter": "python",
   "pygments_lexer": "ipython3",
   "version": "3.9.7"
  }
 },
 "nbformat": 4,
 "nbformat_minor": 1
}
